{
 "cells": [
  {
   "cell_type": "code",
   "execution_count": 1,
   "metadata": {
    "colab": {
     "base_uri": "https://localhost:8080/",
     "height": 34
    },
    "colab_type": "code",
    "id": "fw3r5lQcMr89",
    "outputId": "45d821db-0675-4ff3-8a92-b5f39a34788b"
   },
   "outputs": [
    {
     "name": "stdout",
     "output_type": "stream",
     "text": [
      "Drive already mounted at /content/drive; to attempt to forcibly remount, call drive.mount(\"/content/drive\", force_remount=True).\n"
     ]
    }
   ],
   "source": [
    "from google.colab import drive\n",
    "drive.mount('/content/drive')"
   ]
  },
  {
   "cell_type": "code",
   "execution_count": 0,
   "metadata": {
    "colab": {},
    "colab_type": "code",
    "id": "bk4bbHdlMpbL"
   },
   "outputs": [],
   "source": [
    "import pandas as pd\n",
    "import numpy as np\n",
    "import os\n",
    "import matplotlib.pyplot as plt\n",
    "%matplotlib inline\n",
    "from sklearn import metrics\n",
    "from sklearn.model_selection import train_test_split\n",
    "from sklearn.metrics import mean_squared_error,r2_score\n",
    "from IPython.display import Image\n",
    "import glob\n",
    "import cv2\n",
    "import seaborn as sns"
   ]
  },
  {
   "cell_type": "markdown",
   "metadata": {
    "colab_type": "text",
    "id": "PapIMv8SMpbP"
   },
   "source": [
    "<h2>Utility Functions</h2>"
   ]
  },
  {
   "cell_type": "code",
   "execution_count": 0,
   "metadata": {
    "colab": {},
    "colab_type": "code",
    "id": "WsAL1CCMMpbQ"
   },
   "outputs": [],
   "source": [
    "# Encode text values to dummy variables(i.e. [1,0,0],[0,1,0],[0,0,1] for red,green,blue)\n",
    "def encode_text_dummy(df, name):\n",
    "    dummies = pd.get_dummies(df[name])\n",
    "    for x in dummies.columns:\n",
    "        dummy_name = \"{}-{}\".format(name, x)\n",
    "        df[dummy_name] = dummies[x]\n",
    "    df.drop(name, axis=1, inplace=True)\n",
    "\n",
    "# Encode a numeric column as zscores\n",
    "def encode_numeric_zscore(df, name, mean=None, sd=None):\n",
    "    if mean is None:\n",
    "        mean = df[name].mean()\n",
    "\n",
    "    if sd is None:\n",
    "        sd = df[name].std()\n",
    "\n",
    "    df[name] = (df[name] - mean) / sd\n",
    "\n",
    "    \n",
    "def get_outliers_row_idecies(df, name, sd):\n",
    "    outliers_row_indecies = df.index[(np.abs(df[name] - df[name].mean()) >= (sd * df[name].std()))]\n",
    "    return outliers_row_indecies\n",
    "\n",
    "# Regression chart.\n",
    "def chart_regression(pred,y,sort=True):\n",
    "    t = pd.DataFrame({'pred' : pred, 'y' : y.flatten()})\n",
    "    if sort:\n",
    "        t.sort_values(by=['y'],inplace=True)\n",
    "    a = plt.plot(t['y'].tolist(),label='expected')\n",
    "    b = plt.plot(t['pred'].tolist(),label='prediction')\n",
    "    plt.ylabel('output')\n",
    "    plt.legend()\n",
    "    plt.show()\n",
    "    \n",
    "\n",
    "def read_images(path_images='drive/My Drive/Colab Notebooks/Houses Dataset/'):\n",
    "    '''Loading images and creating Datafram'''\n",
    "    \n",
    "    img = pd.DataFrame()\n",
    "\n",
    "    #Bathroom Image\n",
    "    bathroom_images=[]\n",
    "    for number in range(1, 536):\n",
    "        for path in glob.glob(path_images + str(number) + \"_bathroom.jpg\"):\n",
    "            if os.path.isfile(path):\n",
    "                bathroom_images.append(path)\n",
    "\n",
    "    img['Bathroom_img'] = bathroom_images\n",
    "    \n",
    "    #Bedroom Image\n",
    "    bedroom_images=[]\n",
    "    for number in range(1, 536):\n",
    "        for path in glob.glob(path_images + str(number) + \"_bedroom.jpg\"):\n",
    "            if os.path.isfile(path):\n",
    "                bedroom_images.append(path)\n",
    "\n",
    "    img['Bedroom_img'] = bedroom_images\n",
    "    \n",
    "    #FrontalImage\n",
    "    frontal_images=[]\n",
    "    for number in range(1, 536):\n",
    "        for path in glob.glob(path_images + str(number) + \"_frontal.jpg\"):\n",
    "            if os.path.isfile(path):\n",
    "                frontal_images.append(path)\n",
    "\n",
    "    img['Frontal_img'] = frontal_images\n",
    "    \n",
    "    #Kitchen Image\n",
    "    kitchen_images=[]\n",
    "    for number in range(1, 536):\n",
    "        for path in glob.glob(path_images + str(number) + \"_kitchen.jpg\"):\n",
    "            if os.path.isfile(path):\n",
    "                kitchen_images.append(path)\n",
    "\n",
    "    img['Kitchen_img'] = kitchen_images\n",
    "    \n",
    "    return img\n",
    "\n",
    "\n",
    "\n",
    "def concate_images(img):\n",
    "    images_output=[]\n",
    "    for row_index,row in img.iterrows():\n",
    "        inputImages=[]\n",
    "        outputImage = np.zeros((128, 128, 3), dtype=\"uint8\")\n",
    "        image_temp1 = cv2.imread(row.Bathroom_img)\n",
    "        image1 = cv2.resize(image_temp1, (64 , 64))\n",
    "\n",
    "        image_temp2 = cv2.imread(row.Bedroom_img)\n",
    "        image2 = cv2.resize(image_temp2, (64 , 64))\n",
    "\n",
    "        image_temp3 = cv2.imread(row.Frontal_img)\n",
    "        image3 = cv2.resize(image_temp3, (64 , 64))\n",
    "\n",
    "        image_temp4 = cv2.imread(row.Kitchen_img)\n",
    "        image4 = cv2.resize(image_temp4, (64 , 64))\n",
    "\n",
    "        inputImages.append(image1)\n",
    "        inputImages.append(image2)\n",
    "        inputImages.append(image3)\n",
    "        inputImages.append(image4)\n",
    "\n",
    "        outputImage[0:64, 0:64] = inputImages[0]\n",
    "        outputImage[0:64, 64:128] = inputImages[1]\n",
    "        outputImage[64:128, 64:128] = inputImages[2]\n",
    "        outputImage[64:128, 0:64] = inputImages[3]\n",
    "\n",
    "\n",
    "        images_output.append(outputImage)\n",
    "    return images_output\n"
   ]
  },
  {
   "cell_type": "markdown",
   "metadata": {
    "colab_type": "text",
    "id": "xzebMfMhMpbS"
   },
   "source": [
    "<h2>Importing Textual Data and Preprocessing</h2>"
   ]
  },
  {
   "cell_type": "code",
   "execution_count": 0,
   "metadata": {
    "colab": {},
    "colab_type": "code",
    "id": "Uncv3MkLMpbS"
   },
   "outputs": [],
   "source": [
    "file_ = os.path.join('drive/My Drive/Colab Notebooks/Houses Dataset/HousesInfo.txt')"
   ]
  },
  {
   "cell_type": "code",
   "execution_count": 0,
   "metadata": {
    "colab": {},
    "colab_type": "code",
    "id": "ajINs6llMpbU"
   },
   "outputs": [],
   "source": [
    "cols = ['Bedrooms', 'Bathrooms', 'Area', 'Zipcode', 'Price']"
   ]
  },
  {
   "cell_type": "code",
   "execution_count": 0,
   "metadata": {
    "colab": {},
    "colab_type": "code",
    "id": "FGMRPDFFMpbW"
   },
   "outputs": [],
   "source": [
    "data = pd.read_csv(file_, sep=' ', header=None, names=cols, na_values=[None, 'NA', '-', ' '])"
   ]
  },
  {
   "cell_type": "code",
   "execution_count": 7,
   "metadata": {
    "colab": {
     "base_uri": "https://localhost:8080/",
     "height": 195
    },
    "colab_type": "code",
    "id": "vGOfvAMXMpbY",
    "outputId": "861fc1eb-c19e-4ccf-a9ea-72af93c1a795"
   },
   "outputs": [
    {
     "data": {
      "text/html": [
       "<div>\n",
       "<style scoped>\n",
       "    .dataframe tbody tr th:only-of-type {\n",
       "        vertical-align: middle;\n",
       "    }\n",
       "\n",
       "    .dataframe tbody tr th {\n",
       "        vertical-align: top;\n",
       "    }\n",
       "\n",
       "    .dataframe thead th {\n",
       "        text-align: right;\n",
       "    }\n",
       "</style>\n",
       "<table border=\"1\" class=\"dataframe\">\n",
       "  <thead>\n",
       "    <tr style=\"text-align: right;\">\n",
       "      <th></th>\n",
       "      <th>Bedrooms</th>\n",
       "      <th>Bathrooms</th>\n",
       "      <th>Area</th>\n",
       "      <th>Zipcode</th>\n",
       "      <th>Price</th>\n",
       "    </tr>\n",
       "  </thead>\n",
       "  <tbody>\n",
       "    <tr>\n",
       "      <th>0</th>\n",
       "      <td>4</td>\n",
       "      <td>4.0</td>\n",
       "      <td>4053</td>\n",
       "      <td>85255</td>\n",
       "      <td>869500</td>\n",
       "    </tr>\n",
       "    <tr>\n",
       "      <th>1</th>\n",
       "      <td>4</td>\n",
       "      <td>3.0</td>\n",
       "      <td>3343</td>\n",
       "      <td>36372</td>\n",
       "      <td>865200</td>\n",
       "    </tr>\n",
       "    <tr>\n",
       "      <th>2</th>\n",
       "      <td>3</td>\n",
       "      <td>4.0</td>\n",
       "      <td>3923</td>\n",
       "      <td>85266</td>\n",
       "      <td>889000</td>\n",
       "    </tr>\n",
       "    <tr>\n",
       "      <th>3</th>\n",
       "      <td>5</td>\n",
       "      <td>5.0</td>\n",
       "      <td>4022</td>\n",
       "      <td>85262</td>\n",
       "      <td>910000</td>\n",
       "    </tr>\n",
       "    <tr>\n",
       "      <th>4</th>\n",
       "      <td>3</td>\n",
       "      <td>4.0</td>\n",
       "      <td>4116</td>\n",
       "      <td>85266</td>\n",
       "      <td>971226</td>\n",
       "    </tr>\n",
       "  </tbody>\n",
       "</table>\n",
       "</div>"
      ],
      "text/plain": [
       "   Bedrooms  Bathrooms  Area  Zipcode   Price\n",
       "0         4        4.0  4053    85255  869500\n",
       "1         4        3.0  3343    36372  865200\n",
       "2         3        4.0  3923    85266  889000\n",
       "3         5        5.0  4022    85262  910000\n",
       "4         3        4.0  4116    85266  971226"
      ]
     },
     "execution_count": 7,
     "metadata": {
      "tags": []
     },
     "output_type": "execute_result"
    }
   ],
   "source": [
    "data.head()"
   ]
  },
  {
   "cell_type": "code",
   "execution_count": 8,
   "metadata": {
    "colab": {
     "base_uri": "https://localhost:8080/",
     "height": 34
    },
    "colab_type": "code",
    "id": "zCzaiqRjMpba",
    "outputId": "88e6fbac-cc50-4839-ca9e-1d3607f9cd92"
   },
   "outputs": [
    {
     "data": {
      "text/plain": [
       "(535, 5)"
      ]
     },
     "execution_count": 8,
     "metadata": {
      "tags": []
     },
     "output_type": "execute_result"
    }
   ],
   "source": [
    "data.shape"
   ]
  },
  {
   "cell_type": "code",
   "execution_count": 9,
   "metadata": {
    "colab": {
     "base_uri": "https://localhost:8080/",
     "height": 122
    },
    "colab_type": "code",
    "id": "l2ITH7hlMpbc",
    "outputId": "205dcf6f-9cbb-43ba-a6a7-4af52befaada"
   },
   "outputs": [
    {
     "data": {
      "text/plain": [
       "Bedrooms     0\n",
       "Bathrooms    0\n",
       "Area         0\n",
       "Zipcode      0\n",
       "Price        0\n",
       "dtype: int64"
      ]
     },
     "execution_count": 9,
     "metadata": {
      "tags": []
     },
     "output_type": "execute_result"
    }
   ],
   "source": [
    "data.isna().sum()"
   ]
  },
  {
   "cell_type": "markdown",
   "metadata": {
    "colab_type": "text",
    "id": "TfoEEvc3Mpbe"
   },
   "source": [
    "<h2>Importing and Preprocessing Image Data</h2>"
   ]
  },
  {
   "cell_type": "code",
   "execution_count": 0,
   "metadata": {
    "colab": {},
    "colab_type": "code",
    "id": "NGjEfvPOMpbe"
   },
   "outputs": [],
   "source": [
    "img = read_images()"
   ]
  },
  {
   "cell_type": "code",
   "execution_count": 11,
   "metadata": {
    "colab": {
     "base_uri": "https://localhost:8080/",
     "height": 34
    },
    "colab_type": "code",
    "id": "_dOhMgb6Mpbg",
    "outputId": "3ae768f6-a32c-48a0-bfac-893a3f894618"
   },
   "outputs": [
    {
     "data": {
      "text/plain": [
       "(535, 4)"
      ]
     },
     "execution_count": 11,
     "metadata": {
      "tags": []
     },
     "output_type": "execute_result"
    }
   ],
   "source": [
    "img.shape"
   ]
  },
  {
   "cell_type": "code",
   "execution_count": 12,
   "metadata": {
    "colab": {
     "base_uri": "https://localhost:8080/",
     "height": 195
    },
    "colab_type": "code",
    "id": "M6QDzCnPMpbi",
    "outputId": "08efc88d-6a99-459f-cf30-5a17667cae81"
   },
   "outputs": [
    {
     "data": {
      "text/html": [
       "<div>\n",
       "<style scoped>\n",
       "    .dataframe tbody tr th:only-of-type {\n",
       "        vertical-align: middle;\n",
       "    }\n",
       "\n",
       "    .dataframe tbody tr th {\n",
       "        vertical-align: top;\n",
       "    }\n",
       "\n",
       "    .dataframe thead th {\n",
       "        text-align: right;\n",
       "    }\n",
       "</style>\n",
       "<table border=\"1\" class=\"dataframe\">\n",
       "  <thead>\n",
       "    <tr style=\"text-align: right;\">\n",
       "      <th></th>\n",
       "      <th>Bathroom_img</th>\n",
       "      <th>Bedroom_img</th>\n",
       "      <th>Frontal_img</th>\n",
       "      <th>Kitchen_img</th>\n",
       "    </tr>\n",
       "  </thead>\n",
       "  <tbody>\n",
       "    <tr>\n",
       "      <th>0</th>\n",
       "      <td>drive/My Drive/Colab Notebooks/Houses Dataset/...</td>\n",
       "      <td>drive/My Drive/Colab Notebooks/Houses Dataset/...</td>\n",
       "      <td>drive/My Drive/Colab Notebooks/Houses Dataset/...</td>\n",
       "      <td>drive/My Drive/Colab Notebooks/Houses Dataset/...</td>\n",
       "    </tr>\n",
       "    <tr>\n",
       "      <th>1</th>\n",
       "      <td>drive/My Drive/Colab Notebooks/Houses Dataset/...</td>\n",
       "      <td>drive/My Drive/Colab Notebooks/Houses Dataset/...</td>\n",
       "      <td>drive/My Drive/Colab Notebooks/Houses Dataset/...</td>\n",
       "      <td>drive/My Drive/Colab Notebooks/Houses Dataset/...</td>\n",
       "    </tr>\n",
       "    <tr>\n",
       "      <th>2</th>\n",
       "      <td>drive/My Drive/Colab Notebooks/Houses Dataset/...</td>\n",
       "      <td>drive/My Drive/Colab Notebooks/Houses Dataset/...</td>\n",
       "      <td>drive/My Drive/Colab Notebooks/Houses Dataset/...</td>\n",
       "      <td>drive/My Drive/Colab Notebooks/Houses Dataset/...</td>\n",
       "    </tr>\n",
       "    <tr>\n",
       "      <th>3</th>\n",
       "      <td>drive/My Drive/Colab Notebooks/Houses Dataset/...</td>\n",
       "      <td>drive/My Drive/Colab Notebooks/Houses Dataset/...</td>\n",
       "      <td>drive/My Drive/Colab Notebooks/Houses Dataset/...</td>\n",
       "      <td>drive/My Drive/Colab Notebooks/Houses Dataset/...</td>\n",
       "    </tr>\n",
       "    <tr>\n",
       "      <th>4</th>\n",
       "      <td>drive/My Drive/Colab Notebooks/Houses Dataset/...</td>\n",
       "      <td>drive/My Drive/Colab Notebooks/Houses Dataset/...</td>\n",
       "      <td>drive/My Drive/Colab Notebooks/Houses Dataset/...</td>\n",
       "      <td>drive/My Drive/Colab Notebooks/Houses Dataset/...</td>\n",
       "    </tr>\n",
       "  </tbody>\n",
       "</table>\n",
       "</div>"
      ],
      "text/plain": [
       "                                        Bathroom_img  ...                                        Kitchen_img\n",
       "0  drive/My Drive/Colab Notebooks/Houses Dataset/...  ...  drive/My Drive/Colab Notebooks/Houses Dataset/...\n",
       "1  drive/My Drive/Colab Notebooks/Houses Dataset/...  ...  drive/My Drive/Colab Notebooks/Houses Dataset/...\n",
       "2  drive/My Drive/Colab Notebooks/Houses Dataset/...  ...  drive/My Drive/Colab Notebooks/Houses Dataset/...\n",
       "3  drive/My Drive/Colab Notebooks/Houses Dataset/...  ...  drive/My Drive/Colab Notebooks/Houses Dataset/...\n",
       "4  drive/My Drive/Colab Notebooks/Houses Dataset/...  ...  drive/My Drive/Colab Notebooks/Houses Dataset/...\n",
       "\n",
       "[5 rows x 4 columns]"
      ]
     },
     "execution_count": 12,
     "metadata": {
      "tags": []
     },
     "output_type": "execute_result"
    }
   ],
   "source": [
    "img.head()"
   ]
  },
  {
   "cell_type": "code",
   "execution_count": 0,
   "metadata": {
    "colab": {},
    "colab_type": "code",
    "id": "M1NfeniTMpbj"
   },
   "outputs": [],
   "source": [
    "images_combined = concate_images(img)"
   ]
  },
  {
   "cell_type": "code",
   "execution_count": 14,
   "metadata": {
    "colab": {
     "base_uri": "https://localhost:8080/",
     "height": 34
    },
    "colab_type": "code",
    "id": "Sy-Drsj8Mpbl",
    "outputId": "8f08d075-c776-4868-ebf5-0a770df0efd9"
   },
   "outputs": [
    {
     "data": {
      "text/plain": [
       "list"
      ]
     },
     "execution_count": 14,
     "metadata": {
      "tags": []
     },
     "output_type": "execute_result"
    }
   ],
   "source": [
    "type(images_combined)"
   ]
  },
  {
   "cell_type": "code",
   "execution_count": 15,
   "metadata": {
    "colab": {
     "base_uri": "https://localhost:8080/",
     "height": 1000
    },
    "colab_type": "code",
    "id": "Ug7HbQtaMpbn",
    "outputId": "79cc9bd4-1891-4b26-cbbf-b6109cb0c4d6"
   },
   "outputs": [
    {
     "data": {
      "image/png": "[encoded data removed]",
      "text/plain": [
       "<Figure size 576x576 with 1 Axes>"
      ]
     },
     "metadata": {
      "tags": []
     },
     "output_type": "display_data"
    },
    {
     "data": {
      "image/png": "[encoded data removed]",
      "text/plain": [
       "<Figure size 576x576 with 1 Axes>"
      ]
     },
     "metadata": {
      "tags": []
     },
     "output_type": "display_data"
    },
    {
     "data": {
      "image/png": "[encoded data removed]",
      "text/plain": [
       "<Figure size 576x576 with 1 Axes>"
      ]
     },
     "metadata": {
      "tags": []
     },
     "output_type": "display_data"
    }
   ],
   "source": [
    "i=0;\n",
    "for image in images_combined:\n",
    "    if i==3:\n",
    "        break\n",
    "    i += 1\n",
    "    plt.figure(figsize=(8,8))\n",
    "    plt.imshow(image, interpolation='nearest')\n",
    "    plt.show()"
   ]
  },
  {
   "cell_type": "code",
   "execution_count": 16,
   "metadata": {
    "colab": {
     "base_uri": "https://localhost:8080/",
     "height": 70
    },
    "colab_type": "code",
    "id": "XVHjy-cwMpbp",
    "outputId": "0c7cd19c-8ab9-45e0-da12-e65b48d7c5c6"
   },
   "outputs": [
    {
     "name": "stdout",
     "output_type": "stream",
     "text": [
      "<class 'numpy.ndarray'>\n",
      "float32\n"
     ]
    },
    {
     "data": {
      "text/plain": [
       "(535, 128, 128, 3)"
      ]
     },
     "execution_count": 16,
     "metadata": {
      "tags": []
     },
     "output_type": "execute_result"
    }
   ],
   "source": [
    "img_arr=np.asarray(images_combined).astype(np.float32)\n",
    "print(type(img_arr))\n",
    "print(img_arr.dtype)\n",
    "img_arr.shape"
   ]
  },
  {
   "cell_type": "markdown",
   "metadata": {
    "colab_type": "text",
    "id": "p4kZJvE-Mpbr"
   },
   "source": [
    "<h2>Finding Outliers for Price using Box Plot</h2>"
   ]
  },
  {
   "cell_type": "code",
   "execution_count": 17,
   "metadata": {
    "colab": {
     "base_uri": "https://localhost:8080/",
     "height": 301
    },
    "colab_type": "code",
    "id": "5sm4ZOAAMpbr",
    "outputId": "36916057-8aaa-4bf2-e337-0f2320854173"
   },
   "outputs": [
    {
     "data": {
      "text/plain": [
       "<matplotlib.axes._subplots.AxesSubplot at 0x7fd943d46ef0>"
      ]
     },
     "execution_count": 17,
     "metadata": {
      "tags": []
     },
     "output_type": "execute_result"
    },
    {
     "data": {
      "image/png": "[encoded data removed]",
      "text/plain": [
       "<Figure size 432x288 with 1 Axes>"
      ]
     },
     "metadata": {
      "tags": []
     },
     "output_type": "display_data"
    }
   ],
   "source": [
    "sns.boxplot(x=data['Price'])"
   ]
  },
  {
   "cell_type": "code",
   "execution_count": 18,
   "metadata": {
    "colab": {
     "base_uri": "https://localhost:8080/",
     "height": 34
    },
    "colab_type": "code",
    "id": "lbzfwHM0Mpbt",
    "outputId": "0413a808-70a6-452a-f2cd-0bf94a0b789e"
   },
   "outputs": [
    {
     "data": {
      "text/plain": [
       "509026.06764905644"
      ]
     },
     "execution_count": 18,
     "metadata": {
      "tags": []
     },
     "output_type": "execute_result"
    }
   ],
   "source": [
    "price_std = data.loc[:,'Price'].std()\n",
    "price_std"
   ]
  },
  {
   "cell_type": "code",
   "execution_count": 19,
   "metadata": {
    "colab": {
     "base_uri": "https://localhost:8080/",
     "height": 87
    },
    "colab_type": "code",
    "id": "Iy6im38MMpbv",
    "outputId": "48f27013-3d3c-49cd-d5bf-0d29c68697a8"
   },
   "outputs": [
    {
     "data": {
      "text/plain": [
       "Int64Index([  7,   8,   9,  20,  21,  23,  28,  33,  86, 109, 125, 130, 136,\n",
       "            148, 149, 150, 156, 168, 170, 172, 185, 186, 215, 216, 220, 223,\n",
       "            226, 255, 261, 266, 395, 421, 485, 499],\n",
       "           dtype='int64')"
      ]
     },
     "execution_count": 19,
     "metadata": {
      "tags": []
     },
     "output_type": "execute_result"
    }
   ],
   "source": [
    "outliers_row_indices = get_outliers_row_idecies(data,'Price',1.5)\n",
    "outliers_row_indices"
   ]
  },
  {
   "cell_type": "code",
   "execution_count": 0,
   "metadata": {
    "colab": {},
    "colab_type": "code",
    "id": "Bd37BCrJMpb1"
   },
   "outputs": [],
   "source": [
    "#removing outliers rows from data and img_arr\n",
    "data.drop(outliers_row_indices, axis=0, inplace=True)\n",
    "img_arr = np.delete(img_arr, outliers_row_indices, axis=0)"
   ]
  },
  {
   "cell_type": "code",
   "execution_count": 21,
   "metadata": {
    "colab": {
     "base_uri": "https://localhost:8080/",
     "height": 34
    },
    "colab_type": "code",
    "id": "ReVjdpJuMpb4",
    "outputId": "082b2cb0-bc38-4f5e-842b-7e78eb6d5aa0"
   },
   "outputs": [
    {
     "data": {
      "text/plain": [
       "((501, 5), (501, 128, 128, 3))"
      ]
     },
     "execution_count": 21,
     "metadata": {
      "tags": []
     },
     "output_type": "execute_result"
    }
   ],
   "source": [
    "data.shape, img_arr.shape"
   ]
  },
  {
   "cell_type": "markdown",
   "metadata": {
    "colab_type": "text",
    "id": "B9KOdb7BMpb7"
   },
   "source": [
    "<h2>Verifying Outliers are removed</h2>"
   ]
  },
  {
   "cell_type": "code",
   "execution_count": 22,
   "metadata": {
    "colab": {
     "base_uri": "https://localhost:8080/",
     "height": 301
    },
    "colab_type": "code",
    "id": "OpsBPmf3Mpb8",
    "outputId": "01806ce3-406e-418c-adc8-83da18c8ccb3"
   },
   "outputs": [
    {
     "data": {
      "text/plain": [
       "<matplotlib.axes._subplots.AxesSubplot at 0x7fd93fadcb00>"
      ]
     },
     "execution_count": 22,
     "metadata": {
      "tags": []
     },
     "output_type": "execute_result"
    },
    {
     "data": {
      "image/png": "[encoded data removed]",
      "text/plain": [
       "<Figure size 432x288 with 1 Axes>"
      ]
     },
     "metadata": {
      "tags": []
     },
     "output_type": "display_data"
    }
   ],
   "source": [
    "sns.boxplot(x=data['Price'])"
   ]
  },
  {
   "cell_type": "code",
   "execution_count": 23,
   "metadata": {
    "colab": {
     "base_uri": "https://localhost:8080/",
     "height": 34
    },
    "colab_type": "code",
    "id": "ElhrxWiNMpb-",
    "outputId": "a3cd4d50-29d6-4576-d2f5-40c13f3e002c"
   },
   "outputs": [
    {
     "data": {
      "text/plain": [
       "((501, 5), (501, 128, 128, 3))"
      ]
     },
     "execution_count": 23,
     "metadata": {
      "tags": []
     },
     "output_type": "execute_result"
    }
   ],
   "source": [
    "data.shape, img_arr.shape"
   ]
  },
  {
   "cell_type": "markdown",
   "metadata": {
    "colab_type": "text",
    "id": "wtRN6s4DMpb_"
   },
   "source": [
    "<h2>Seperating Input and Output Columns</h2>"
   ]
  },
  {
   "cell_type": "code",
   "execution_count": 0,
   "metadata": {
    "colab": {},
    "colab_type": "code",
    "id": "EogLmYstMpb_"
   },
   "outputs": [],
   "source": [
    "data_y = pd.DataFrame()\n",
    "data_y['Price'] = data['Price']"
   ]
  },
  {
   "cell_type": "code",
   "execution_count": 0,
   "metadata": {
    "colab": {},
    "colab_type": "code",
    "id": "basUMxsfMpcB"
   },
   "outputs": [],
   "source": [
    "data_x = data.drop(columns=['Price'], inplace=False)"
   ]
  },
  {
   "cell_type": "code",
   "execution_count": 26,
   "metadata": {
    "colab": {
     "base_uri": "https://localhost:8080/",
     "height": 195
    },
    "colab_type": "code",
    "id": "DhjlmI4JMpcC",
    "outputId": "3e5f0d24-ae31-4887-9caf-6355e09275ef"
   },
   "outputs": [
    {
     "data": {
      "text/html": [
       "<div>\n",
       "<style scoped>\n",
       "    .dataframe tbody tr th:only-of-type {\n",
       "        vertical-align: middle;\n",
       "    }\n",
       "\n",
       "    .dataframe tbody tr th {\n",
       "        vertical-align: top;\n",
       "    }\n",
       "\n",
       "    .dataframe thead th {\n",
       "        text-align: right;\n",
       "    }\n",
       "</style>\n",
       "<table border=\"1\" class=\"dataframe\">\n",
       "  <thead>\n",
       "    <tr style=\"text-align: right;\">\n",
       "      <th></th>\n",
       "      <th>Bedrooms</th>\n",
       "      <th>Bathrooms</th>\n",
       "      <th>Area</th>\n",
       "      <th>Zipcode</th>\n",
       "    </tr>\n",
       "  </thead>\n",
       "  <tbody>\n",
       "    <tr>\n",
       "      <th>0</th>\n",
       "      <td>4</td>\n",
       "      <td>4.0</td>\n",
       "      <td>4053</td>\n",
       "      <td>85255</td>\n",
       "    </tr>\n",
       "    <tr>\n",
       "      <th>1</th>\n",
       "      <td>4</td>\n",
       "      <td>3.0</td>\n",
       "      <td>3343</td>\n",
       "      <td>36372</td>\n",
       "    </tr>\n",
       "    <tr>\n",
       "      <th>2</th>\n",
       "      <td>3</td>\n",
       "      <td>4.0</td>\n",
       "      <td>3923</td>\n",
       "      <td>85266</td>\n",
       "    </tr>\n",
       "    <tr>\n",
       "      <th>3</th>\n",
       "      <td>5</td>\n",
       "      <td>5.0</td>\n",
       "      <td>4022</td>\n",
       "      <td>85262</td>\n",
       "    </tr>\n",
       "    <tr>\n",
       "      <th>4</th>\n",
       "      <td>3</td>\n",
       "      <td>4.0</td>\n",
       "      <td>4116</td>\n",
       "      <td>85266</td>\n",
       "    </tr>\n",
       "  </tbody>\n",
       "</table>\n",
       "</div>"
      ],
      "text/plain": [
       "   Bedrooms  Bathrooms  Area  Zipcode\n",
       "0         4        4.0  4053    85255\n",
       "1         4        3.0  3343    36372\n",
       "2         3        4.0  3923    85266\n",
       "3         5        5.0  4022    85262\n",
       "4         3        4.0  4116    85266"
      ]
     },
     "execution_count": 26,
     "metadata": {
      "tags": []
     },
     "output_type": "execute_result"
    }
   ],
   "source": [
    "data_x.head()"
   ]
  },
  {
   "cell_type": "code",
   "execution_count": 27,
   "metadata": {
    "colab": {
     "base_uri": "https://localhost:8080/",
     "height": 213
    },
    "colab_type": "code",
    "id": "FlLViWaWMpcE",
    "outputId": "907280f6-0185-46a6-9ba9-575b8f3a0b90"
   },
   "outputs": [
    {
     "name": "stdout",
     "output_type": "stream",
     "text": [
      "<class 'pandas.core.frame.DataFrame'>\n"
     ]
    },
    {
     "data": {
      "text/html": [
       "<div>\n",
       "<style scoped>\n",
       "    .dataframe tbody tr th:only-of-type {\n",
       "        vertical-align: middle;\n",
       "    }\n",
       "\n",
       "    .dataframe tbody tr th {\n",
       "        vertical-align: top;\n",
       "    }\n",
       "\n",
       "    .dataframe thead th {\n",
       "        text-align: right;\n",
       "    }\n",
       "</style>\n",
       "<table border=\"1\" class=\"dataframe\">\n",
       "  <thead>\n",
       "    <tr style=\"text-align: right;\">\n",
       "      <th></th>\n",
       "      <th>Price</th>\n",
       "    </tr>\n",
       "  </thead>\n",
       "  <tbody>\n",
       "    <tr>\n",
       "      <th>0</th>\n",
       "      <td>869500</td>\n",
       "    </tr>\n",
       "    <tr>\n",
       "      <th>1</th>\n",
       "      <td>865200</td>\n",
       "    </tr>\n",
       "    <tr>\n",
       "      <th>2</th>\n",
       "      <td>889000</td>\n",
       "    </tr>\n",
       "    <tr>\n",
       "      <th>3</th>\n",
       "      <td>910000</td>\n",
       "    </tr>\n",
       "    <tr>\n",
       "      <th>4</th>\n",
       "      <td>971226</td>\n",
       "    </tr>\n",
       "  </tbody>\n",
       "</table>\n",
       "</div>"
      ],
      "text/plain": [
       "    Price\n",
       "0  869500\n",
       "1  865200\n",
       "2  889000\n",
       "3  910000\n",
       "4  971226"
      ]
     },
     "execution_count": 27,
     "metadata": {
      "tags": []
     },
     "output_type": "execute_result"
    }
   ],
   "source": [
    "print(type(data_y))\n",
    "data_y.head()"
   ]
  },
  {
   "cell_type": "code",
   "execution_count": 28,
   "metadata": {
    "colab": {
     "base_uri": "https://localhost:8080/",
     "height": 34
    },
    "colab_type": "code",
    "id": "Mp0aL-f4MpcF",
    "outputId": "e4b29e66-e7b1-4572-d573-591d2ac9801e"
   },
   "outputs": [
    {
     "name": "stdout",
     "output_type": "stream",
     "text": [
      "1350000\n"
     ]
    }
   ],
   "source": [
    "max_price = data_y['Price'].max()\n",
    "print(max_price)"
   ]
  },
  {
   "cell_type": "markdown",
   "metadata": {
    "colab_type": "text",
    "id": "2SZ7mJqrMpcG"
   },
   "source": [
    "<h2>Data Normalization and One Hot Encoding for Textual Data</h2>"
   ]
  },
  {
   "cell_type": "code",
   "execution_count": 0,
   "metadata": {
    "colab": {},
    "colab_type": "code",
    "id": "PB6mmcgAMpcH"
   },
   "outputs": [],
   "source": [
    "#Applying z-score to numeric data\n",
    "encode_numeric_zscore(data_x,'Bedrooms')\n",
    "encode_numeric_zscore(data_x,'Bathrooms')\n",
    "encode_numeric_zscore(data_x,'Area')"
   ]
  },
  {
   "cell_type": "code",
   "execution_count": 30,
   "metadata": {
    "colab": {
     "base_uri": "https://localhost:8080/",
     "height": 34
    },
    "colab_type": "code",
    "id": "HvRN_CyHMpcI",
    "outputId": "23d315d0-acbf-4307-bd64-5390fd07aa2b"
   },
   "outputs": [
    {
     "data": {
      "text/plain": [
       "(501, 4)"
      ]
     },
     "execution_count": 30,
     "metadata": {
      "tags": []
     },
     "output_type": "execute_result"
    }
   ],
   "source": [
    "data_x.shape"
   ]
  },
  {
   "cell_type": "code",
   "execution_count": 0,
   "metadata": {
    "colab": {},
    "colab_type": "code",
    "id": "75cP2UQgMpcJ"
   },
   "outputs": [],
   "source": [
    "#Applying One-hot Encoding to Categorical Data\n",
    "encode_text_dummy(data_x,'Zipcode')"
   ]
  },
  {
   "cell_type": "code",
   "execution_count": 32,
   "metadata": {
    "colab": {
     "base_uri": "https://localhost:8080/",
     "height": 250
    },
    "colab_type": "code",
    "id": "d4_pZT_ZMpcL",
    "outputId": "da4f76d5-1973-4c41-c8e5-b028abab8740"
   },
   "outputs": [
    {
     "name": "stdout",
     "output_type": "stream",
     "text": [
      "(501, 49)\n"
     ]
    },
    {
     "data": {
      "text/html": [
       "<div>\n",
       "<style scoped>\n",
       "    .dataframe tbody tr th:only-of-type {\n",
       "        vertical-align: middle;\n",
       "    }\n",
       "\n",
       "    .dataframe tbody tr th {\n",
       "        vertical-align: top;\n",
       "    }\n",
       "\n",
       "    .dataframe thead th {\n",
       "        text-align: right;\n",
       "    }\n",
       "</style>\n",
       "<table border=\"1\" class=\"dataframe\">\n",
       "  <thead>\n",
       "    <tr style=\"text-align: right;\">\n",
       "      <th></th>\n",
       "      <th>Bedrooms</th>\n",
       "      <th>Bathrooms</th>\n",
       "      <th>Area</th>\n",
       "      <th>Zipcode-36372</th>\n",
       "      <th>Zipcode-60002</th>\n",
       "      <th>Zipcode-60016</th>\n",
       "      <th>Zipcode-60046</th>\n",
       "      <th>Zipcode-62025</th>\n",
       "      <th>Zipcode-62034</th>\n",
       "      <th>Zipcode-62088</th>\n",
       "      <th>Zipcode-62214</th>\n",
       "      <th>Zipcode-62234</th>\n",
       "      <th>Zipcode-62249</th>\n",
       "      <th>Zipcode-81418</th>\n",
       "      <th>Zipcode-81521</th>\n",
       "      <th>Zipcode-81524</th>\n",
       "      <th>Zipcode-85255</th>\n",
       "      <th>Zipcode-85262</th>\n",
       "      <th>Zipcode-85266</th>\n",
       "      <th>Zipcode-85331</th>\n",
       "      <th>Zipcode-85377</th>\n",
       "      <th>Zipcode-90803</th>\n",
       "      <th>Zipcode-91752</th>\n",
       "      <th>Zipcode-91901</th>\n",
       "      <th>Zipcode-91915</th>\n",
       "      <th>Zipcode-92021</th>\n",
       "      <th>Zipcode-92040</th>\n",
       "      <th>Zipcode-92253</th>\n",
       "      <th>Zipcode-92276</th>\n",
       "      <th>Zipcode-92543</th>\n",
       "      <th>Zipcode-92677</th>\n",
       "      <th>Zipcode-92692</th>\n",
       "      <th>Zipcode-92802</th>\n",
       "      <th>Zipcode-92880</th>\n",
       "      <th>Zipcode-93105</th>\n",
       "      <th>Zipcode-93111</th>\n",
       "      <th>Zipcode-93314</th>\n",
       "      <th>Zipcode-93446</th>\n",
       "      <th>Zipcode-93510</th>\n",
       "      <th>Zipcode-93720</th>\n",
       "      <th>Zipcode-93924</th>\n",
       "      <th>Zipcode-94501</th>\n",
       "      <th>Zipcode-94531</th>\n",
       "      <th>Zipcode-94565</th>\n",
       "      <th>Zipcode-94568</th>\n",
       "      <th>Zipcode-95008</th>\n",
       "      <th>Zipcode-95220</th>\n",
       "      <th>Zipcode-96019</th>\n",
       "      <th>Zipcode-98021</th>\n",
       "    </tr>\n",
       "  </thead>\n",
       "  <tbody>\n",
       "    <tr>\n",
       "      <th>0</th>\n",
       "      <td>0.583695</td>\n",
       "      <td>1.519170</td>\n",
       "      <td>1.542439</td>\n",
       "      <td>0</td>\n",
       "      <td>0</td>\n",
       "      <td>0</td>\n",
       "      <td>0</td>\n",
       "      <td>0</td>\n",
       "      <td>0</td>\n",
       "      <td>0</td>\n",
       "      <td>0</td>\n",
       "      <td>0</td>\n",
       "      <td>0</td>\n",
       "      <td>0</td>\n",
       "      <td>0</td>\n",
       "      <td>0</td>\n",
       "      <td>1</td>\n",
       "      <td>0</td>\n",
       "      <td>0</td>\n",
       "      <td>0</td>\n",
       "      <td>0</td>\n",
       "      <td>0</td>\n",
       "      <td>0</td>\n",
       "      <td>0</td>\n",
       "      <td>0</td>\n",
       "      <td>0</td>\n",
       "      <td>0</td>\n",
       "      <td>0</td>\n",
       "      <td>0</td>\n",
       "      <td>0</td>\n",
       "      <td>0</td>\n",
       "      <td>0</td>\n",
       "      <td>0</td>\n",
       "      <td>0</td>\n",
       "      <td>0</td>\n",
       "      <td>0</td>\n",
       "      <td>0</td>\n",
       "      <td>0</td>\n",
       "      <td>0</td>\n",
       "      <td>0</td>\n",
       "      <td>0</td>\n",
       "      <td>0</td>\n",
       "      <td>0</td>\n",
       "      <td>0</td>\n",
       "      <td>0</td>\n",
       "      <td>0</td>\n",
       "      <td>0</td>\n",
       "      <td>0</td>\n",
       "      <td>0</td>\n",
       "    </tr>\n",
       "    <tr>\n",
       "      <th>1</th>\n",
       "      <td>0.583695</td>\n",
       "      <td>0.447569</td>\n",
       "      <td>0.929796</td>\n",
       "      <td>1</td>\n",
       "      <td>0</td>\n",
       "      <td>0</td>\n",
       "      <td>0</td>\n",
       "      <td>0</td>\n",
       "      <td>0</td>\n",
       "      <td>0</td>\n",
       "      <td>0</td>\n",
       "      <td>0</td>\n",
       "      <td>0</td>\n",
       "      <td>0</td>\n",
       "      <td>0</td>\n",
       "      <td>0</td>\n",
       "      <td>0</td>\n",
       "      <td>0</td>\n",
       "      <td>0</td>\n",
       "      <td>0</td>\n",
       "      <td>0</td>\n",
       "      <td>0</td>\n",
       "      <td>0</td>\n",
       "      <td>0</td>\n",
       "      <td>0</td>\n",
       "      <td>0</td>\n",
       "      <td>0</td>\n",
       "      <td>0</td>\n",
       "      <td>0</td>\n",
       "      <td>0</td>\n",
       "      <td>0</td>\n",
       "      <td>0</td>\n",
       "      <td>0</td>\n",
       "      <td>0</td>\n",
       "      <td>0</td>\n",
       "      <td>0</td>\n",
       "      <td>0</td>\n",
       "      <td>0</td>\n",
       "      <td>0</td>\n",
       "      <td>0</td>\n",
       "      <td>0</td>\n",
       "      <td>0</td>\n",
       "      <td>0</td>\n",
       "      <td>0</td>\n",
       "      <td>0</td>\n",
       "      <td>0</td>\n",
       "      <td>0</td>\n",
       "      <td>0</td>\n",
       "      <td>0</td>\n",
       "    </tr>\n",
       "    <tr>\n",
       "      <th>2</th>\n",
       "      <td>-0.281486</td>\n",
       "      <td>1.519170</td>\n",
       "      <td>1.430265</td>\n",
       "      <td>0</td>\n",
       "      <td>0</td>\n",
       "      <td>0</td>\n",
       "      <td>0</td>\n",
       "      <td>0</td>\n",
       "      <td>0</td>\n",
       "      <td>0</td>\n",
       "      <td>0</td>\n",
       "      <td>0</td>\n",
       "      <td>0</td>\n",
       "      <td>0</td>\n",
       "      <td>0</td>\n",
       "      <td>0</td>\n",
       "      <td>0</td>\n",
       "      <td>0</td>\n",
       "      <td>1</td>\n",
       "      <td>0</td>\n",
       "      <td>0</td>\n",
       "      <td>0</td>\n",
       "      <td>0</td>\n",
       "      <td>0</td>\n",
       "      <td>0</td>\n",
       "      <td>0</td>\n",
       "      <td>0</td>\n",
       "      <td>0</td>\n",
       "      <td>0</td>\n",
       "      <td>0</td>\n",
       "      <td>0</td>\n",
       "      <td>0</td>\n",
       "      <td>0</td>\n",
       "      <td>0</td>\n",
       "      <td>0</td>\n",
       "      <td>0</td>\n",
       "      <td>0</td>\n",
       "      <td>0</td>\n",
       "      <td>0</td>\n",
       "      <td>0</td>\n",
       "      <td>0</td>\n",
       "      <td>0</td>\n",
       "      <td>0</td>\n",
       "      <td>0</td>\n",
       "      <td>0</td>\n",
       "      <td>0</td>\n",
       "      <td>0</td>\n",
       "      <td>0</td>\n",
       "      <td>0</td>\n",
       "    </tr>\n",
       "    <tr>\n",
       "      <th>3</th>\n",
       "      <td>1.448877</td>\n",
       "      <td>2.590770</td>\n",
       "      <td>1.515690</td>\n",
       "      <td>0</td>\n",
       "      <td>0</td>\n",
       "      <td>0</td>\n",
       "      <td>0</td>\n",
       "      <td>0</td>\n",
       "      <td>0</td>\n",
       "      <td>0</td>\n",
       "      <td>0</td>\n",
       "      <td>0</td>\n",
       "      <td>0</td>\n",
       "      <td>0</td>\n",
       "      <td>0</td>\n",
       "      <td>0</td>\n",
       "      <td>0</td>\n",
       "      <td>1</td>\n",
       "      <td>0</td>\n",
       "      <td>0</td>\n",
       "      <td>0</td>\n",
       "      <td>0</td>\n",
       "      <td>0</td>\n",
       "      <td>0</td>\n",
       "      <td>0</td>\n",
       "      <td>0</td>\n",
       "      <td>0</td>\n",
       "      <td>0</td>\n",
       "      <td>0</td>\n",
       "      <td>0</td>\n",
       "      <td>0</td>\n",
       "      <td>0</td>\n",
       "      <td>0</td>\n",
       "      <td>0</td>\n",
       "      <td>0</td>\n",
       "      <td>0</td>\n",
       "      <td>0</td>\n",
       "      <td>0</td>\n",
       "      <td>0</td>\n",
       "      <td>0</td>\n",
       "      <td>0</td>\n",
       "      <td>0</td>\n",
       "      <td>0</td>\n",
       "      <td>0</td>\n",
       "      <td>0</td>\n",
       "      <td>0</td>\n",
       "      <td>0</td>\n",
       "      <td>0</td>\n",
       "      <td>0</td>\n",
       "    </tr>\n",
       "    <tr>\n",
       "      <th>4</th>\n",
       "      <td>-0.281486</td>\n",
       "      <td>1.519170</td>\n",
       "      <td>1.596801</td>\n",
       "      <td>0</td>\n",
       "      <td>0</td>\n",
       "      <td>0</td>\n",
       "      <td>0</td>\n",
       "      <td>0</td>\n",
       "      <td>0</td>\n",
       "      <td>0</td>\n",
       "      <td>0</td>\n",
       "      <td>0</td>\n",
       "      <td>0</td>\n",
       "      <td>0</td>\n",
       "      <td>0</td>\n",
       "      <td>0</td>\n",
       "      <td>0</td>\n",
       "      <td>0</td>\n",
       "      <td>1</td>\n",
       "      <td>0</td>\n",
       "      <td>0</td>\n",
       "      <td>0</td>\n",
       "      <td>0</td>\n",
       "      <td>0</td>\n",
       "      <td>0</td>\n",
       "      <td>0</td>\n",
       "      <td>0</td>\n",
       "      <td>0</td>\n",
       "      <td>0</td>\n",
       "      <td>0</td>\n",
       "      <td>0</td>\n",
       "      <td>0</td>\n",
       "      <td>0</td>\n",
       "      <td>0</td>\n",
       "      <td>0</td>\n",
       "      <td>0</td>\n",
       "      <td>0</td>\n",
       "      <td>0</td>\n",
       "      <td>0</td>\n",
       "      <td>0</td>\n",
       "      <td>0</td>\n",
       "      <td>0</td>\n",
       "      <td>0</td>\n",
       "      <td>0</td>\n",
       "      <td>0</td>\n",
       "      <td>0</td>\n",
       "      <td>0</td>\n",
       "      <td>0</td>\n",
       "      <td>0</td>\n",
       "    </tr>\n",
       "  </tbody>\n",
       "</table>\n",
       "</div>"
      ],
      "text/plain": [
       "   Bedrooms  Bathrooms      Area  ...  Zipcode-95220  Zipcode-96019  Zipcode-98021\n",
       "0  0.583695   1.519170  1.542439  ...              0              0              0\n",
       "1  0.583695   0.447569  0.929796  ...              0              0              0\n",
       "2 -0.281486   1.519170  1.430265  ...              0              0              0\n",
       "3  1.448877   2.590770  1.515690  ...              0              0              0\n",
       "4 -0.281486   1.519170  1.596801  ...              0              0              0\n",
       "\n",
       "[5 rows x 49 columns]"
      ]
     },
     "execution_count": 32,
     "metadata": {
      "tags": []
     },
     "output_type": "execute_result"
    }
   ],
   "source": [
    "print(data_x.shape)\n",
    "data_x.head()"
   ]
  },
  {
   "cell_type": "markdown",
   "metadata": {
    "colab_type": "text",
    "id": "20NELP1MMpcN"
   },
   "source": [
    "<h2>Splitting data into training and testing dataset</h2>\n",
    "<ul>\n",
    "    <li>Converting into numpy array</li>\n",
    "    <li>Splitting into training and testing dataset by 70% and 30% ratio</li>\n",
    "</ul>"
   ]
  },
  {
   "cell_type": "code",
   "execution_count": 0,
   "metadata": {
    "colab": {},
    "colab_type": "code",
    "id": "hY8n6f8eMpcN"
   },
   "outputs": [],
   "source": [
    "x = data_x.to_numpy(dtype=np.float32)\n",
    "y = data_y.to_numpy(dtype=np.float32)"
   ]
  },
  {
   "cell_type": "code",
   "execution_count": 34,
   "metadata": {
    "colab": {
     "base_uri": "https://localhost:8080/",
     "height": 34
    },
    "colab_type": "code",
    "id": "bXjq5VKCMpcP",
    "outputId": "ee763743-8927-4080-8c2e-fcb410f3ed8d"
   },
   "outputs": [
    {
     "data": {
      "text/plain": [
       "((501, 49), (501, 1))"
      ]
     },
     "execution_count": 34,
     "metadata": {
      "tags": []
     },
     "output_type": "execute_result"
    }
   ],
   "source": [
    "x.shape, y.shape"
   ]
  },
  {
   "cell_type": "code",
   "execution_count": 0,
   "metadata": {
    "colab": {},
    "colab_type": "code",
    "id": "hKfC-6-tMpcQ"
   },
   "outputs": [],
   "source": [
    "from sklearn.model_selection import train_test_split\n",
    "x_train, x_test, y_train, y_test, img_train, img_test = train_test_split(x, y, img_arr, test_size=0.3, random_state=42)\n",
    "#img_train, img_test = train_test_split(img_arr, test_size=0.2, shuffle=False, stratify=None)"
   ]
  },
  {
   "cell_type": "code",
   "execution_count": 36,
   "metadata": {
    "colab": {
     "base_uri": "https://localhost:8080/",
     "height": 34
    },
    "colab_type": "code",
    "id": "zDIk0a_8MpcR",
    "outputId": "c841bdad-c030-45c8-fbd4-2126a5c862e8"
   },
   "outputs": [
    {
     "data": {
      "text/plain": [
       "((350, 49), (350, 1))"
      ]
     },
     "execution_count": 36,
     "metadata": {
      "tags": []
     },
     "output_type": "execute_result"
    }
   ],
   "source": [
    "x_train.shape, y_train.shape"
   ]
  },
  {
   "cell_type": "code",
   "execution_count": 37,
   "metadata": {
    "colab": {
     "base_uri": "https://localhost:8080/",
     "height": 34
    },
    "colab_type": "code",
    "id": "t8CGiaSiMpcT",
    "outputId": "35f9676e-9d17-4e16-ded8-743ab52f4939"
   },
   "outputs": [
    {
     "data": {
      "text/plain": [
       "((151, 49), (151, 1))"
      ]
     },
     "execution_count": 37,
     "metadata": {
      "tags": []
     },
     "output_type": "execute_result"
    }
   ],
   "source": [
    "x_test.shape, y_test.shape"
   ]
  },
  {
   "cell_type": "code",
   "execution_count": 38,
   "metadata": {
    "colab": {
     "base_uri": "https://localhost:8080/",
     "height": 34
    },
    "colab_type": "code",
    "id": "N3B_CnxPMpcV",
    "outputId": "3e39b880-06ac-4584-87aa-cc81ce7ffe4c"
   },
   "outputs": [
    {
     "data": {
      "text/plain": [
       "((350, 128, 128, 3), (151, 128, 128, 3))"
      ]
     },
     "execution_count": 38,
     "metadata": {
      "tags": []
     },
     "output_type": "execute_result"
    }
   ],
   "source": [
    "img_train.shape, img_test.shape"
   ]
  },
  {
   "cell_type": "markdown",
   "metadata": {
    "colab_type": "text",
    "id": "cTIdgky-MpcW"
   },
   "source": [
    "<h2>Image Normalization and Scaling Price</h2>\n",
    "<ul>\n",
    "    <li>Verifying image pixel range is 0-255</li>\n",
    "    <li>Normalizing image dividing by 255</li>\n",
    "    <li>Scaling Price by dividing by max_price</li>\n",
    "</ul>"
   ]
  },
  {
   "cell_type": "code",
   "execution_count": 39,
   "metadata": {
    "colab": {
     "base_uri": "https://localhost:8080/",
     "height": 52
    },
    "colab_type": "code",
    "id": "X8QaR8mnMpcX",
    "outputId": "04caccb4-ebe4-458d-b5ef-f0ca86325dc0"
   },
   "outputs": [
    {
     "name": "stdout",
     "output_type": "stream",
     "text": [
      "0.0 255.0\n",
      "0.0 255.0\n"
     ]
    }
   ],
   "source": [
    "#Verifying image pixel range\n",
    "print(img_train.min(), img_train.max())\n",
    "print(img_test.min(), img_test.max())"
   ]
  },
  {
   "cell_type": "code",
   "execution_count": 0,
   "metadata": {
    "colab": {},
    "colab_type": "code",
    "id": "TrkS--k1MpcZ"
   },
   "outputs": [],
   "source": [
    "#Normalizing Image\n",
    "img_train /= 255\n",
    "img_test /= 255"
   ]
  },
  {
   "cell_type": "code",
   "execution_count": 41,
   "metadata": {
    "colab": {
     "base_uri": "https://localhost:8080/",
     "height": 70
    },
    "colab_type": "code",
    "id": "4eidr-p6Mpca",
    "outputId": "d3719016-5536-470e-ca82-8e6d949608bf"
   },
   "outputs": [
    {
     "name": "stdout",
     "output_type": "stream",
     "text": [
      "0.0 1.0\n",
      "0.0 1.0\n",
      "(350, 128, 128, 3) (151, 128, 128, 3)\n"
     ]
    }
   ],
   "source": [
    "print(img_train.min(), img_train.max())\n",
    "print(img_test.min(), img_test.max())\n",
    "print(img_train.shape, img_test.shape)"
   ]
  },
  {
   "cell_type": "code",
   "execution_count": 42,
   "metadata": {
    "colab": {
     "base_uri": "https://localhost:8080/",
     "height": 52
    },
    "colab_type": "code",
    "id": "LyI4dszcMpcb",
    "outputId": "e24f1b99-df8a-403b-c920-0628b22f4fa7"
   },
   "outputs": [
    {
     "name": "stdout",
     "output_type": "stream",
     "text": [
      "1350000.0 1349000.0\n",
      "1350000\n"
     ]
    }
   ],
   "source": [
    "#Checking max Price is less or equal to max_price\n",
    "print(y_train.max(), y_test.max())\n",
    "print(max_price)"
   ]
  },
  {
   "cell_type": "code",
   "execution_count": 0,
   "metadata": {
    "colab": {},
    "colab_type": "code",
    "id": "TKTmN4kVMpcd"
   },
   "outputs": [],
   "source": [
    "#Scaling Price diding by max_price\n",
    "y_train /= max_price\n",
    "y_test /= max_price"
   ]
  },
  {
   "cell_type": "code",
   "execution_count": 44,
   "metadata": {
    "colab": {
     "base_uri": "https://localhost:8080/",
     "height": 34
    },
    "colab_type": "code",
    "id": "10svZnTbMpce",
    "outputId": "1bbc099e-c849-4165-c44d-b5ff884000ab"
   },
   "outputs": [
    {
     "name": "stdout",
     "output_type": "stream",
     "text": [
      "1.0 0.99925923\n"
     ]
    }
   ],
   "source": [
    "print(y_train.max(), y_test.max())"
   ]
  },
  {
   "cell_type": "markdown",
   "metadata": {
    "colab_type": "text",
    "id": "fjQeIW4QMpch"
   },
   "source": [
    "<h2>Creating Multiple Input Model using Keras Functional API</h2>"
   ]
  },
  {
   "cell_type": "code",
   "execution_count": 45,
   "metadata": {
    "colab": {
     "base_uri": "https://localhost:8080/",
     "height": 1000
    },
    "colab_type": "code",
    "id": "CvsFr-XlMpch",
    "outputId": "3594cddf-bc9b-4a2c-b2b5-3ee590fa112f"
   },
   "outputs": [
    {
     "name": "stderr",
     "output_type": "stream",
     "text": [
      "Using TensorFlow backend.\n"
     ]
    },
    {
     "name": "stdout",
     "output_type": "stream",
     "text": [
      "WARNING:tensorflow:From /usr/local/lib/python3.6/dist-packages/keras/backend/tensorflow_backend.py:66: The name tf.get_default_graph is deprecated. Please use tf.compat.v1.get_default_graph instead.\n",
      "\n",
      "WARNING:tensorflow:From /usr/local/lib/python3.6/dist-packages/keras/backend/tensorflow_backend.py:541: The name tf.placeholder is deprecated. Please use tf.compat.v1.placeholder instead.\n",
      "\n",
      "WARNING:tensorflow:From /usr/local/lib/python3.6/dist-packages/keras/backend/tensorflow_backend.py:4432: The name tf.random_uniform is deprecated. Please use tf.random.uniform instead.\n",
      "\n",
      "WARNING:tensorflow:From /usr/local/lib/python3.6/dist-packages/keras/backend/tensorflow_backend.py:4267: The name tf.nn.max_pool is deprecated. Please use tf.nn.max_pool2d instead.\n",
      "\n",
      "WARNING:tensorflow:From /usr/local/lib/python3.6/dist-packages/keras/optimizers.py:793: The name tf.train.Optimizer is deprecated. Please use tf.compat.v1.train.Optimizer instead.\n",
      "\n",
      "Model: \"model_1\"\n",
      "__________________________________________________________________________________________________\n",
      "Layer (type)                    Output Shape         Param #     Connected to                     \n",
      "==================================================================================================\n",
      "input_1 (InputLayer)            (None, 128, 128, 3)  0                                            \n",
      "__________________________________________________________________________________________________\n",
      "conv2d_1 (Conv2D)               (None, 128, 128, 64) 1792        input_1[0][0]                    \n",
      "__________________________________________________________________________________________________\n",
      "max_pooling2d_1 (MaxPooling2D)  (None, 64, 64, 64)   0           conv2d_1[0][0]                   \n",
      "__________________________________________________________________________________________________\n",
      "conv2d_2 (Conv2D)               (None, 64, 64, 32)   18464       max_pooling2d_1[0][0]            \n",
      "__________________________________________________________________________________________________\n",
      "max_pooling2d_2 (MaxPooling2D)  (None, 32, 32, 32)   0           conv2d_2[0][0]                   \n",
      "__________________________________________________________________________________________________\n",
      "input_2 (InputLayer)            (None, 49)           0                                            \n",
      "__________________________________________________________________________________________________\n",
      "conv2d_3 (Conv2D)               (None, 32, 32, 16)   4624        max_pooling2d_2[0][0]            \n",
      "__________________________________________________________________________________________________\n",
      "dense_1 (Dense)                 (None, 64)           3200        input_2[0][0]                    \n",
      "__________________________________________________________________________________________________\n",
      "max_pooling2d_3 (MaxPooling2D)  (None, 16, 16, 16)   0           conv2d_3[0][0]                   \n",
      "__________________________________________________________________________________________________\n",
      "dense_2 (Dense)                 (None, 32)           2080        dense_1[0][0]                    \n",
      "__________________________________________________________________________________________________\n",
      "flatten_1 (Flatten)             (None, 4096)         0           max_pooling2d_3[0][0]            \n",
      "__________________________________________________________________________________________________\n",
      "dense_3 (Dense)                 (None, 16)           528         dense_2[0][0]                    \n",
      "__________________________________________________________________________________________________\n",
      "concatenate_1 (Concatenate)     (None, 4112)         0           flatten_1[0][0]                  \n",
      "                                                                 dense_3[0][0]                    \n",
      "__________________________________________________________________________________________________\n",
      "dense_4 (Dense)                 (None, 16)           65808       concatenate_1[0][0]              \n",
      "__________________________________________________________________________________________________\n",
      "dense_5 (Dense)                 (None, 1)            17          dense_4[0][0]                    \n",
      "==================================================================================================\n",
      "Total params: 96,513\n",
      "Trainable params: 96,513\n",
      "Non-trainable params: 0\n",
      "__________________________________________________________________________________________________\n",
      "None\n",
      "WARNING:tensorflow:From /usr/local/lib/python3.6/dist-packages/keras/backend/tensorflow_backend.py:1033: The name tf.assign_add is deprecated. Please use tf.compat.v1.assign_add instead.\n",
      "\n",
      "WARNING:tensorflow:From /usr/local/lib/python3.6/dist-packages/keras/backend/tensorflow_backend.py:1020: The name tf.assign is deprecated. Please use tf.compat.v1.assign instead.\n",
      "\n",
      "WARNING:tensorflow:From /usr/local/lib/python3.6/dist-packages/keras/backend/tensorflow_backend.py:3005: The name tf.Session is deprecated. Please use tf.compat.v1.Session instead.\n",
      "\n",
      "Train on 350 samples, validate on 151 samples\n",
      "Epoch 1/200\n",
      "WARNING:tensorflow:From /usr/local/lib/python3.6/dist-packages/keras/backend/tensorflow_backend.py:190: The name tf.get_default_session is deprecated. Please use tf.compat.v1.get_default_session instead.\n",
      "\n",
      "WARNING:tensorflow:From /usr/local/lib/python3.6/dist-packages/keras/backend/tensorflow_backend.py:197: The name tf.ConfigProto is deprecated. Please use tf.compat.v1.ConfigProto instead.\n",
      "\n",
      "WARNING:tensorflow:From /usr/local/lib/python3.6/dist-packages/keras/backend/tensorflow_backend.py:207: The name tf.global_variables is deprecated. Please use tf.compat.v1.global_variables instead.\n",
      "\n",
      "WARNING:tensorflow:From /usr/local/lib/python3.6/dist-packages/keras/backend/tensorflow_backend.py:216: The name tf.is_variable_initialized is deprecated. Please use tf.compat.v1.is_variable_initialized instead.\n",
      "\n",
      "WARNING:tensorflow:From /usr/local/lib/python3.6/dist-packages/keras/backend/tensorflow_backend.py:223: The name tf.variables_initializer is deprecated. Please use tf.compat.v1.variables_initializer instead.\n",
      "\n",
      " - 3s - loss: 0.0853 - val_loss: 0.0559\n",
      "Epoch 2/200\n",
      " - 0s - loss: 0.0483 - val_loss: 0.0480\n",
      "Epoch 3/200\n",
      " - 0s - loss: 0.0445 - val_loss: 0.0397\n",
      "Epoch 4/200\n",
      " - 0s - loss: 0.0371 - val_loss: 0.0396\n",
      "Epoch 5/200\n",
      " - 1s - loss: 0.0282 - val_loss: 0.0254\n",
      "Epoch 6/200\n",
      " - 0s - loss: 0.0225 - val_loss: 0.0232\n",
      "Epoch 7/200\n",
      " - 0s - loss: 0.0182 - val_loss: 0.0215\n",
      "Epoch 8/200\n",
      " - 0s - loss: 0.0163 - val_loss: 0.0178\n",
      "Epoch 9/200\n",
      " - 0s - loss: 0.0124 - val_loss: 0.0170\n",
      "Epoch 10/200\n",
      " - 0s - loss: 0.0098 - val_loss: 0.0152\n",
      "Epoch 11/200\n",
      " - 0s - loss: 0.0086 - val_loss: 0.0155\n",
      "Epoch 12/200\n",
      " - 1s - loss: 0.0066 - val_loss: 0.0147\n",
      "Epoch 13/200\n",
      " - 0s - loss: 0.0056 - val_loss: 0.0148\n",
      "Epoch 14/200\n",
      " - 1s - loss: 0.0042 - val_loss: 0.0153\n",
      "Epoch 15/200\n",
      " - 0s - loss: 0.0036 - val_loss: 0.0150\n",
      "Epoch 00015: early stopping\n",
      "Model: \"model_2\"\n",
      "__________________________________________________________________________________________________\n",
      "Layer (type)                    Output Shape         Param #     Connected to                     \n",
      "==================================================================================================\n",
      "input_3 (InputLayer)            (None, 128, 128, 3)  0                                            \n",
      "__________________________________________________________________________________________________\n",
      "conv2d_4 (Conv2D)               (None, 128, 128, 64) 1792        input_3[0][0]                    \n",
      "__________________________________________________________________________________________________\n",
      "max_pooling2d_4 (MaxPooling2D)  (None, 64, 64, 64)   0           conv2d_4[0][0]                   \n",
      "__________________________________________________________________________________________________\n",
      "conv2d_5 (Conv2D)               (None, 64, 64, 32)   18464       max_pooling2d_4[0][0]            \n",
      "__________________________________________________________________________________________________\n",
      "max_pooling2d_5 (MaxPooling2D)  (None, 32, 32, 32)   0           conv2d_5[0][0]                   \n",
      "__________________________________________________________________________________________________\n",
      "input_4 (InputLayer)            (None, 49)           0                                            \n",
      "__________________________________________________________________________________________________\n",
      "conv2d_6 (Conv2D)               (None, 32, 32, 16)   4624        max_pooling2d_5[0][0]            \n",
      "__________________________________________________________________________________________________\n",
      "dense_6 (Dense)                 (None, 64)           3200        input_4[0][0]                    \n",
      "__________________________________________________________________________________________________\n",
      "max_pooling2d_6 (MaxPooling2D)  (None, 16, 16, 16)   0           conv2d_6[0][0]                   \n",
      "__________________________________________________________________________________________________\n",
      "dense_7 (Dense)                 (None, 32)           2080        dense_6[0][0]                    \n",
      "__________________________________________________________________________________________________\n",
      "flatten_2 (Flatten)             (None, 4096)         0           max_pooling2d_6[0][0]            \n",
      "__________________________________________________________________________________________________\n",
      "dense_8 (Dense)                 (None, 16)           528         dense_7[0][0]                    \n",
      "__________________________________________________________________________________________________\n",
      "concatenate_2 (Concatenate)     (None, 4112)         0           flatten_2[0][0]                  \n",
      "                                                                 dense_8[0][0]                    \n",
      "__________________________________________________________________________________________________\n",
      "dense_9 (Dense)                 (None, 16)           65808       concatenate_2[0][0]              \n",
      "__________________________________________________________________________________________________\n",
      "dense_10 (Dense)                (None, 1)            17          dense_9[0][0]                    \n",
      "==================================================================================================\n",
      "Total params: 96,513\n",
      "Trainable params: 96,513\n",
      "Non-trainable params: 0\n",
      "__________________________________________________________________________________________________\n",
      "None\n",
      "Train on 350 samples, validate on 151 samples\n",
      "Epoch 1/200\n",
      " - 1s - loss: 0.0880 - val_loss: 0.0570\n",
      "Epoch 2/200\n",
      " - 0s - loss: 0.0526 - val_loss: 0.0448\n",
      "Epoch 3/200\n",
      " - 1s - loss: 0.0408 - val_loss: 0.0396\n",
      "Epoch 4/200\n",
      " - 0s - loss: 0.0347 - val_loss: 0.0331\n",
      "Epoch 5/200\n",
      " - 1s - loss: 0.0263 - val_loss: 0.0263\n",
      "Epoch 6/200\n",
      " - 0s - loss: 0.0223 - val_loss: 0.0228\n",
      "Epoch 7/200\n",
      " - 0s - loss: 0.0194 - val_loss: 0.0227\n",
      "Epoch 8/200\n",
      " - 0s - loss: 0.0157 - val_loss: 0.0202\n",
      "Epoch 9/200\n",
      " - 1s - loss: 0.0139 - val_loss: 0.0214\n",
      "Epoch 10/200\n",
      " - 0s - loss: 0.0112 - val_loss: 0.0176\n",
      "Epoch 11/200\n",
      " - 0s - loss: 0.0099 - val_loss: 0.0189\n",
      "Epoch 12/200\n",
      " - 0s - loss: 0.0093 - val_loss: 0.0158\n",
      "Epoch 13/200\n",
      " - 0s - loss: 0.0077 - val_loss: 0.0159\n",
      "Epoch 14/200\n",
      " - 0s - loss: 0.0061 - val_loss: 0.0150\n",
      "Epoch 15/200\n",
      " - 1s - loss: 0.0048 - val_loss: 0.0150\n",
      "Epoch 16/200\n",
      " - 0s - loss: 0.0041 - val_loss: 0.0143\n",
      "Epoch 17/200\n",
      " - 0s - loss: 0.0033 - val_loss: 0.0147\n",
      "Epoch 18/200\n",
      " - 0s - loss: 0.0026 - val_loss: 0.0147\n",
      "Epoch 19/200\n",
      " - 0s - loss: 0.0023 - val_loss: 0.0146\n",
      "Epoch 20/200\n",
      " - 1s - loss: 0.0019 - val_loss: 0.0147\n",
      "Epoch 21/200\n",
      " - 0s - loss: 0.0022 - val_loss: 0.0155\n",
      "Epoch 00021: early stopping\n",
      "Model: \"model_3\"\n",
      "__________________________________________________________________________________________________\n",
      "Layer (type)                    Output Shape         Param #     Connected to                     \n",
      "==================================================================================================\n",
      "input_5 (InputLayer)            (None, 128, 128, 3)  0                                            \n",
      "__________________________________________________________________________________________________\n",
      "conv2d_7 (Conv2D)               (None, 128, 128, 64) 1792        input_5[0][0]                    \n",
      "__________________________________________________________________________________________________\n",
      "max_pooling2d_7 (MaxPooling2D)  (None, 64, 64, 64)   0           conv2d_7[0][0]                   \n",
      "__________________________________________________________________________________________________\n",
      "conv2d_8 (Conv2D)               (None, 64, 64, 32)   18464       max_pooling2d_7[0][0]            \n",
      "__________________________________________________________________________________________________\n",
      "max_pooling2d_8 (MaxPooling2D)  (None, 32, 32, 32)   0           conv2d_8[0][0]                   \n",
      "__________________________________________________________________________________________________\n",
      "input_6 (InputLayer)            (None, 49)           0                                            \n",
      "__________________________________________________________________________________________________\n",
      "conv2d_9 (Conv2D)               (None, 32, 32, 16)   4624        max_pooling2d_8[0][0]            \n",
      "__________________________________________________________________________________________________\n",
      "dense_11 (Dense)                (None, 64)           3200        input_6[0][0]                    \n",
      "__________________________________________________________________________________________________\n",
      "max_pooling2d_9 (MaxPooling2D)  (None, 16, 16, 16)   0           conv2d_9[0][0]                   \n",
      "__________________________________________________________________________________________________\n",
      "dense_12 (Dense)                (None, 32)           2080        dense_11[0][0]                   \n",
      "__________________________________________________________________________________________________\n",
      "flatten_3 (Flatten)             (None, 4096)         0           max_pooling2d_9[0][0]            \n",
      "__________________________________________________________________________________________________\n",
      "dense_13 (Dense)                (None, 16)           528         dense_12[0][0]                   \n",
      "__________________________________________________________________________________________________\n",
      "concatenate_3 (Concatenate)     (None, 4112)         0           flatten_3[0][0]                  \n",
      "                                                                 dense_13[0][0]                   \n",
      "__________________________________________________________________________________________________\n",
      "dense_14 (Dense)                (None, 16)           65808       concatenate_3[0][0]              \n",
      "__________________________________________________________________________________________________\n",
      "dense_15 (Dense)                (None, 1)            17          dense_14[0][0]                   \n",
      "==================================================================================================\n",
      "Total params: 96,513\n",
      "Trainable params: 96,513\n",
      "Non-trainable params: 0\n",
      "__________________________________________________________________________________________________\n",
      "None\n",
      "Train on 350 samples, validate on 151 samples\n",
      "Epoch 1/200\n",
      " - 1s - loss: 0.1624 - val_loss: 0.0682\n",
      "Epoch 2/200\n",
      " - 1s - loss: 0.0517 - val_loss: 0.0457\n",
      "Epoch 3/200\n",
      " - 1s - loss: 0.0398 - val_loss: 0.0389\n",
      "Epoch 4/200\n",
      " - 0s - loss: 0.0318 - val_loss: 0.0309\n",
      "Epoch 5/200\n",
      " - 1s - loss: 0.0252 - val_loss: 0.0240\n",
      "Epoch 6/200\n",
      " - 1s - loss: 0.0225 - val_loss: 0.0212\n",
      "Epoch 7/200\n",
      " - 0s - loss: 0.0176 - val_loss: 0.0201\n",
      "Epoch 8/200\n",
      " - 1s - loss: 0.0151 - val_loss: 0.0192\n",
      "Epoch 9/200\n",
      " - 0s - loss: 0.0123 - val_loss: 0.0173\n",
      "Epoch 10/200\n",
      " - 0s - loss: 0.0102 - val_loss: 0.0149\n",
      "Epoch 11/200\n",
      " - 0s - loss: 0.0097 - val_loss: 0.0164\n",
      "Epoch 12/200\n",
      " - 0s - loss: 0.0083 - val_loss: 0.0155\n",
      "Epoch 13/200\n",
      " - 0s - loss: 0.0072 - val_loss: 0.0130\n",
      "Epoch 14/200\n",
      " - 0s - loss: 0.0056 - val_loss: 0.0128\n",
      "Epoch 15/200\n",
      " - 1s - loss: 0.0053 - val_loss: 0.0128\n",
      "Epoch 16/200\n",
      " - 0s - loss: 0.0041 - val_loss: 0.0144\n",
      "Epoch 17/200\n",
      " - 0s - loss: 0.0036 - val_loss: 0.0134\n",
      "Epoch 18/200\n",
      " - 0s - loss: 0.0035 - val_loss: 0.0145\n",
      "Epoch 00018: early stopping\n",
      "Model: \"model_4\"\n",
      "__________________________________________________________________________________________________\n",
      "Layer (type)                    Output Shape         Param #     Connected to                     \n",
      "==================================================================================================\n",
      "input_7 (InputLayer)            (None, 128, 128, 3)  0                                            \n",
      "__________________________________________________________________________________________________\n",
      "conv2d_10 (Conv2D)              (None, 128, 128, 64) 1792        input_7[0][0]                    \n",
      "__________________________________________________________________________________________________\n",
      "max_pooling2d_10 (MaxPooling2D) (None, 64, 64, 64)   0           conv2d_10[0][0]                  \n",
      "__________________________________________________________________________________________________\n",
      "conv2d_11 (Conv2D)              (None, 64, 64, 32)   18464       max_pooling2d_10[0][0]           \n",
      "__________________________________________________________________________________________________\n",
      "max_pooling2d_11 (MaxPooling2D) (None, 32, 32, 32)   0           conv2d_11[0][0]                  \n",
      "__________________________________________________________________________________________________\n",
      "input_8 (InputLayer)            (None, 49)           0                                            \n",
      "__________________________________________________________________________________________________\n",
      "conv2d_12 (Conv2D)              (None, 32, 32, 16)   4624        max_pooling2d_11[0][0]           \n",
      "__________________________________________________________________________________________________\n",
      "dense_16 (Dense)                (None, 64)           3200        input_8[0][0]                    \n",
      "__________________________________________________________________________________________________\n",
      "max_pooling2d_12 (MaxPooling2D) (None, 16, 16, 16)   0           conv2d_12[0][0]                  \n",
      "__________________________________________________________________________________________________\n",
      "dense_17 (Dense)                (None, 32)           2080        dense_16[0][0]                   \n",
      "__________________________________________________________________________________________________\n",
      "flatten_4 (Flatten)             (None, 4096)         0           max_pooling2d_12[0][0]           \n",
      "__________________________________________________________________________________________________\n",
      "dense_18 (Dense)                (None, 16)           528         dense_17[0][0]                   \n",
      "__________________________________________________________________________________________________\n",
      "concatenate_4 (Concatenate)     (None, 4112)         0           flatten_4[0][0]                  \n",
      "                                                                 dense_18[0][0]                   \n",
      "__________________________________________________________________________________________________\n",
      "dense_19 (Dense)                (None, 16)           65808       concatenate_4[0][0]              \n",
      "__________________________________________________________________________________________________\n",
      "dense_20 (Dense)                (None, 1)            17          dense_19[0][0]                   \n",
      "==================================================================================================\n",
      "Total params: 96,513\n",
      "Trainable params: 96,513\n",
      "Non-trainable params: 0\n",
      "__________________________________________________________________________________________________\n",
      "None\n",
      "Train on 350 samples, validate on 151 samples\n",
      "Epoch 1/200\n",
      " - 1s - loss: 0.0763 - val_loss: 0.0541\n",
      "Epoch 2/200\n",
      " - 0s - loss: 0.0441 - val_loss: 0.0435\n",
      "Epoch 3/200\n",
      " - 1s - loss: 0.0372 - val_loss: 0.0392\n",
      "Epoch 4/200\n",
      " - 1s - loss: 0.0362 - val_loss: 0.0399\n",
      "Epoch 5/200\n",
      " - 1s - loss: 0.0318 - val_loss: 0.0408\n",
      "Epoch 6/200\n",
      " - 1s - loss: 0.0300 - val_loss: 0.0255\n",
      "Epoch 7/200\n",
      " - 1s - loss: 0.0220 - val_loss: 0.0226\n",
      "Epoch 8/200\n",
      " - 1s - loss: 0.0185 - val_loss: 0.0208\n",
      "Epoch 9/200\n",
      " - 0s - loss: 0.0155 - val_loss: 0.0200\n",
      "Epoch 10/200\n",
      " - 0s - loss: 0.0131 - val_loss: 0.0200\n",
      "Epoch 11/200\n",
      " - 1s - loss: 0.0119 - val_loss: 0.0188\n",
      "Epoch 12/200\n",
      " - 1s - loss: 0.0106 - val_loss: 0.0184\n",
      "Epoch 13/200\n",
      " - 0s - loss: 0.0094 - val_loss: 0.0156\n",
      "Epoch 14/200\n",
      " - 0s - loss: 0.0075 - val_loss: 0.0153\n",
      "Epoch 15/200\n",
      " - 1s - loss: 0.0060 - val_loss: 0.0161\n",
      "Epoch 16/200\n",
      " - 1s - loss: 0.0047 - val_loss: 0.0155\n",
      "Epoch 17/200\n",
      " - 0s - loss: 0.0046 - val_loss: 0.0158\n",
      "Epoch 18/200\n",
      " - 1s - loss: 0.0031 - val_loss: 0.0148\n",
      "Epoch 00018: early stopping\n",
      "Model: \"model_5\"\n",
      "__________________________________________________________________________________________________\n",
      "Layer (type)                    Output Shape         Param #     Connected to                     \n",
      "==================================================================================================\n",
      "input_9 (InputLayer)            (None, 128, 128, 3)  0                                            \n",
      "__________________________________________________________________________________________________\n",
      "conv2d_13 (Conv2D)              (None, 128, 128, 64) 1792        input_9[0][0]                    \n",
      "__________________________________________________________________________________________________\n",
      "max_pooling2d_13 (MaxPooling2D) (None, 64, 64, 64)   0           conv2d_13[0][0]                  \n",
      "__________________________________________________________________________________________________\n",
      "conv2d_14 (Conv2D)              (None, 64, 64, 32)   18464       max_pooling2d_13[0][0]           \n",
      "__________________________________________________________________________________________________\n",
      "max_pooling2d_14 (MaxPooling2D) (None, 32, 32, 32)   0           conv2d_14[0][0]                  \n",
      "__________________________________________________________________________________________________\n",
      "input_10 (InputLayer)           (None, 49)           0                                            \n",
      "__________________________________________________________________________________________________\n",
      "conv2d_15 (Conv2D)              (None, 32, 32, 16)   4624        max_pooling2d_14[0][0]           \n",
      "__________________________________________________________________________________________________\n",
      "dense_21 (Dense)                (None, 64)           3200        input_10[0][0]                   \n",
      "__________________________________________________________________________________________________\n",
      "max_pooling2d_15 (MaxPooling2D) (None, 16, 16, 16)   0           conv2d_15[0][0]                  \n",
      "__________________________________________________________________________________________________\n",
      "dense_22 (Dense)                (None, 32)           2080        dense_21[0][0]                   \n",
      "__________________________________________________________________________________________________\n",
      "flatten_5 (Flatten)             (None, 4096)         0           max_pooling2d_15[0][0]           \n",
      "__________________________________________________________________________________________________\n",
      "dense_23 (Dense)                (None, 16)           528         dense_22[0][0]                   \n",
      "__________________________________________________________________________________________________\n",
      "concatenate_5 (Concatenate)     (None, 4112)         0           flatten_5[0][0]                  \n",
      "                                                                 dense_23[0][0]                   \n",
      "__________________________________________________________________________________________________\n",
      "dense_24 (Dense)                (None, 16)           65808       concatenate_5[0][0]              \n",
      "__________________________________________________________________________________________________\n",
      "dense_25 (Dense)                (None, 1)            17          dense_24[0][0]                   \n",
      "==================================================================================================\n",
      "Total params: 96,513\n",
      "Trainable params: 96,513\n",
      "Non-trainable params: 0\n",
      "__________________________________________________________________________________________________\n",
      "None\n",
      "Train on 350 samples, validate on 151 samples\n",
      "Epoch 1/200\n",
      " - 2s - loss: 0.0604 - val_loss: 0.0469\n",
      "Epoch 2/200\n",
      " - 0s - loss: 0.0423 - val_loss: 0.0429\n",
      "Epoch 3/200\n",
      " - 1s - loss: 0.0362 - val_loss: 0.0380\n",
      "Epoch 4/200\n",
      " - 0s - loss: 0.0313 - val_loss: 0.0349\n",
      "Epoch 5/200\n",
      " - 0s - loss: 0.0269 - val_loss: 0.0301\n",
      "Epoch 6/200\n",
      " - 0s - loss: 0.0223 - val_loss: 0.0298\n",
      "Epoch 7/200\n",
      " - 1s - loss: 0.0199 - val_loss: 0.0264\n",
      "Epoch 8/200\n",
      " - 0s - loss: 0.0164 - val_loss: 0.0238\n",
      "Epoch 9/200\n",
      " - 1s - loss: 0.0126 - val_loss: 0.0205\n",
      "Epoch 10/200\n",
      " - 0s - loss: 0.0100 - val_loss: 0.0193\n",
      "Epoch 11/200\n",
      " - 1s - loss: 0.0083 - val_loss: 0.0183\n",
      "Epoch 12/200\n",
      " - 0s - loss: 0.0066 - val_loss: 0.0213\n",
      "Epoch 13/200\n",
      " - 1s - loss: 0.0063 - val_loss: 0.0169\n",
      "Epoch 14/200\n",
      " - 1s - loss: 0.0047 - val_loss: 0.0165\n",
      "Epoch 15/200\n",
      " - 1s - loss: 0.0036 - val_loss: 0.0165\n",
      "Epoch 16/200\n",
      " - 0s - loss: 0.0033 - val_loss: 0.0173\n",
      "Epoch 17/200\n",
      " - 0s - loss: 0.0031 - val_loss: 0.0163\n",
      "Epoch 18/200\n",
      " - 1s - loss: 0.0023 - val_loss: 0.0159\n",
      "Epoch 19/200\n",
      " - 1s - loss: 0.0016 - val_loss: 0.0161\n",
      "Epoch 20/200\n",
      " - 0s - loss: 0.0014 - val_loss: 0.0173\n",
      "Epoch 21/200\n",
      " - 1s - loss: 0.0014 - val_loss: 0.0163\n",
      "Epoch 22/200\n",
      " - 1s - loss: 0.0012 - val_loss: 0.0163\n",
      "Epoch 23/200\n",
      " - 0s - loss: 0.0012 - val_loss: 0.0158\n",
      "Epoch 00023: early stopping\n"
     ]
    }
   ],
   "source": [
    "from sklearn import metrics\n",
    "from keras.utils import plot_model\n",
    "from keras.models import Model, Sequential\n",
    "from keras.layers import Input, Dense, Flatten, Activation, Dropout\n",
    "from keras.layers.convolutional import Conv2D\n",
    "from keras.layers.pooling import MaxPooling2D\n",
    "from keras.layers.merge import concatenate\n",
    "from keras.callbacks import EarlyStopping\n",
    "from keras.callbacks import ModelCheckpoint\n",
    "\n",
    "checkpointer = ModelCheckpoint(filepath=\"best_weights.hdf5\", verbose=0, save_best_only=True)\n",
    "\n",
    "for i in range(0,5):\n",
    "  # CNN model for Images\n",
    "  cnn_input = Input(shape=img_train.shape[1:])\n",
    "  conv_layer1 = Conv2D(64, kernel_size=(3,3), strides=(1,1), padding='same', activation='relu')(cnn_input)\n",
    "  pooling_layer1 = MaxPooling2D(pool_size=(2, 2))(conv_layer1)\n",
    "\n",
    "  conv_layer2 = Conv2D(32, kernel_size=(3,3), strides=(1,1), padding='same', activation='relu')(pooling_layer1)\n",
    "  pooling_layer2 = MaxPooling2D(pool_size=(2, 2))(conv_layer2)\n",
    "\n",
    "\n",
    "  conv_layer3 = Conv2D(16, kernel_size=(3,3), strides=(1,1) , padding='same', activation='relu')(pooling_layer2)\n",
    "  pooling_layer3 = MaxPooling2D(pool_size=(2, 2))(conv_layer3)\n",
    "  cnn_output = Flatten()(pooling_layer3)\n",
    "\n",
    "  #cnn_dense_layer1 = Dense(8, activation='relu')(flatten_layer)\n",
    "  #dropout_layer = Dropout(0.5)(cnn_dense_layer1)\n",
    "  #cnn_output = Dense(4, activation='relu')(dropout_layer)\n",
    "\n",
    "\n",
    "  # Dense Layers for Textual Data\n",
    "  dense_input = Input(shape=(x_train.shape[1],))\n",
    "  dense_layer_1 = Dense(64, activation='relu')(dense_input)\n",
    "  dense_layer_2 = Dense(32, activation='relu')(dense_layer_1)\n",
    "  dense_output = Dense(16, activation='relu')(dense_layer_2)\n",
    "\n",
    "\n",
    "  # merge input models\n",
    "  merge = concatenate([cnn_output,dense_output])\n",
    "\n",
    "  # Final layers\n",
    "  hidden1 = Dense(16, activation='relu')(merge)\n",
    "  #hidden2 = Dense(8, activation='relu')(hidden1)\n",
    "  output = Dense(1)(hidden1)\n",
    "\n",
    "  model = Model(inputs = [cnn_input,dense_input], outputs = output)\n",
    "\n",
    "  model.compile(loss='mean_squared_error', optimizer='adam')\n",
    "  \n",
    "  monitor = EarlyStopping(monitor='val_loss', min_delta=1e-3, patience=5, verbose=1, mode='auto')\n",
    "\n",
    "   #Model Summary\n",
    "  print(model.summary())\n",
    "\n",
    "  model.fit([img_train,x_train],y_train, validation_data=([img_test,x_test],y_test), callbacks=[monitor,checkpointer],verbose=2,epochs=200)  \n",
    "\n",
    "  #Plotting Model\n",
    "  #plot_model(model, to_file='drive/My Drive/Colab Notebooks/multiple_inputs.png')\n"
   ]
  },
  {
   "cell_type": "code",
   "execution_count": 46,
   "metadata": {
    "colab": {
     "base_uri": "https://localhost:8080/",
     "height": 1000
    },
    "colab_type": "code",
    "id": "fKm58NFOMpci",
    "outputId": "c8edb9ce-81df-4d3c-c7ba-b2ef5596460d"
   },
   "outputs": [
    {
     "data": {
      "image/png": "[encoded data removed]",
      "text/plain": [
       "<IPython.core.display.Image object>"
      ]
     },
     "execution_count": 46,
     "metadata": {
      "tags": []
     },
     "output_type": "execute_result"
    }
   ],
   "source": [
    "#Plotting Model\n",
    "plot_model(model, to_file='drive/My Drive/Colab Notebooks/multiple_inputs.png')\n",
    "\n",
    "#model.fit([img_train,x_train],y_train, validation_data=([img_test,x_test],y_test), callbacks=[monitor,checkpointer],verbose=2,epochs=200)\n",
    "#model.load_weights('best_weights.hdf5')"
   ]
  },
  {
   "cell_type": "code",
   "execution_count": 0,
   "metadata": {
    "colab": {},
    "colab_type": "code",
    "id": "luutOHuLMpcl"
   },
   "outputs": [],
   "source": [
    "model.load_weights('best_weights.hdf5')\n",
    "pred = model.predict([img_test,x_test])\n",
    "pred *= max_price\n",
    "y_test *= max_price"
   ]
  },
  {
   "cell_type": "code",
   "execution_count": 48,
   "metadata": {
    "colab": {
     "base_uri": "https://localhost:8080/",
     "height": 304
    },
    "colab_type": "code",
    "id": "e3-9xQpHMpcn",
    "outputId": "55fa1432-b84a-4e04-d56c-141a62143fff"
   },
   "outputs": [
    {
     "name": "stdout",
     "output_type": "stream",
     "text": [
      "RMSE: 152460.5625\n",
      "R2 Score: 0.7575704893053345\n"
     ]
    },
    {
     "data": {
      "image/png": "[encoded data removed]",
      "text/plain": [
       "<Figure size 432x288 with 1 Axes>"
      ]
     },
     "metadata": {
      "tags": []
     },
     "output_type": "display_data"
    }
   ],
   "source": [
    "# Measure RMSE error.  RMSE is common for regression.\n",
    "rmse = np.sqrt(metrics.mean_squared_error(pred,y_test))\n",
    "print(\"RMSE: {}\".format(rmse))\n",
    "\n",
    "_r2_score = metrics.r2_score(y_test,pred)\n",
    "print(\"R2 Score: {}\".format(_r2_score))\n",
    "\n",
    "# Lift Chart\n",
    "chart_regression(pred.flatten(),y_test,sort=True)"
   ]
  }
 ],
 "metadata": {
  "accelerator": "GPU",
  "colab": {
   "collapsed_sections": [],
   "name": "MiniProject3.ipynb",
   "provenance": []
  },
  "kernelspec": {
   "display_name": "Python 3",
   "language": "python",
   "name": "python3"
  },
  "language_info": {
   "codemirror_mode": {
    "name": "ipython",
    "version": 3
   },
   "file_extension": ".py",
   "mimetype": "text/x-python",
   "name": "python",
   "nbconvert_exporter": "python",
   "pygments_lexer": "ipython3",
   "version": "3.7.3"
  }
 },
 "nbformat": 4,
 "nbformat_minor": 1
}
