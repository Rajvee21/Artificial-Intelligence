{
 "cells": [
  {
   "cell_type": "markdown",
   "metadata": {},
   "source": [
    "<h1>Importing dataset and function definitions</h1>"
   ]
  },
  {
   "cell_type": "code",
   "execution_count": 1,
   "metadata": {
    "colab": {},
    "colab_type": "code",
    "id": "X5D3qwrDeQ2w"
   },
   "outputs": [],
   "source": [
    "import collections\n",
    "from sklearn import preprocessing\n",
    "import matplotlib.pyplot as plt\n",
    "import numpy as np\n",
    "import pandas as pd\n",
    "import shutil\n",
    "import os\n",
    "from sklearn.metrics import roc_curve, auc\n",
    "%matplotlib inline\n",
    "\n",
    "# Encode text values to dummy variables(i.e. [1,0,0],[0,1,0],[0,0,1] for red,green,blue)\n",
    "def encode_text_dummy(df, name):\n",
    "    dummies = pd.get_dummies(df[name])\n",
    "    for x in dummies.columns:\n",
    "        dummy_name = \"{}-{}\".format(name, x)\n",
    "        df[dummy_name] = dummies[x]\n",
    "    df.drop(name, axis=1, inplace=True)\n",
    "\n",
    "\n",
    "\n",
    "# Encode text values to indexes(i.e. [1],[2],[3] for red,green,blue).\n",
    "def encode_text_index(df, name):\n",
    "    le = preprocessing.LabelEncoder()\n",
    "    df[name] = le.fit_transform(df[name])\n",
    "    return le.classes_\n",
    "\n",
    "\n",
    "# Encode a numeric column as zscores\n",
    "def encode_numeric_zscore(df, name, mean=None, sd=None):\n",
    "    if mean is None:\n",
    "        mean = df[name].mean()\n",
    "\n",
    "    if sd is None:\n",
    "        sd = df[name].std()\n",
    "\n",
    "    df[name] = (df[name] - mean) / sd\n",
    "\n",
    "\n",
    "# Convert all missing values in the specified column to the median\n",
    "def missing_median(df, name):\n",
    "    med = df[name].median()\n",
    "    df[name] = df[name].fillna(med)\n",
    "\n",
    "\n",
    "# Convert all missing values in the specified column to the default\n",
    "def missing_default(df, name, default_value):\n",
    "    df[name] = df[name].fillna(default_value)\n",
    "\n",
    "\n",
    "# Convert a Pandas dataframe to the x,y inputs that TensorFlow needs\n",
    "def to_xy(df, target):\n",
    "    result = []\n",
    "    for x in df.columns:\n",
    "        if x != target:\n",
    "            result.append(x)\n",
    "    # find out the type of the target column. \n",
    "    target_type = df[target].dtypes\n",
    "    target_type = target_type[0] if isinstance(target_type, collections.Sequence) else target_type\n",
    "    # Encode to int for classification, float otherwise. TensorFlow likes 32 bits.\n",
    "    if target_type in (np.int64, np.int32):\n",
    "        # Classification\n",
    "        dummies = pd.get_dummies(df[target])\n",
    "        return df[result].values.astype(np.float32), dummies.values.astype(np.float32)\n",
    "    else:\n",
    "        # Regression\n",
    "        return df[result].values.astype(np.float32), df[target].values.astype(np.float32)\n",
    "\n",
    "# Nicely formatted time string\n",
    "def hms_string(sec_elapsed):\n",
    "    h = int(sec_elapsed / (60 * 60))\n",
    "    m = int((sec_elapsed % (60 * 60)) / 60)\n",
    "    s = sec_elapsed % 60\n",
    "    return \"{}:{:>02}:{:>05.2f}\".format(h, m, s)\n",
    "\n",
    "\n",
    "# Regression chart.\n",
    "def chart_regression(pred,y,sort=True):\n",
    "    t = pd.DataFrame({'pred' : pred, 'y' : y.flatten()})\n",
    "    if sort:\n",
    "        t.sort_values(by=['y'],inplace=True)\n",
    "    a = plt.plot(t['y'].tolist(),label='expected')\n",
    "    b = plt.plot(t['pred'].tolist(),label='prediction')\n",
    "    plt.ylabel('output')\n",
    "    plt.legend()\n",
    "    plt.show()\n",
    "\n",
    "# Remove all rows where the specified column is +/- sd standard deviations\n",
    "def remove_outliers(df, name, sd):\n",
    "    drop_rows = df.index[(np.abs(df[name] - df[name].mean()) >= (sd * df[name].std()))]\n",
    "    df.drop(drop_rows, axis=0, inplace=True)\n",
    "\n",
    "\n",
    "# Encode a column to a range between normalized_low and normalized_high.\n",
    "def encode_numeric_range(df, name, normalized_low=-1, normalized_high=1,\n",
    "                         data_low=None, data_high=None):\n",
    "    if data_low is None:\n",
    "        data_low = min(df[name])\n",
    "        data_high = max(df[name])\n",
    "\n",
    "    df[name] = ((df[name] - data_low) / (data_high - data_low)) \\\n",
    "               * (normalized_high - normalized_low) + normalized_low\n",
    "\n",
    "    \n",
    "# Plot a confusion matrix.\n",
    "# cm is the confusion matrix, names are the names of the classes.\n",
    "def plot_confusion_matrix(cm, names, title='Confusion matrix', cmap=plt.cm.Blues):\n",
    "    plt.figure()\n",
    "    plt.imshow(cm, interpolation='nearest', cmap=cmap)\n",
    "    plt.title(title)\n",
    "    plt.colorbar()\n",
    "    tick_marks = np.arange(len(names))\n",
    "    plt.xticks(tick_marks, names, rotation=45)\n",
    "    plt.yticks(tick_marks, names)\n",
    "    plt.tight_layout()\n",
    "    plt.ylabel('True label')\n",
    "    plt.xlabel('Predicted label')\n",
    "    plt.show()\n",
    "    \n",
    "\n",
    "# Plot an ROC. pred - the predictions, y - the expected output.\n",
    "def plot_roc(pred,y):\n",
    "    fpr, tpr, thresholds = roc_curve(y, pred)\n",
    "    roc_auc = auc(fpr, tpr)\n",
    "\n",
    "    plt.figure()\n",
    "    plt.plot(fpr, tpr, label='ROC curve (area = %0.2f)' % roc_auc)\n",
    "    plt.plot([0, 1], [0, 1], 'k--')\n",
    "    plt.xlim([0.0, 1.0])\n",
    "    plt.ylim([0.0, 1.05])\n",
    "    plt.xlabel('False Positive Rate')\n",
    "    plt.ylabel('True Positive Rate')\n",
    "    plt.title('Receiver Operating Characteristic (ROC)')\n",
    "    plt.legend(loc=\"lower right\")\n",
    "    plt.show()"
   ]
  },
  {
   "cell_type": "code",
   "execution_count": 2,
   "metadata": {
    "colab": {
     "base_uri": "https://localhost:8080/",
     "height": 422
    },
    "colab_type": "code",
    "id": "ey9a4NXPeQ21",
    "outputId": "56903870-88dc-44de-e6e0-f1b5f477442a"
   },
   "outputs": [],
   "source": [
    "data_train=pd.read_csv(\"UNSW_NB15_training-set_csc215.csv\",na_values=['NA','-'])\n",
    "data_test=pd.read_csv(\"UNSW_NB15_test-set_csc215.csv\")"
   ]
  },
  {
   "cell_type": "code",
   "execution_count": 3,
   "metadata": {
    "colab": {},
    "colab_type": "code",
    "id": "8mc843kgeQ25"
   },
   "outputs": [],
   "source": [
    "def extraction_columns_(data_, cols_to_extract = []):\n",
    "    '''\n",
    "    This function removes the unnecessary columns\n",
    "    that have most values as distinct and unestimable\n",
    "    '''\n",
    "    data_extracted = data_.copy(deep = True)\n",
    "    if cols_to_extract == []:\n",
    "        data_limiter = 0.35 * data_.shape[0]\n",
    "        cols_to_extract = list()\n",
    "        for cols_ in data_.columns:\n",
    "            if cols_.startswith('ct_') or cols_.startswith('is_'):\n",
    "                cols_to_extract.append(cols_)\n",
    "            else:\n",
    "                nunique_ = data_.loc[:, cols_].nunique()\n",
    "                print(cols_, str(nunique_))\n",
    "                if nunique_ >= data_limiter:\n",
    "                    cols_to_extract.append(cols_)\n",
    "\n",
    "    data_extracted = data_extracted.drop(cols_to_extract, inplace = False, axis = 1)\n",
    "    return data_extracted, cols_to_extract\n",
    "\n",
    "\n",
    "def down_sampling(data_, target = 'label'):\n",
    "    '''\n",
    "    This function performs downsampling and make number of records almost equal for label values 0 and 1\n",
    "    '''\n",
    "    data_.loc[:, target].value_counts()\n",
    "    x_tempdatai = data_[data_[target] == 1].index.values\n",
    "    np.random.shuffle(x_tempdatai)\n",
    "    x_tempdatai1 = data_[data_[target] == 0].index.values\n",
    "    criterion_ = min(data_.loc[:, target].value_counts())\n",
    "    indices_selected = x_tempdatai[0 : criterion_ + 1]\n",
    "    indices_ = np.append(indices_selected, x_tempdatai1)\n",
    "    data_ = data_.loc[indices_, :]\n",
    "    return data_"
   ]
  },
  {
   "cell_type": "code",
   "execution_count": 4,
   "metadata": {},
   "outputs": [
    {
     "data": {
      "text/html": [
       "<div>\n",
       "<style scoped>\n",
       "    .dataframe tbody tr th:only-of-type {\n",
       "        vertical-align: middle;\n",
       "    }\n",
       "\n",
       "    .dataframe tbody tr th {\n",
       "        vertical-align: top;\n",
       "    }\n",
       "\n",
       "    .dataframe thead th {\n",
       "        text-align: right;\n",
       "    }\n",
       "</style>\n",
       "<table border=\"1\" class=\"dataframe\">\n",
       "  <thead>\n",
       "    <tr style=\"text-align: right;\">\n",
       "      <th></th>\n",
       "      <th>id</th>\n",
       "      <th>dur</th>\n",
       "      <th>proto</th>\n",
       "      <th>service</th>\n",
       "      <th>state</th>\n",
       "      <th>spkts</th>\n",
       "      <th>dpkts</th>\n",
       "      <th>sbytes</th>\n",
       "      <th>dbytes</th>\n",
       "      <th>rate</th>\n",
       "      <th>...</th>\n",
       "      <th>ct_dst_sport_ltm</th>\n",
       "      <th>ct_dst_src_ltm</th>\n",
       "      <th>is_ftp_login</th>\n",
       "      <th>ct_ftp_cmd</th>\n",
       "      <th>ct_flw_http_mthd</th>\n",
       "      <th>ct_src_ltm</th>\n",
       "      <th>ct_srv_dst</th>\n",
       "      <th>is_sm_ips_ports</th>\n",
       "      <th>attack_cat</th>\n",
       "      <th>label</th>\n",
       "    </tr>\n",
       "  </thead>\n",
       "  <tbody>\n",
       "    <tr>\n",
       "      <th>0</th>\n",
       "      <td>1</td>\n",
       "      <td>0.121478</td>\n",
       "      <td>tcp</td>\n",
       "      <td>NaN</td>\n",
       "      <td>FIN</td>\n",
       "      <td>6</td>\n",
       "      <td>4</td>\n",
       "      <td>258</td>\n",
       "      <td>172</td>\n",
       "      <td>74.087490</td>\n",
       "      <td>...</td>\n",
       "      <td>1</td>\n",
       "      <td>1</td>\n",
       "      <td>0</td>\n",
       "      <td>0</td>\n",
       "      <td>0</td>\n",
       "      <td>1</td>\n",
       "      <td>1</td>\n",
       "      <td>0</td>\n",
       "      <td>Normal</td>\n",
       "      <td>0</td>\n",
       "    </tr>\n",
       "    <tr>\n",
       "      <th>1</th>\n",
       "      <td>2</td>\n",
       "      <td>0.649902</td>\n",
       "      <td>tcp</td>\n",
       "      <td>NaN</td>\n",
       "      <td>FIN</td>\n",
       "      <td>14</td>\n",
       "      <td>38</td>\n",
       "      <td>734</td>\n",
       "      <td>42014</td>\n",
       "      <td>78.473372</td>\n",
       "      <td>...</td>\n",
       "      <td>1</td>\n",
       "      <td>2</td>\n",
       "      <td>0</td>\n",
       "      <td>0</td>\n",
       "      <td>0</td>\n",
       "      <td>1</td>\n",
       "      <td>6</td>\n",
       "      <td>0</td>\n",
       "      <td>Normal</td>\n",
       "      <td>0</td>\n",
       "    </tr>\n",
       "    <tr>\n",
       "      <th>2</th>\n",
       "      <td>3</td>\n",
       "      <td>1.623129</td>\n",
       "      <td>tcp</td>\n",
       "      <td>NaN</td>\n",
       "      <td>FIN</td>\n",
       "      <td>8</td>\n",
       "      <td>16</td>\n",
       "      <td>364</td>\n",
       "      <td>13186</td>\n",
       "      <td>14.170161</td>\n",
       "      <td>...</td>\n",
       "      <td>1</td>\n",
       "      <td>3</td>\n",
       "      <td>0</td>\n",
       "      <td>0</td>\n",
       "      <td>0</td>\n",
       "      <td>2</td>\n",
       "      <td>6</td>\n",
       "      <td>0</td>\n",
       "      <td>Normal</td>\n",
       "      <td>0</td>\n",
       "    </tr>\n",
       "    <tr>\n",
       "      <th>3</th>\n",
       "      <td>4</td>\n",
       "      <td>1.681642</td>\n",
       "      <td>tcp</td>\n",
       "      <td>ftp</td>\n",
       "      <td>FIN</td>\n",
       "      <td>12</td>\n",
       "      <td>12</td>\n",
       "      <td>628</td>\n",
       "      <td>770</td>\n",
       "      <td>13.677108</td>\n",
       "      <td>...</td>\n",
       "      <td>1</td>\n",
       "      <td>3</td>\n",
       "      <td>1</td>\n",
       "      <td>1</td>\n",
       "      <td>0</td>\n",
       "      <td>2</td>\n",
       "      <td>1</td>\n",
       "      <td>0</td>\n",
       "      <td>Normal</td>\n",
       "      <td>0</td>\n",
       "    </tr>\n",
       "    <tr>\n",
       "      <th>4</th>\n",
       "      <td>5</td>\n",
       "      <td>0.449454</td>\n",
       "      <td>tcp</td>\n",
       "      <td>NaN</td>\n",
       "      <td>FIN</td>\n",
       "      <td>10</td>\n",
       "      <td>6</td>\n",
       "      <td>534</td>\n",
       "      <td>268</td>\n",
       "      <td>33.373826</td>\n",
       "      <td>...</td>\n",
       "      <td>1</td>\n",
       "      <td>40</td>\n",
       "      <td>0</td>\n",
       "      <td>0</td>\n",
       "      <td>0</td>\n",
       "      <td>2</td>\n",
       "      <td>39</td>\n",
       "      <td>0</td>\n",
       "      <td>Normal</td>\n",
       "      <td>0</td>\n",
       "    </tr>\n",
       "  </tbody>\n",
       "</table>\n",
       "<p>5 rows × 45 columns</p>\n",
       "</div>"
      ],
      "text/plain": [
       "   id       dur proto service state  spkts  dpkts  sbytes  dbytes       rate  \\\n",
       "0   1  0.121478   tcp     NaN   FIN      6      4     258     172  74.087490   \n",
       "1   2  0.649902   tcp     NaN   FIN     14     38     734   42014  78.473372   \n",
       "2   3  1.623129   tcp     NaN   FIN      8     16     364   13186  14.170161   \n",
       "3   4  1.681642   tcp     ftp   FIN     12     12     628     770  13.677108   \n",
       "4   5  0.449454   tcp     NaN   FIN     10      6     534     268  33.373826   \n",
       "\n",
       "   ...  ct_dst_sport_ltm  ct_dst_src_ltm  is_ftp_login  ct_ftp_cmd  \\\n",
       "0  ...                 1               1             0           0   \n",
       "1  ...                 1               2             0           0   \n",
       "2  ...                 1               3             0           0   \n",
       "3  ...                 1               3             1           1   \n",
       "4  ...                 1              40             0           0   \n",
       "\n",
       "   ct_flw_http_mthd  ct_src_ltm  ct_srv_dst  is_sm_ips_ports  attack_cat  \\\n",
       "0                 0           1           1                0      Normal   \n",
       "1                 0           1           6                0      Normal   \n",
       "2                 0           2           6                0      Normal   \n",
       "3                 0           2           1                0      Normal   \n",
       "4                 0           2          39                0      Normal   \n",
       "\n",
       "   label  \n",
       "0      0  \n",
       "1      0  \n",
       "2      0  \n",
       "3      0  \n",
       "4      0  \n",
       "\n",
       "[5 rows x 45 columns]"
      ]
     },
     "execution_count": 4,
     "metadata": {},
     "output_type": "execute_result"
    }
   ],
   "source": [
    "data_train.head()"
   ]
  },
  {
   "cell_type": "markdown",
   "metadata": {},
   "source": [
    "<h1>Pre-processing</h1>"
   ]
  },
  {
   "cell_type": "code",
   "execution_count": 5,
   "metadata": {
    "colab": {},
    "colab_type": "code",
    "id": "XZ3GhMd2eQ28"
   },
   "outputs": [],
   "source": [
    "data_train.drop(labels=['id','service','state','proto','attack_cat'],axis=1,inplace=True)\n",
    "data_train.dropna(axis=0,inplace=True)\n",
    "data_test.drop(labels=['id','service','state','proto','attack_cat'],axis=1,inplace=True)\n",
    "data_test.dropna(axis=0,inplace=True)"
   ]
  },
  {
   "cell_type": "code",
   "execution_count": 6,
   "metadata": {
    "colab": {},
    "colab_type": "code",
    "id": "HinYHMYoeQ3B",
    "outputId": "82f1b651-f717-444e-f427-cfce692e694d"
   },
   "outputs": [
    {
     "data": {
      "text/html": [
       "<div>\n",
       "<style scoped>\n",
       "    .dataframe tbody tr th:only-of-type {\n",
       "        vertical-align: middle;\n",
       "    }\n",
       "\n",
       "    .dataframe tbody tr th {\n",
       "        vertical-align: top;\n",
       "    }\n",
       "\n",
       "    .dataframe thead th {\n",
       "        text-align: right;\n",
       "    }\n",
       "</style>\n",
       "<table border=\"1\" class=\"dataframe\">\n",
       "  <thead>\n",
       "    <tr style=\"text-align: right;\">\n",
       "      <th></th>\n",
       "      <th>dur</th>\n",
       "      <th>spkts</th>\n",
       "      <th>dpkts</th>\n",
       "      <th>sbytes</th>\n",
       "      <th>dbytes</th>\n",
       "      <th>rate</th>\n",
       "      <th>sttl</th>\n",
       "      <th>dttl</th>\n",
       "      <th>sload</th>\n",
       "      <th>dload</th>\n",
       "      <th>...</th>\n",
       "      <th>ct_src_dport_ltm</th>\n",
       "      <th>ct_dst_sport_ltm</th>\n",
       "      <th>ct_dst_src_ltm</th>\n",
       "      <th>is_ftp_login</th>\n",
       "      <th>ct_ftp_cmd</th>\n",
       "      <th>ct_flw_http_mthd</th>\n",
       "      <th>ct_src_ltm</th>\n",
       "      <th>ct_srv_dst</th>\n",
       "      <th>is_sm_ips_ports</th>\n",
       "      <th>label</th>\n",
       "    </tr>\n",
       "  </thead>\n",
       "  <tbody>\n",
       "    <tr>\n",
       "      <th>0</th>\n",
       "      <td>0.121478</td>\n",
       "      <td>6</td>\n",
       "      <td>4</td>\n",
       "      <td>258</td>\n",
       "      <td>172</td>\n",
       "      <td>74.087490</td>\n",
       "      <td>252</td>\n",
       "      <td>254</td>\n",
       "      <td>14158.942380</td>\n",
       "      <td>8495.365234</td>\n",
       "      <td>...</td>\n",
       "      <td>1</td>\n",
       "      <td>1</td>\n",
       "      <td>1</td>\n",
       "      <td>0</td>\n",
       "      <td>0</td>\n",
       "      <td>0</td>\n",
       "      <td>1</td>\n",
       "      <td>1</td>\n",
       "      <td>0</td>\n",
       "      <td>0</td>\n",
       "    </tr>\n",
       "    <tr>\n",
       "      <th>1</th>\n",
       "      <td>0.649902</td>\n",
       "      <td>14</td>\n",
       "      <td>38</td>\n",
       "      <td>734</td>\n",
       "      <td>42014</td>\n",
       "      <td>78.473372</td>\n",
       "      <td>62</td>\n",
       "      <td>252</td>\n",
       "      <td>8395.112305</td>\n",
       "      <td>503571.312500</td>\n",
       "      <td>...</td>\n",
       "      <td>1</td>\n",
       "      <td>1</td>\n",
       "      <td>2</td>\n",
       "      <td>0</td>\n",
       "      <td>0</td>\n",
       "      <td>0</td>\n",
       "      <td>1</td>\n",
       "      <td>6</td>\n",
       "      <td>0</td>\n",
       "      <td>0</td>\n",
       "    </tr>\n",
       "    <tr>\n",
       "      <th>2</th>\n",
       "      <td>1.623129</td>\n",
       "      <td>8</td>\n",
       "      <td>16</td>\n",
       "      <td>364</td>\n",
       "      <td>13186</td>\n",
       "      <td>14.170161</td>\n",
       "      <td>62</td>\n",
       "      <td>252</td>\n",
       "      <td>1572.271851</td>\n",
       "      <td>60929.230470</td>\n",
       "      <td>...</td>\n",
       "      <td>1</td>\n",
       "      <td>1</td>\n",
       "      <td>3</td>\n",
       "      <td>0</td>\n",
       "      <td>0</td>\n",
       "      <td>0</td>\n",
       "      <td>2</td>\n",
       "      <td>6</td>\n",
       "      <td>0</td>\n",
       "      <td>0</td>\n",
       "    </tr>\n",
       "    <tr>\n",
       "      <th>3</th>\n",
       "      <td>1.681642</td>\n",
       "      <td>12</td>\n",
       "      <td>12</td>\n",
       "      <td>628</td>\n",
       "      <td>770</td>\n",
       "      <td>13.677108</td>\n",
       "      <td>62</td>\n",
       "      <td>252</td>\n",
       "      <td>2740.178955</td>\n",
       "      <td>3358.622070</td>\n",
       "      <td>...</td>\n",
       "      <td>1</td>\n",
       "      <td>1</td>\n",
       "      <td>3</td>\n",
       "      <td>1</td>\n",
       "      <td>1</td>\n",
       "      <td>0</td>\n",
       "      <td>2</td>\n",
       "      <td>1</td>\n",
       "      <td>0</td>\n",
       "      <td>0</td>\n",
       "    </tr>\n",
       "    <tr>\n",
       "      <th>4</th>\n",
       "      <td>0.449454</td>\n",
       "      <td>10</td>\n",
       "      <td>6</td>\n",
       "      <td>534</td>\n",
       "      <td>268</td>\n",
       "      <td>33.373826</td>\n",
       "      <td>254</td>\n",
       "      <td>252</td>\n",
       "      <td>8561.499023</td>\n",
       "      <td>3987.059814</td>\n",
       "      <td>...</td>\n",
       "      <td>2</td>\n",
       "      <td>1</td>\n",
       "      <td>40</td>\n",
       "      <td>0</td>\n",
       "      <td>0</td>\n",
       "      <td>0</td>\n",
       "      <td>2</td>\n",
       "      <td>39</td>\n",
       "      <td>0</td>\n",
       "      <td>0</td>\n",
       "    </tr>\n",
       "  </tbody>\n",
       "</table>\n",
       "<p>5 rows × 40 columns</p>\n",
       "</div>"
      ],
      "text/plain": [
       "        dur  spkts  dpkts  sbytes  dbytes       rate  sttl  dttl  \\\n",
       "0  0.121478      6      4     258     172  74.087490   252   254   \n",
       "1  0.649902     14     38     734   42014  78.473372    62   252   \n",
       "2  1.623129      8     16     364   13186  14.170161    62   252   \n",
       "3  1.681642     12     12     628     770  13.677108    62   252   \n",
       "4  0.449454     10      6     534     268  33.373826   254   252   \n",
       "\n",
       "          sload          dload  ...  ct_src_dport_ltm  ct_dst_sport_ltm  \\\n",
       "0  14158.942380    8495.365234  ...                 1                 1   \n",
       "1   8395.112305  503571.312500  ...                 1                 1   \n",
       "2   1572.271851   60929.230470  ...                 1                 1   \n",
       "3   2740.178955    3358.622070  ...                 1                 1   \n",
       "4   8561.499023    3987.059814  ...                 2                 1   \n",
       "\n",
       "   ct_dst_src_ltm  is_ftp_login  ct_ftp_cmd  ct_flw_http_mthd  ct_src_ltm  \\\n",
       "0               1             0           0                 0           1   \n",
       "1               2             0           0                 0           1   \n",
       "2               3             0           0                 0           2   \n",
       "3               3             1           1                 0           2   \n",
       "4              40             0           0                 0           2   \n",
       "\n",
       "   ct_srv_dst  is_sm_ips_ports  label  \n",
       "0           1                0      0  \n",
       "1           6                0      0  \n",
       "2           6                0      0  \n",
       "3           1                0      0  \n",
       "4          39                0      0  \n",
       "\n",
       "[5 rows x 40 columns]"
      ]
     },
     "execution_count": 6,
     "metadata": {},
     "output_type": "execute_result"
    }
   ],
   "source": [
    "data_train.head()"
   ]
  },
  {
   "cell_type": "code",
   "execution_count": 7,
   "metadata": {
    "colab": {},
    "colab_type": "code",
    "id": "q-8s3pE5eQ3G",
    "outputId": "67f963af-c435-415e-87cd-33d0a8349356"
   },
   "outputs": [
    {
     "data": {
      "text/html": [
       "<div>\n",
       "<style scoped>\n",
       "    .dataframe tbody tr th:only-of-type {\n",
       "        vertical-align: middle;\n",
       "    }\n",
       "\n",
       "    .dataframe tbody tr th {\n",
       "        vertical-align: top;\n",
       "    }\n",
       "\n",
       "    .dataframe thead th {\n",
       "        text-align: right;\n",
       "    }\n",
       "</style>\n",
       "<table border=\"1\" class=\"dataframe\">\n",
       "  <thead>\n",
       "    <tr style=\"text-align: right;\">\n",
       "      <th></th>\n",
       "      <th>dur</th>\n",
       "      <th>spkts</th>\n",
       "      <th>dpkts</th>\n",
       "      <th>sbytes</th>\n",
       "      <th>dbytes</th>\n",
       "      <th>rate</th>\n",
       "      <th>sttl</th>\n",
       "      <th>dttl</th>\n",
       "      <th>sload</th>\n",
       "      <th>dload</th>\n",
       "      <th>...</th>\n",
       "      <th>ct_src_dport_ltm</th>\n",
       "      <th>ct_dst_sport_ltm</th>\n",
       "      <th>ct_dst_src_ltm</th>\n",
       "      <th>is_ftp_login</th>\n",
       "      <th>ct_ftp_cmd</th>\n",
       "      <th>ct_flw_http_mthd</th>\n",
       "      <th>ct_src_ltm</th>\n",
       "      <th>ct_srv_dst</th>\n",
       "      <th>is_sm_ips_ports</th>\n",
       "      <th>label</th>\n",
       "    </tr>\n",
       "  </thead>\n",
       "  <tbody>\n",
       "    <tr>\n",
       "      <th>0</th>\n",
       "      <td>0.000011</td>\n",
       "      <td>2</td>\n",
       "      <td>0</td>\n",
       "      <td>496</td>\n",
       "      <td>0</td>\n",
       "      <td>90909.0902</td>\n",
       "      <td>254</td>\n",
       "      <td>0</td>\n",
       "      <td>180363632.0</td>\n",
       "      <td>0.0</td>\n",
       "      <td>...</td>\n",
       "      <td>1</td>\n",
       "      <td>1</td>\n",
       "      <td>2</td>\n",
       "      <td>0</td>\n",
       "      <td>0</td>\n",
       "      <td>0</td>\n",
       "      <td>1</td>\n",
       "      <td>2</td>\n",
       "      <td>0</td>\n",
       "      <td>0</td>\n",
       "    </tr>\n",
       "    <tr>\n",
       "      <th>1</th>\n",
       "      <td>0.000008</td>\n",
       "      <td>2</td>\n",
       "      <td>0</td>\n",
       "      <td>1762</td>\n",
       "      <td>0</td>\n",
       "      <td>125000.0003</td>\n",
       "      <td>254</td>\n",
       "      <td>0</td>\n",
       "      <td>881000000.0</td>\n",
       "      <td>0.0</td>\n",
       "      <td>...</td>\n",
       "      <td>1</td>\n",
       "      <td>1</td>\n",
       "      <td>2</td>\n",
       "      <td>0</td>\n",
       "      <td>0</td>\n",
       "      <td>0</td>\n",
       "      <td>1</td>\n",
       "      <td>2</td>\n",
       "      <td>0</td>\n",
       "      <td>0</td>\n",
       "    </tr>\n",
       "    <tr>\n",
       "      <th>2</th>\n",
       "      <td>0.000005</td>\n",
       "      <td>2</td>\n",
       "      <td>0</td>\n",
       "      <td>1068</td>\n",
       "      <td>0</td>\n",
       "      <td>200000.0051</td>\n",
       "      <td>254</td>\n",
       "      <td>0</td>\n",
       "      <td>854400000.0</td>\n",
       "      <td>0.0</td>\n",
       "      <td>...</td>\n",
       "      <td>1</td>\n",
       "      <td>1</td>\n",
       "      <td>3</td>\n",
       "      <td>0</td>\n",
       "      <td>0</td>\n",
       "      <td>0</td>\n",
       "      <td>1</td>\n",
       "      <td>3</td>\n",
       "      <td>0</td>\n",
       "      <td>0</td>\n",
       "    </tr>\n",
       "    <tr>\n",
       "      <th>3</th>\n",
       "      <td>0.000006</td>\n",
       "      <td>2</td>\n",
       "      <td>0</td>\n",
       "      <td>900</td>\n",
       "      <td>0</td>\n",
       "      <td>166666.6608</td>\n",
       "      <td>254</td>\n",
       "      <td>0</td>\n",
       "      <td>600000000.0</td>\n",
       "      <td>0.0</td>\n",
       "      <td>...</td>\n",
       "      <td>2</td>\n",
       "      <td>1</td>\n",
       "      <td>3</td>\n",
       "      <td>0</td>\n",
       "      <td>0</td>\n",
       "      <td>0</td>\n",
       "      <td>2</td>\n",
       "      <td>3</td>\n",
       "      <td>0</td>\n",
       "      <td>0</td>\n",
       "    </tr>\n",
       "    <tr>\n",
       "      <th>4</th>\n",
       "      <td>0.000010</td>\n",
       "      <td>2</td>\n",
       "      <td>0</td>\n",
       "      <td>2126</td>\n",
       "      <td>0</td>\n",
       "      <td>100000.0025</td>\n",
       "      <td>254</td>\n",
       "      <td>0</td>\n",
       "      <td>850400000.0</td>\n",
       "      <td>0.0</td>\n",
       "      <td>...</td>\n",
       "      <td>2</td>\n",
       "      <td>1</td>\n",
       "      <td>3</td>\n",
       "      <td>0</td>\n",
       "      <td>0</td>\n",
       "      <td>0</td>\n",
       "      <td>2</td>\n",
       "      <td>3</td>\n",
       "      <td>0</td>\n",
       "      <td>0</td>\n",
       "    </tr>\n",
       "  </tbody>\n",
       "</table>\n",
       "<p>5 rows × 40 columns</p>\n",
       "</div>"
      ],
      "text/plain": [
       "        dur  spkts  dpkts  sbytes  dbytes         rate  sttl  dttl  \\\n",
       "0  0.000011      2      0     496       0   90909.0902   254     0   \n",
       "1  0.000008      2      0    1762       0  125000.0003   254     0   \n",
       "2  0.000005      2      0    1068       0  200000.0051   254     0   \n",
       "3  0.000006      2      0     900       0  166666.6608   254     0   \n",
       "4  0.000010      2      0    2126       0  100000.0025   254     0   \n",
       "\n",
       "         sload  dload  ...  ct_src_dport_ltm  ct_dst_sport_ltm  \\\n",
       "0  180363632.0    0.0  ...                 1                 1   \n",
       "1  881000000.0    0.0  ...                 1                 1   \n",
       "2  854400000.0    0.0  ...                 1                 1   \n",
       "3  600000000.0    0.0  ...                 2                 1   \n",
       "4  850400000.0    0.0  ...                 2                 1   \n",
       "\n",
       "   ct_dst_src_ltm  is_ftp_login  ct_ftp_cmd  ct_flw_http_mthd  ct_src_ltm  \\\n",
       "0               2             0           0                 0           1   \n",
       "1               2             0           0                 0           1   \n",
       "2               3             0           0                 0           1   \n",
       "3               3             0           0                 0           2   \n",
       "4               3             0           0                 0           2   \n",
       "\n",
       "   ct_srv_dst  is_sm_ips_ports  label  \n",
       "0           2                0      0  \n",
       "1           2                0      0  \n",
       "2           3                0      0  \n",
       "3           3                0      0  \n",
       "4           3                0      0  \n",
       "\n",
       "[5 rows x 40 columns]"
      ]
     },
     "execution_count": 7,
     "metadata": {},
     "output_type": "execute_result"
    }
   ],
   "source": [
    "data_test.head()"
   ]
  },
  {
   "cell_type": "code",
   "execution_count": 8,
   "metadata": {
    "colab": {},
    "colab_type": "code",
    "id": "d2X0bibAeQ3J",
    "outputId": "41890674-bce4-430f-b04f-b4484c600756"
   },
   "outputs": [
    {
     "data": {
      "text/plain": [
       "Index(['dur', 'spkts', 'dpkts', 'sbytes', 'dbytes', 'rate', 'sttl', 'dttl',\n",
       "       'sload', 'dload', 'sloss', 'dloss', 'sinpkt', 'dinpkt', 'sjit', 'djit',\n",
       "       'swin', 'stcpb', 'dtcpb', 'dwin', 'tcprtt', 'synack', 'ackdat', 'smean',\n",
       "       'dmean', 'trans_depth', 'response_body_len', 'ct_srv_src',\n",
       "       'ct_state_ttl', 'ct_dst_ltm', 'ct_src_dport_ltm', 'ct_dst_sport_ltm',\n",
       "       'ct_dst_src_ltm', 'is_ftp_login', 'ct_ftp_cmd', 'ct_flw_http_mthd',\n",
       "       'ct_src_ltm', 'ct_srv_dst', 'is_sm_ips_ports', 'label'],\n",
       "      dtype='object')"
      ]
     },
     "execution_count": 8,
     "metadata": {},
     "output_type": "execute_result"
    }
   ],
   "source": [
    "data_test.columns"
   ]
  },
  {
   "cell_type": "code",
   "execution_count": 9,
   "metadata": {
    "colab": {},
    "colab_type": "code",
    "id": "VLLYEeuyeQ3N",
    "outputId": "4b366d96-35df-4e6a-fe69-1ae0399cf496"
   },
   "outputs": [
    {
     "name": "stdout",
     "output_type": "stream",
     "text": [
      "(82332, 40)\n"
     ]
    }
   ],
   "source": [
    "print(data_test.shape)"
   ]
  },
  {
   "cell_type": "code",
   "execution_count": 10,
   "metadata": {
    "colab": {},
    "colab_type": "code",
    "id": "4uoQ6_1EeQ3R",
    "outputId": "1e6df5a4-44d8-4808-a530-f7557f18c4a2"
   },
   "outputs": [
    {
     "name": "stdout",
     "output_type": "stream",
     "text": [
      "dur 74039\n",
      "spkts 480\n",
      "dpkts 443\n",
      "sbytes 7214\n",
      "dbytes 6660\n",
      "rate 76991\n",
      "sttl 11\n",
      "dttl 6\n",
      "sload 80885\n",
      "dload 77474\n",
      "sloss 409\n",
      "dloss 370\n",
      "sinpkt 76161\n",
      "dinpkt 74245\n",
      "sjit 77532\n",
      "djit 76831\n",
      "swin 13\n",
      "stcpb 75265\n",
      "dtcpb 75089\n",
      "dwin 7\n",
      "tcprtt 43319\n",
      "synack 40142\n",
      "ackdat 37708\n",
      "smean 1357\n",
      "dmean 1328\n",
      "trans_depth 11\n",
      "response_body_len 2386\n",
      "label 2\n"
     ]
    }
   ],
   "source": [
    "x_trf, columns_ext = extraction_columns_(data_train, [])\n",
    "x_tef, _ = extraction_columns_(data_test, columns_ext)"
   ]
  },
  {
   "cell_type": "code",
   "execution_count": 11,
   "metadata": {
    "colab": {},
    "colab_type": "code",
    "id": "T4sgV3tpeQ3U",
    "outputId": "9f88190e-5952-4733-cf92-767dbd836105"
   },
   "outputs": [
    {
     "data": {
      "text/plain": [
       "['dur',\n",
       " 'rate',\n",
       " 'sload',\n",
       " 'dload',\n",
       " 'sinpkt',\n",
       " 'dinpkt',\n",
       " 'sjit',\n",
       " 'djit',\n",
       " 'stcpb',\n",
       " 'dtcpb',\n",
       " 'ct_srv_src',\n",
       " 'ct_state_ttl',\n",
       " 'ct_dst_ltm',\n",
       " 'ct_src_dport_ltm',\n",
       " 'ct_dst_sport_ltm',\n",
       " 'ct_dst_src_ltm',\n",
       " 'is_ftp_login',\n",
       " 'ct_ftp_cmd',\n",
       " 'ct_flw_http_mthd',\n",
       " 'ct_src_ltm',\n",
       " 'ct_srv_dst',\n",
       " 'is_sm_ips_ports']"
      ]
     },
     "execution_count": 11,
     "metadata": {},
     "output_type": "execute_result"
    }
   ],
   "source": [
    "columns_ext"
   ]
  },
  {
   "cell_type": "code",
   "execution_count": 12,
   "metadata": {},
   "outputs": [
    {
     "data": {
      "text/plain": [
       "((175341, 18), (82332, 18))"
      ]
     },
     "execution_count": 12,
     "metadata": {},
     "output_type": "execute_result"
    }
   ],
   "source": [
    "x_trf.shape,x_tef.shape"
   ]
  },
  {
   "cell_type": "code",
   "execution_count": 13,
   "metadata": {},
   "outputs": [],
   "source": [
    "#x_trf = x_trf.drop_duplicates(subset=x_trf.columns,keep=False)\n",
    "#x_tef = x_tef.drop_duplicates(subset=x_tef.columns,keep=False)"
   ]
  },
  {
   "cell_type": "code",
   "execution_count": 13,
   "metadata": {},
   "outputs": [
    {
     "data": {
      "text/plain": [
       "((175341, 18), (82332, 18))"
      ]
     },
     "execution_count": 13,
     "metadata": {},
     "output_type": "execute_result"
    }
   ],
   "source": [
    "x_trf.shape,x_tef.shape"
   ]
  },
  {
   "cell_type": "code",
   "execution_count": 14,
   "metadata": {
    "colab": {},
    "colab_type": "code",
    "id": "iwLl0PYHeQ3X",
    "outputId": "c7168dfe-bfde-479f-d3c9-50af6946a22c"
   },
   "outputs": [
    {
     "name": "stdout",
     "output_type": "stream",
     "text": [
      "1    119341\n",
      "0     56000\n",
      "Name: label, dtype: int64\n",
      "1    45332\n",
      "0    37000\n",
      "Name: label, dtype: int64\n"
     ]
    }
   ],
   "source": [
    "print(x_trf.loc[:, 'label'].value_counts())\n",
    "print(x_tef.loc[:, 'label'].value_counts())"
   ]
  },
  {
   "cell_type": "code",
   "execution_count": 16,
   "metadata": {},
   "outputs": [],
   "source": [
    "x_trf = down_sampling(x_trf, 'label')\n",
    "#x_tef = down_sampling(x_tef, 'label')"
   ]
  },
  {
   "cell_type": "code",
   "execution_count": 17,
   "metadata": {
    "colab": {},
    "colab_type": "code",
    "id": "0Snbu7nHeQ3y",
    "outputId": "9ad32870-d56a-42e7-e2c8-758fcdd31bdb"
   },
   "outputs": [
    {
     "data": {
      "text/plain": [
       "((112001, 18), (82332, 18))"
      ]
     },
     "execution_count": 17,
     "metadata": {},
     "output_type": "execute_result"
    }
   ],
   "source": [
    "x_trf.shape, x_tef.shape"
   ]
  },
  {
   "cell_type": "code",
   "execution_count": 18,
   "metadata": {
    "colab": {},
    "colab_type": "code",
    "id": "D5Mh9FjNeQ37"
   },
   "outputs": [],
   "source": [
    "x_train = x_trf.drop(['label'], axis = 1, inplace=False)\n",
    "y_train = x_trf.loc[:,'label']\n",
    "#x_train.reset_index(drop=True)\n",
    "#y_train.reset_index(drop=True)"
   ]
  },
  {
   "cell_type": "code",
   "execution_count": 19,
   "metadata": {
    "colab": {},
    "colab_type": "code",
    "id": "zEG7_NyJeQ4C"
   },
   "outputs": [],
   "source": [
    "x_test = x_tef.drop(['label'], axis = 1, inplace=False)\n",
    "y_test = x_tef.loc[:,'label']\n",
    "#x_test.reset_index(drop=True)\n",
    "#y_test.reset_index(drop=True)"
   ]
  },
  {
   "cell_type": "markdown",
   "metadata": {},
   "source": [
    "# Co-Relation Analysis"
   ]
  },
  {
   "cell_type": "code",
   "execution_count": 20,
   "metadata": {
    "colab": {},
    "colab_type": "code",
    "id": "84-RcywgeQ4J",
    "outputId": "4402c8fd-3c5b-4c7b-dd55-92f6eabf12b7"
   },
   "outputs": [
    {
     "data": {
      "text/plain": [
       "<matplotlib.axes._subplots.AxesSubplot at 0x1d155a80390>"
      ]
     },
     "execution_count": 20,
     "metadata": {},
     "output_type": "execute_result"
    },
    {
     "data": {
      "image/png": "[encoded data removed]",
      "text/plain": [
       "<Figure size 792x648 with 2 Axes>"
      ]
     },
     "metadata": {},
     "output_type": "display_data"
    }
   ],
   "source": [
    "from string import ascii_letters\n",
    "import seaborn as sns\n",
    "\n",
    "sns.set(style=\"white\")\n",
    "\n",
    "# Generate a large random dataset\n",
    "rs = np.random.RandomState(33)\n",
    "#d = pd.DataFrame(data=rs.normal(size=(100, 26)),\n",
    "#                 columns=list(ascii_letters[26:]))\n",
    "d = x_train\n",
    "# Compute the correlation matrix\n",
    "corr = d.corr()\n",
    "\n",
    "# Generate a mask for the upper triangle\n",
    "mask = np.zeros_like(corr, dtype=np.bool)\n",
    "mask[np.triu_indices_from(mask)] = True\n",
    "\n",
    "# Set up the matplotlib figure\n",
    "f, ax = plt.subplots(figsize=(11, 9))\n",
    "\n",
    "# Generate a custom diverging colormap\n",
    "cmap = sns.diverging_palette(220, 10, as_cmap=True)\n",
    "\n",
    "# Draw the heatmap with the mask and correct aspect ratio\n",
    "sns.heatmap(corr, mask=mask, cmap=cmap, vmax=.3, center=0,\n",
    "            square=True, linewidths=.5, cbar_kws={\"shrink\": .5})"
   ]
  },
  {
   "cell_type": "markdown",
   "metadata": {
    "colab": {},
    "colab_type": "code",
    "id": "cCQt5kwSeQ4e"
   },
   "source": [
    "# Normalization using Zscore"
   ]
  },
  {
   "cell_type": "code",
   "execution_count": 22,
   "metadata": {},
   "outputs": [],
   "source": [
    "for column_name in x_train.columns:\n",
    "    encode_numeric_zscore(x_train, column_name)\n",
    "    encode_numeric_zscore(x_test, column_name)"
   ]
  },
  {
   "cell_type": "code",
   "execution_count": 23,
   "metadata": {
    "colab": {},
    "colab_type": "code",
    "id": "eiKmS7bbeQ4h",
    "outputId": "5fe8d9b3-2b92-4eae-f9a4-86506dd01fbd"
   },
   "outputs": [],
   "source": [
    "#from sklearn.preprocessing import StandardScaler;\n",
    "#sc_x=StandardScaler();\n",
    "#x_train=sc_x.fit_transform(x_train);\n",
    "#x_test=sc_x.transform(x_test);"
   ]
  },
  {
   "cell_type": "code",
   "execution_count": 24,
   "metadata": {
    "colab": {},
    "colab_type": "code",
    "id": "aFMripoWeQ4l",
    "outputId": "35898243-a469-4ffb-97a4-c76d121b7f0b"
   },
   "outputs": [
    {
     "data": {
      "text/html": [
       "<div>\n",
       "<style scoped>\n",
       "    .dataframe tbody tr th:only-of-type {\n",
       "        vertical-align: middle;\n",
       "    }\n",
       "\n",
       "    .dataframe tbody tr th {\n",
       "        vertical-align: top;\n",
       "    }\n",
       "\n",
       "    .dataframe thead th {\n",
       "        text-align: right;\n",
       "    }\n",
       "</style>\n",
       "<table border=\"1\" class=\"dataframe\">\n",
       "  <thead>\n",
       "    <tr style=\"text-align: right;\">\n",
       "      <th></th>\n",
       "      <th>spkts</th>\n",
       "      <th>dpkts</th>\n",
       "      <th>sbytes</th>\n",
       "      <th>dbytes</th>\n",
       "      <th>sttl</th>\n",
       "      <th>dttl</th>\n",
       "      <th>sloss</th>\n",
       "      <th>dloss</th>\n",
       "      <th>swin</th>\n",
       "      <th>dwin</th>\n",
       "      <th>tcprtt</th>\n",
       "      <th>synack</th>\n",
       "      <th>ackdat</th>\n",
       "      <th>smean</th>\n",
       "      <th>dmean</th>\n",
       "      <th>trans_depth</th>\n",
       "      <th>response_body_len</th>\n",
       "    </tr>\n",
       "  </thead>\n",
       "  <tbody>\n",
       "    <tr>\n",
       "      <th>0</th>\n",
       "      <td>-0.124454</td>\n",
       "      <td>-0.151815</td>\n",
       "      <td>-0.043683</td>\n",
       "      <td>-0.087368</td>\n",
       "      <td>0.719436</td>\n",
       "      <td>-0.82039</td>\n",
       "      <td>-0.07353</td>\n",
       "      <td>-0.113243</td>\n",
       "      <td>-1.047913</td>\n",
       "      <td>-1.006238</td>\n",
       "      <td>-0.482022</td>\n",
       "      <td>-0.412907</td>\n",
       "      <td>-0.48407</td>\n",
       "      <td>0.520316</td>\n",
       "      <td>-0.475368</td>\n",
       "      <td>-0.173647</td>\n",
       "      <td>-0.04191</td>\n",
       "    </tr>\n",
       "    <tr>\n",
       "      <th>1</th>\n",
       "      <td>-0.124454</td>\n",
       "      <td>-0.151815</td>\n",
       "      <td>-0.036308</td>\n",
       "      <td>-0.087368</td>\n",
       "      <td>0.719436</td>\n",
       "      <td>-0.82039</td>\n",
       "      <td>-0.07353</td>\n",
       "      <td>-0.113243</td>\n",
       "      <td>-1.047913</td>\n",
       "      <td>-1.006238</td>\n",
       "      <td>-0.482022</td>\n",
       "      <td>-0.412907</td>\n",
       "      <td>-0.48407</td>\n",
       "      <td>3.556694</td>\n",
       "      <td>-0.475368</td>\n",
       "      <td>-0.173647</td>\n",
       "      <td>-0.04191</td>\n",
       "    </tr>\n",
       "    <tr>\n",
       "      <th>2</th>\n",
       "      <td>-0.124454</td>\n",
       "      <td>-0.151815</td>\n",
       "      <td>-0.040351</td>\n",
       "      <td>-0.087368</td>\n",
       "      <td>0.719436</td>\n",
       "      <td>-0.82039</td>\n",
       "      <td>-0.07353</td>\n",
       "      <td>-0.113243</td>\n",
       "      <td>-1.047913</td>\n",
       "      <td>-1.006238</td>\n",
       "      <td>-0.482022</td>\n",
       "      <td>-0.412907</td>\n",
       "      <td>-0.48407</td>\n",
       "      <td>1.892203</td>\n",
       "      <td>-0.475368</td>\n",
       "      <td>-0.173647</td>\n",
       "      <td>-0.04191</td>\n",
       "    </tr>\n",
       "    <tr>\n",
       "      <th>3</th>\n",
       "      <td>-0.124454</td>\n",
       "      <td>-0.151815</td>\n",
       "      <td>-0.041330</td>\n",
       "      <td>-0.087368</td>\n",
       "      <td>0.719436</td>\n",
       "      <td>-0.82039</td>\n",
       "      <td>-0.07353</td>\n",
       "      <td>-0.113243</td>\n",
       "      <td>-1.047913</td>\n",
       "      <td>-1.006238</td>\n",
       "      <td>-0.482022</td>\n",
       "      <td>-0.412907</td>\n",
       "      <td>-0.48407</td>\n",
       "      <td>1.489271</td>\n",
       "      <td>-0.475368</td>\n",
       "      <td>-0.173647</td>\n",
       "      <td>-0.04191</td>\n",
       "    </tr>\n",
       "    <tr>\n",
       "      <th>4</th>\n",
       "      <td>-0.124454</td>\n",
       "      <td>-0.151815</td>\n",
       "      <td>-0.034187</td>\n",
       "      <td>-0.087368</td>\n",
       "      <td>0.719436</td>\n",
       "      <td>-0.82039</td>\n",
       "      <td>-0.07353</td>\n",
       "      <td>-0.113243</td>\n",
       "      <td>-1.047913</td>\n",
       "      <td>-1.006238</td>\n",
       "      <td>-0.482022</td>\n",
       "      <td>-0.412907</td>\n",
       "      <td>-0.48407</td>\n",
       "      <td>4.429713</td>\n",
       "      <td>-0.475368</td>\n",
       "      <td>-0.173647</td>\n",
       "      <td>-0.04191</td>\n",
       "    </tr>\n",
       "  </tbody>\n",
       "</table>\n",
       "</div>"
      ],
      "text/plain": [
       "      spkts     dpkts    sbytes    dbytes      sttl     dttl    sloss  \\\n",
       "0 -0.124454 -0.151815 -0.043683 -0.087368  0.719436 -0.82039 -0.07353   \n",
       "1 -0.124454 -0.151815 -0.036308 -0.087368  0.719436 -0.82039 -0.07353   \n",
       "2 -0.124454 -0.151815 -0.040351 -0.087368  0.719436 -0.82039 -0.07353   \n",
       "3 -0.124454 -0.151815 -0.041330 -0.087368  0.719436 -0.82039 -0.07353   \n",
       "4 -0.124454 -0.151815 -0.034187 -0.087368  0.719436 -0.82039 -0.07353   \n",
       "\n",
       "      dloss      swin      dwin    tcprtt    synack   ackdat     smean  \\\n",
       "0 -0.113243 -1.047913 -1.006238 -0.482022 -0.412907 -0.48407  0.520316   \n",
       "1 -0.113243 -1.047913 -1.006238 -0.482022 -0.412907 -0.48407  3.556694   \n",
       "2 -0.113243 -1.047913 -1.006238 -0.482022 -0.412907 -0.48407  1.892203   \n",
       "3 -0.113243 -1.047913 -1.006238 -0.482022 -0.412907 -0.48407  1.489271   \n",
       "4 -0.113243 -1.047913 -1.006238 -0.482022 -0.412907 -0.48407  4.429713   \n",
       "\n",
       "      dmean  trans_depth  response_body_len  \n",
       "0 -0.475368    -0.173647           -0.04191  \n",
       "1 -0.475368    -0.173647           -0.04191  \n",
       "2 -0.475368    -0.173647           -0.04191  \n",
       "3 -0.475368    -0.173647           -0.04191  \n",
       "4 -0.475368    -0.173647           -0.04191  "
      ]
     },
     "execution_count": 24,
     "metadata": {},
     "output_type": "execute_result"
    }
   ],
   "source": [
    "x_test.head()"
   ]
  },
  {
   "cell_type": "markdown",
   "metadata": {},
   "source": [
    "<h1>Logistic Regression</h1>"
   ]
  },
  {
   "cell_type": "code",
   "execution_count": 25,
   "metadata": {
    "colab": {},
    "colab_type": "code",
    "id": "z81Rl7vYeQ4p",
    "outputId": "f1290fc7-d79c-45f3-a0e6-2c72d518e101"
   },
   "outputs": [
    {
     "name": "stderr",
     "output_type": "stream",
     "text": [
      "D:\\Anaconda\\lib\\site-packages\\sklearn\\linear_model\\logistic.py:433: FutureWarning: Default solver will be changed to 'lbfgs' in 0.22. Specify a solver to silence this warning.\n",
      "  FutureWarning)\n"
     ]
    },
    {
     "data": {
      "text/plain": [
       "LogisticRegression(C=1.0, class_weight=None, dual=False, fit_intercept=True,\n",
       "          intercept_scaling=1, max_iter=100, multi_class='warn',\n",
       "          n_jobs=None, penalty='l2', random_state=None, solver='warn',\n",
       "          tol=0.0001, verbose=0, warm_start=False)"
      ]
     },
     "execution_count": 25,
     "metadata": {},
     "output_type": "execute_result"
    }
   ],
   "source": [
    "from sklearn.linear_model import LogisticRegression\n",
    "from sklearn.metrics import confusion_matrix\n",
    "from sklearn.metrics import classification_report\n",
    "\n",
    "cl=LogisticRegression()\n",
    "cl.fit(x_train,y_train)"
   ]
  },
  {
   "cell_type": "code",
   "execution_count": 26,
   "metadata": {
    "colab": {},
    "colab_type": "code",
    "id": "J2s7dSs4eQ4s",
    "outputId": "73c780ba-6f94-4090-b540-4462de3b262c"
   },
   "outputs": [
    {
     "data": {
      "text/plain": [
       "array([ 7.65093962e-01, -1.90769236e+01,  6.30241925e-01, -1.08012337e+01,\n",
       "        2.24603333e+00,  2.65493957e+00,  8.40477416e+00,  2.86535244e+01,\n",
       "       -3.99726521e+00,  4.08267903e-01, -1.55077986e-01, -4.82156126e-01,\n",
       "        2.20570705e-01, -5.48273271e-01,  1.45985658e+00,  1.74020554e+00,\n",
       "       -4.89466773e-04])"
      ]
     },
     "execution_count": 26,
     "metadata": {},
     "output_type": "execute_result"
    }
   ],
   "source": [
    "coeff = cl.coef_[0]\n",
    "coeff"
   ]
  },
  {
   "cell_type": "code",
   "execution_count": 27,
   "metadata": {},
   "outputs": [
    {
     "data": {
      "text/plain": [
       "array([1, 0, 1, ..., 0, 0, 1], dtype=int64)"
      ]
     },
     "execution_count": 27,
     "metadata": {},
     "output_type": "execute_result"
    }
   ],
   "source": [
    "y_pred=cl.predict(x_test)\n",
    "y_pred"
   ]
  },
  {
   "cell_type": "code",
   "execution_count": 28,
   "metadata": {},
   "outputs": [],
   "source": [
    "#print(confusion_matrix(y_test, y_pred))"
   ]
  },
  {
   "cell_type": "code",
   "execution_count": 29,
   "metadata": {},
   "outputs": [],
   "source": [
    "#print(classification_report(y_test,y_pred))"
   ]
  },
  {
   "cell_type": "code",
   "execution_count": 30,
   "metadata": {},
   "outputs": [],
   "source": [
    "#coeff.shape[0]"
   ]
  },
  {
   "cell_type": "code",
   "execution_count": 31,
   "metadata": {
    "colab": {
     "base_uri": "https://localhost:8080/",
     "height": 132
    },
    "colab_type": "code",
    "id": "PWDCvxQ3irzM",
    "outputId": "2d244b07-d927-4bf4-927b-81ff57821bc4"
   },
   "outputs": [],
   "source": [
    "#col_to_extract2 = np.where((coeff <= 0.3) & (coeff >= -0.3))\n",
    "#col_to_extract2[0]"
   ]
  },
  {
   "cell_type": "code",
   "execution_count": 32,
   "metadata": {},
   "outputs": [
    {
     "data": {
      "text/plain": [
       "(82332, 17)"
      ]
     },
     "execution_count": 32,
     "metadata": {},
     "output_type": "execute_result"
    }
   ],
   "source": [
    "x_train.shape\n",
    "x_test.shape"
   ]
  },
  {
   "cell_type": "code",
   "execution_count": 33,
   "metadata": {},
   "outputs": [],
   "source": [
    "#x_train = np.delete(x_train.values,col_to_extract2[0],axis=1)\n",
    "#x_test = np.delete(x_test.values,col_to_extract2[0],axis=1)"
   ]
  },
  {
   "cell_type": "code",
   "execution_count": 34,
   "metadata": {},
   "outputs": [],
   "source": [
    "#x_train.shape\n",
    "#x_test.shape"
   ]
  },
  {
   "cell_type": "code",
   "execution_count": 35,
   "metadata": {},
   "outputs": [],
   "source": [
    "#cl.fit(x_train,y_train)\n",
    "#coeff = cl.coef_[0]\n",
    "#coeff"
   ]
  },
  {
   "cell_type": "code",
   "execution_count": 36,
   "metadata": {
    "colab": {},
    "colab_type": "code",
    "id": "fBaKmOAOeQ4v"
   },
   "outputs": [],
   "source": [
    "#y_pred=cl.predict(x_test)"
   ]
  },
  {
   "cell_type": "code",
   "execution_count": 37,
   "metadata": {
    "colab": {},
    "colab_type": "code",
    "id": "jSLZPYz4eQ4y",
    "outputId": "f9a5831b-dc69-40cc-8329-93540888a4cd"
   },
   "outputs": [],
   "source": [
    "#y_pred"
   ]
  },
  {
   "cell_type": "code",
   "execution_count": 38,
   "metadata": {
    "colab": {},
    "colab_type": "code",
    "id": "pi55I6_teQ46",
    "outputId": "eec4d3a6-d607-41e8-f134-61719a6e0c57"
   },
   "outputs": [
    {
     "name": "stdout",
     "output_type": "stream",
     "text": [
      "[[30945  6055]\n",
      " [ 8593 36739]]\n"
     ]
    },
    {
     "data": {
      "image/png": "[encoded data removed]",
      "text/plain": [
       "<Figure size 432x288 with 2 Axes>"
      ]
     },
     "metadata": {},
     "output_type": "display_data"
    }
   ],
   "source": [
    "cm = confusion_matrix(y_test,y_pred)\n",
    "print(cm)\n",
    "plot_confusion_matrix(cm,['0','1'])"
   ]
  },
  {
   "cell_type": "code",
   "execution_count": 39,
   "metadata": {
    "colab": {},
    "colab_type": "code",
    "id": "zcyPG3DDeQ4-",
    "outputId": "7a304fc9-a61f-4f5f-ab11-5d2bc0d0cde7"
   },
   "outputs": [
    {
     "name": "stdout",
     "output_type": "stream",
     "text": [
      "              precision    recall  f1-score   support\n",
      "\n",
      "           0       0.78      0.84      0.81     37000\n",
      "           1       0.86      0.81      0.83     45332\n",
      "\n",
      "   micro avg       0.82      0.82      0.82     82332\n",
      "   macro avg       0.82      0.82      0.82     82332\n",
      "weighted avg       0.82      0.82      0.82     82332\n",
      "\n"
     ]
    }
   ],
   "source": [
    "print(classification_report(y_test,y_pred))"
   ]
  },
  {
   "cell_type": "code",
   "execution_count": 40,
   "metadata": {},
   "outputs": [
    {
     "data": {
      "image/png": "[encoded data removed]",
      "text/plain": [
       "<Figure size 432x288 with 1 Axes>"
      ]
     },
     "metadata": {},
     "output_type": "display_data"
    }
   ],
   "source": [
    "plot_roc(y_pred,y_test)"
   ]
  },
  {
   "cell_type": "markdown",
   "metadata": {},
   "source": [
    "<h1>SVM</h1>"
   ]
  },
  {
   "cell_type": "code",
   "execution_count": 41,
   "metadata": {
    "colab": {},
    "colab_type": "code",
    "id": "LOnJEMdFeQ5D"
   },
   "outputs": [],
   "source": [
    "from sklearn.svm import SVC\n",
    "svm_object = SVC(kernel = 'rbf')\n",
    "svm_object.fit(x_train, y_train)\n",
    "y_pred = svm_object.predict(x_test)"
   ]
  },
  {
   "cell_type": "code",
   "execution_count": 42,
   "metadata": {
    "colab": {},
    "colab_type": "code",
    "id": "XD4613dxeQ5I",
    "outputId": "533c009c-17c6-4e77-c5c0-edf9e7ed5518"
   },
   "outputs": [
    {
     "name": "stdout",
     "output_type": "stream",
     "text": [
      "[[24105 12895]\n",
      " [ 1192 44140]]\n"
     ]
    },
    {
     "data": {
      "image/png": "[encoded data removed]",
      "text/plain": [
       "<Figure size 432x288 with 2 Axes>"
      ]
     },
     "metadata": {},
     "output_type": "display_data"
    }
   ],
   "source": [
    "cm = confusion_matrix(y_test,y_pred)\n",
    "print(cm)\n",
    "plot_confusion_matrix(cm,['0','1'])"
   ]
  },
  {
   "cell_type": "code",
   "execution_count": 43,
   "metadata": {
    "colab": {},
    "colab_type": "code",
    "id": "YTaRV6wmeQ5M",
    "outputId": "4ec77e18-42e0-436c-9e0a-ef49667946dd"
   },
   "outputs": [
    {
     "name": "stdout",
     "output_type": "stream",
     "text": [
      "              precision    recall  f1-score   support\n",
      "\n",
      "           0       0.95      0.65      0.77     37000\n",
      "           1       0.77      0.97      0.86     45332\n",
      "\n",
      "   micro avg       0.83      0.83      0.83     82332\n",
      "   macro avg       0.86      0.81      0.82     82332\n",
      "weighted avg       0.85      0.83      0.82     82332\n",
      "\n"
     ]
    }
   ],
   "source": [
    "print(classification_report(y_test,y_pred))"
   ]
  },
  {
   "cell_type": "code",
   "execution_count": 44,
   "metadata": {},
   "outputs": [
    {
     "data": {
      "image/png": "[encoded data removed]",
      "text/plain": [
       "<Figure size 432x288 with 1 Axes>"
      ]
     },
     "metadata": {},
     "output_type": "display_data"
    }
   ],
   "source": [
    "plot_roc(y_pred,y_test)"
   ]
  },
  {
   "cell_type": "markdown",
   "metadata": {},
   "source": [
    "<h1>KNN</h1>"
   ]
  },
  {
   "cell_type": "code",
   "execution_count": 45,
   "metadata": {},
   "outputs": [
    {
     "data": {
      "text/plain": [
       "KNeighborsClassifier(algorithm='auto', leaf_size=30, metric='minkowski',\n",
       "           metric_params=None, n_jobs=None, n_neighbors=5, p=2,\n",
       "           weights='uniform')"
      ]
     },
     "execution_count": 45,
     "metadata": {},
     "output_type": "execute_result"
    }
   ],
   "source": [
    "from sklearn.neighbors import KNeighborsClassifier\n",
    "classifier = KNeighborsClassifier(n_neighbors=5)\n",
    "classifier.fit(x_train, y_train)"
   ]
  },
  {
   "cell_type": "code",
   "execution_count": 46,
   "metadata": {},
   "outputs": [],
   "source": [
    "y_pred = classifier.predict(x_test)"
   ]
  },
  {
   "cell_type": "code",
   "execution_count": 47,
   "metadata": {},
   "outputs": [
    {
     "name": "stdout",
     "output_type": "stream",
     "text": [
      "[[27712  9288]\n",
      " [ 3121 42211]]\n"
     ]
    },
    {
     "data": {
      "image/png": "[encoded data removed]",
      "text/plain": [
       "<Figure size 432x288 with 2 Axes>"
      ]
     },
     "metadata": {},
     "output_type": "display_data"
    }
   ],
   "source": [
    "cm = confusion_matrix(y_test,y_pred)\n",
    "print(cm)\n",
    "plot_confusion_matrix(cm,['0','1'])"
   ]
  },
  {
   "cell_type": "code",
   "execution_count": 48,
   "metadata": {},
   "outputs": [
    {
     "name": "stdout",
     "output_type": "stream",
     "text": [
      "              precision    recall  f1-score   support\n",
      "\n",
      "           0       0.90      0.75      0.82     37000\n",
      "           1       0.82      0.93      0.87     45332\n",
      "\n",
      "   micro avg       0.85      0.85      0.85     82332\n",
      "   macro avg       0.86      0.84      0.84     82332\n",
      "weighted avg       0.86      0.85      0.85     82332\n",
      "\n"
     ]
    }
   ],
   "source": [
    "print(classification_report(y_test, y_pred))"
   ]
  },
  {
   "cell_type": "code",
   "execution_count": 49,
   "metadata": {},
   "outputs": [
    {
     "data": {
      "image/png": "[encoded data removed]",
      "text/plain": [
       "<Figure size 432x288 with 1 Axes>"
      ]
     },
     "metadata": {},
     "output_type": "display_data"
    }
   ],
   "source": [
    "plot_roc(y_pred,y_test)"
   ]
  },
  {
   "cell_type": "markdown",
   "metadata": {},
   "source": [
    "<h1>Nueral Network</h1>"
   ]
  },
  {
   "cell_type": "code",
   "execution_count": 50,
   "metadata": {},
   "outputs": [],
   "source": [
    "import os\n",
    "from sklearn import metrics\n",
    "from tensorflow.keras.models import Sequential\n",
    "from tensorflow.keras.layers import Dense, Activation\n",
    "from tensorflow.keras.callbacks import EarlyStopping\n",
    "from tensorflow.keras.callbacks import ModelCheckpoint\n",
    "from tensorflow.keras.utils import to_categorical"
   ]
  },
  {
   "cell_type": "code",
   "execution_count": 51,
   "metadata": {},
   "outputs": [],
   "source": [
    "x_train.values.astype(np.float32)\n",
    "x_test.values.astype(np.float32)\n",
    "y_train = to_categorical(y_train)             #don't do again and again\n",
    "y_test = to_categorical(y_test)            #don't do again and again"
   ]
  },
  {
   "cell_type": "code",
   "execution_count": 52,
   "metadata": {},
   "outputs": [
    {
     "data": {
      "text/plain": [
       "(array([[0., 1.],\n",
       "        [0., 1.],\n",
       "        [0., 1.],\n",
       "        ...,\n",
       "        [1., 0.],\n",
       "        [1., 0.],\n",
       "        [1., 0.]], dtype=float32), array([[1., 0.],\n",
       "        [1., 0.],\n",
       "        [1., 0.],\n",
       "        ...,\n",
       "        [1., 0.],\n",
       "        [1., 0.],\n",
       "        [1., 0.]], dtype=float32))"
      ]
     },
     "execution_count": 52,
     "metadata": {},
     "output_type": "execute_result"
    }
   ],
   "source": [
    "y_train,y_test"
   ]
  },
  {
   "cell_type": "code",
   "execution_count": 53,
   "metadata": {},
   "outputs": [
    {
     "name": "stdout",
     "output_type": "stream",
     "text": [
      "0\n",
      "WARNING:tensorflow:From D:\\Anaconda\\lib\\site-packages\\tensorflow\\python\\ops\\resource_variable_ops.py:435: colocate_with (from tensorflow.python.framework.ops) is deprecated and will be removed in a future version.\n",
      "Instructions for updating:\n",
      "Colocations handled automatically by placer.\n",
      "Train on 112001 samples, validate on 82332 samples\n",
      "WARNING:tensorflow:From D:\\Anaconda\\lib\\site-packages\\tensorflow\\python\\ops\\math_ops.py:3066: to_int32 (from tensorflow.python.ops.math_ops) is deprecated and will be removed in a future version.\n",
      "Instructions for updating:\n",
      "Use tf.cast instead.\n",
      "Epoch 1/50\n",
      " - 11s - loss: 0.2540 - val_loss: 0.3174\n",
      "Epoch 2/50\n",
      " - 8s - loss: 0.2075 - val_loss: 0.2942\n",
      "Epoch 3/50\n",
      " - 8s - loss: 0.2032 - val_loss: 0.2874\n",
      "Epoch 4/50\n",
      " - 8s - loss: 0.2008 - val_loss: 0.2882\n",
      "Epoch 5/50\n",
      " - 9s - loss: 0.1988 - val_loss: 0.2982\n",
      "Epoch 6/50\n",
      " - 8s - loss: 0.1969 - val_loss: 0.2867\n",
      "Epoch 7/50\n",
      " - 9s - loss: 0.1952 - val_loss: 0.2995\n",
      "Epoch 8/50\n",
      " - 9s - loss: 0.1934 - val_loss: 0.2857\n",
      "Epoch 9/50\n",
      " - 9s - loss: 0.1915 - val_loss: 0.2857\n",
      "Epoch 10/50\n",
      " - 9s - loss: 0.1895 - val_loss: 0.3001\n",
      "Epoch 11/50\n",
      " - 9s - loss: 0.1879 - val_loss: 0.3051\n",
      "Epoch 12/50\n",
      " - 9s - loss: 0.1863 - val_loss: 0.3010\n",
      "Epoch 13/50\n",
      " - 9s - loss: 0.1844 - val_loss: 0.3004\n",
      "Epoch 00013: early stopping\n",
      "1\n",
      "Train on 112001 samples, validate on 82332 samples\n",
      "Epoch 1/50\n",
      " - 9s - loss: 0.2456 - val_loss: 0.3279\n",
      "Epoch 2/50\n",
      " - 9s - loss: 0.2090 - val_loss: 0.3048\n",
      "Epoch 3/50\n",
      " - 9s - loss: 0.2047 - val_loss: 0.3043\n",
      "Epoch 4/50\n",
      " - 9s - loss: 0.2018 - val_loss: 0.3022\n",
      "Epoch 5/50\n",
      " - 9s - loss: 0.1989 - val_loss: 0.3014\n",
      "Epoch 6/50\n",
      " - 9s - loss: 0.1972 - val_loss: 0.2923\n",
      "Epoch 7/50\n",
      " - 9s - loss: 0.1957 - val_loss: 0.2917\n",
      "Epoch 8/50\n",
      " - 9s - loss: 0.1939 - val_loss: 0.3385\n",
      "Epoch 9/50\n",
      " - 9s - loss: 0.1924 - val_loss: 0.3061\n",
      "Epoch 10/50\n",
      " - 9s - loss: 0.1905 - val_loss: 0.2905\n",
      "Epoch 11/50\n",
      " - 9s - loss: 0.1883 - val_loss: 0.3291\n",
      "Epoch 12/50\n",
      " - 9s - loss: 0.1862 - val_loss: 0.3170\n",
      "Epoch 13/50\n",
      " - 9s - loss: 0.1845 - val_loss: 0.2782\n",
      "Epoch 14/50\n",
      " - 9s - loss: 0.1819 - val_loss: 0.2892\n",
      "Epoch 15/50\n",
      " - 9s - loss: 0.1807 - val_loss: 0.3121\n",
      "Epoch 16/50\n",
      " - 9s - loss: 0.1792 - val_loss: 0.3054\n",
      "Epoch 17/50\n",
      " - 9s - loss: 0.1781 - val_loss: 0.3327\n",
      "Epoch 18/50\n",
      " - 9s - loss: 0.1770 - val_loss: 0.2833\n",
      "Epoch 00018: early stopping\n",
      "2\n",
      "Train on 112001 samples, validate on 82332 samples\n",
      "Epoch 1/50\n",
      " - 9s - loss: 0.2552 - val_loss: 0.3306\n",
      "Epoch 2/50\n",
      " - 9s - loss: 0.2109 - val_loss: 0.3194\n",
      "Epoch 3/50\n",
      " - 10s - loss: 0.2046 - val_loss: 0.2957\n",
      "Epoch 4/50\n",
      " - 9s - loss: 0.2014 - val_loss: 0.2977\n",
      "Epoch 5/50\n",
      " - 9s - loss: 0.1981 - val_loss: 0.2865\n",
      "Epoch 6/50\n",
      " - 9s - loss: 0.1959 - val_loss: 0.2991\n",
      "Epoch 7/50\n",
      " - 9s - loss: 0.1937 - val_loss: 0.2978\n",
      "Epoch 8/50\n",
      " - 9s - loss: 0.1919 - val_loss: 0.3154\n",
      "Epoch 9/50\n",
      " - 9s - loss: 0.1902 - val_loss: 0.2967\n",
      "Epoch 10/50\n",
      " - 9s - loss: 0.1888 - val_loss: 0.2881\n",
      "Epoch 00010: early stopping\n",
      "Training finished...Loading the best model\n",
      "\n"
     ]
    }
   ],
   "source": [
    "\n",
    "checkpointer = ModelCheckpoint(filepath=\"best_weights.hdf5\", verbose=0, save_best_only=True)\n",
    "\n",
    "for i in range(3):\n",
    "    print(i)\n",
    "\n",
    "    model = Sequential()\n",
    "    model.add(Dense(64, input_dim=x_train.shape[1], activation='relu'))\n",
    "    model.add(Dense(32,activation='relu'))\n",
    "    model.add(Dense(32,activation='relu'))\n",
    "    model.add(Dense(y_train.shape[1],activation='softmax'))\n",
    "\n",
    "    model.compile(loss='categorical_crossentropy', optimizer='SGD')\n",
    "    monitor = EarlyStopping(monitor='val_loss', min_delta=1e-3, patience=5, verbose=1, mode='auto')\n",
    "    \n",
    "    model.fit(x_train, y_train,validation_data=(x_test,y_test),callbacks=[monitor,checkpointer],verbose=2,epochs=50)\n",
    "\n",
    "print('Training finished...Loading the best model')  \n",
    "print()\n",
    "model.load_weights('best_weights.hdf5')"
   ]
  },
  {
   "cell_type": "code",
   "execution_count": 54,
   "metadata": {},
   "outputs": [
    {
     "data": {
      "text/plain": [
       "array([[0.12371175, 0.87628824],\n",
       "       [0.3147072 , 0.6852928 ],\n",
       "       [0.56631035, 0.43368965],\n",
       "       ...,\n",
       "       [0.99153125, 0.00846881],\n",
       "       [0.99153125, 0.00846881],\n",
       "       [0.21853004, 0.78146994]], dtype=float32)"
      ]
     },
     "execution_count": 54,
     "metadata": {},
     "output_type": "execute_result"
    }
   ],
   "source": [
    "pred = model.predict(x_test)\n",
    "pred"
   ]
  },
  {
   "cell_type": "code",
   "execution_count": 55,
   "metadata": {},
   "outputs": [
    {
     "name": "stdout",
     "output_type": "stream",
     "text": [
      "[1 1 0 ... 0 0 1]\n"
     ]
    }
   ],
   "source": [
    "pred = np.argmax(pred,axis=1) # raw probabilities to choose class (highest probability)\n",
    "print(pred)"
   ]
  },
  {
   "cell_type": "code",
   "execution_count": 56,
   "metadata": {},
   "outputs": [
    {
     "name": "stdout",
     "output_type": "stream",
     "text": [
      "Accuracy score: 0.8839090511587232\n"
     ]
    }
   ],
   "source": [
    "y_true= np.argmax(y_test,axis=1) \n",
    "\n",
    "score = metrics.accuracy_score(y_true, pred)\n",
    "\n",
    "print(\"Accuracy score: {}\".format(score))"
   ]
  },
  {
   "cell_type": "code",
   "execution_count": 58,
   "metadata": {},
   "outputs": [
    {
     "name": "stdout",
     "output_type": "stream",
     "text": [
      "[[27712  9288]\n",
      " [ 3121 42211]]\n"
     ]
    },
    {
     "data": {
      "image/png": "[encoded data removed]",
      "text/plain": [
       "<Figure size 432x288 with 2 Axes>"
      ]
     },
     "metadata": {},
     "output_type": "display_data"
    }
   ],
   "source": [
    "cm = confusion_matrix(y_true,y_pred)\n",
    "print(cm)\n",
    "plot_confusion_matrix(cm,['0','1'])"
   ]
  },
  {
   "cell_type": "code",
   "execution_count": 59,
   "metadata": {},
   "outputs": [
    {
     "name": "stdout",
     "output_type": "stream",
     "text": [
      "Precision score: 0.8849016557975514\n"
     ]
    }
   ],
   "source": [
    "score = metrics.precision_score(y_true, pred, average= \"weighted\")\n",
    "print(\"Precision score: {}\".format(score))"
   ]
  },
  {
   "cell_type": "code",
   "execution_count": 60,
   "metadata": {},
   "outputs": [
    {
     "name": "stdout",
     "output_type": "stream",
     "text": [
      "Recall score: 0.8839090511587232\n"
     ]
    }
   ],
   "source": [
    "score = metrics.recall_score(y_true, pred, average= \"weighted\")\n",
    "print(\"Recall score: {}\".format(score))"
   ]
  },
  {
   "cell_type": "code",
   "execution_count": 61,
   "metadata": {},
   "outputs": [
    {
     "name": "stdout",
     "output_type": "stream",
     "text": [
      "F1 score: 0.8840904930713561\n"
     ]
    }
   ],
   "source": [
    "score = metrics.f1_score(y_true, pred, average= \"weighted\")\n",
    "print(\"F1 score: {}\".format(score))"
   ]
  },
  {
   "cell_type": "code",
   "execution_count": 62,
   "metadata": {},
   "outputs": [
    {
     "name": "stdout",
     "output_type": "stream",
     "text": [
      "              precision    recall  f1-score   support\n",
      "\n",
      "           0       0.86      0.89      0.87     37000\n",
      "           1       0.91      0.88      0.89     45332\n",
      "\n",
      "   micro avg       0.88      0.88      0.88     82332\n",
      "   macro avg       0.88      0.88      0.88     82332\n",
      "weighted avg       0.88      0.88      0.88     82332\n",
      "\n"
     ]
    }
   ],
   "source": [
    "print(metrics.classification_report(y_true, pred))"
   ]
  },
  {
   "cell_type": "code",
   "execution_count": 63,
   "metadata": {},
   "outputs": [
    {
     "data": {
      "image/png": "[encoded data removed]",
      "text/plain": [
       "<Figure size 432x288 with 1 Axes>"
      ]
     },
     "metadata": {},
     "output_type": "display_data"
    }
   ],
   "source": [
    "plot_roc(y_pred,y_true)"
   ]
  },
  {
   "cell_type": "code",
   "execution_count": null,
   "metadata": {},
   "outputs": [],
   "source": []
  }
 ],
 "metadata": {
  "colab": {
   "name": "Copy of Mini_Project_1-checkpoint.ipynb",
   "provenance": []
  },
  "kernelspec": {
   "display_name": "Python 3",
   "language": "python",
   "name": "python3"
  },
  "language_info": {
   "codemirror_mode": {
    "name": "ipython",
    "version": 3
   },
   "file_extension": ".py",
   "mimetype": "text/x-python",
   "name": "python",
   "nbconvert_exporter": "python",
   "pygments_lexer": "ipython3",
   "version": "3.7.3"
  }
 },
 "nbformat": 4,
 "nbformat_minor": 1
}
