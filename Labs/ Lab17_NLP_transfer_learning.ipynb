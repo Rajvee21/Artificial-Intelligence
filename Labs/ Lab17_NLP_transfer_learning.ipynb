{
  "cells": [
    {
      "cell_type": "markdown",
      "metadata": {
        "id": "pwfJVy_0ER6w"
      },
      "source": [
        "#### CSC 215 Artificial Intelligence (Spring 2023)\n",
        "\n",
        "#### Dr. Haiquan Chen, Dept of Computer Scicence\n",
        "\n",
        "#### California State University, Sacramento\n",
        "\n"
      ]
    },
    {
      "cell_type": "markdown",
      "metadata": {
        "id": "_jFzTaaFER61"
      },
      "source": [
        "## Lab 17: Transfer Learning on Natural Language Processing (a COVID-19 example)\n"
      ]
    },
    {
      "cell_type": "code",
      "source": [
        "# do this in Google Colab\n",
        "\n",
        "!pip install --upgrade gensim\n",
        "!pip install --upgrade numpy"
      ],
      "metadata": {
        "colab": {
          "base_uri": "https://localhost:8080/",
          "height": 850
        },
        "id": "8nX3ZNrlEWA3",
        "outputId": "137b7de9-9f90-4836-ae9d-5b0f3ad84a02"
      },
      "execution_count": 3,
      "outputs": [
        {
          "output_type": "stream",
          "name": "stdout",
          "text": [
            "Looking in indexes: https://pypi.org/simple, https://us-python.pkg.dev/colab-wheels/public/simple/\n",
            "Requirement already satisfied: gensim in /usr/local/lib/python3.8/dist-packages (4.3.0)\n",
            "Requirement already satisfied: numpy>=1.18.5 in /usr/local/lib/python3.8/dist-packages (from gensim) (1.24.2)\n",
            "Requirement already satisfied: smart-open>=1.8.1 in /usr/local/lib/python3.8/dist-packages (from gensim) (6.3.0)\n",
            "Requirement already satisfied: FuzzyTM>=0.4.0 in /usr/local/lib/python3.8/dist-packages (from gensim) (2.0.5)\n",
            "Requirement already satisfied: scipy>=1.7.0 in /usr/local/lib/python3.8/dist-packages (from gensim) (1.7.3)\n",
            "Requirement already satisfied: pandas in /usr/local/lib/python3.8/dist-packages (from FuzzyTM>=0.4.0->gensim) (1.3.5)\n",
            "Requirement already satisfied: pyfume in /usr/local/lib/python3.8/dist-packages (from FuzzyTM>=0.4.0->gensim) (0.2.25)\n",
            "Collecting numpy>=1.18.5\n",
            "  Downloading numpy-1.22.4-cp38-cp38-manylinux_2_17_x86_64.manylinux2014_x86_64.whl (16.9 MB)\n",
            "\u001b[2K     \u001b[90m━━━━━━━━━━━━━━━━━━━━━━━━━━━━━━━━━━━━━━━━\u001b[0m \u001b[32m16.9/16.9 MB\u001b[0m \u001b[31m84.9 MB/s\u001b[0m eta \u001b[36m0:00:00\u001b[0m\n",
            "\u001b[?25hRequirement already satisfied: python-dateutil>=2.7.3 in /usr/local/lib/python3.8/dist-packages (from pandas->FuzzyTM>=0.4.0->gensim) (2.8.2)\n",
            "Requirement already satisfied: pytz>=2017.3 in /usr/local/lib/python3.8/dist-packages (from pandas->FuzzyTM>=0.4.0->gensim) (2022.7.1)\n",
            "Requirement already satisfied: simpful in /usr/local/lib/python3.8/dist-packages (from pyfume->FuzzyTM>=0.4.0->gensim) (2.10.0)\n",
            "Requirement already satisfied: fst-pso in /usr/local/lib/python3.8/dist-packages (from pyfume->FuzzyTM>=0.4.0->gensim) (1.8.1)\n",
            "Requirement already satisfied: six>=1.5 in /usr/local/lib/python3.8/dist-packages (from python-dateutil>=2.7.3->pandas->FuzzyTM>=0.4.0->gensim) (1.15.0)\n",
            "Requirement already satisfied: miniful in /usr/local/lib/python3.8/dist-packages (from fst-pso->pyfume->FuzzyTM>=0.4.0->gensim) (0.0.6)\n",
            "Requirement already satisfied: requests in /usr/local/lib/python3.8/dist-packages (from simpful->pyfume->FuzzyTM>=0.4.0->gensim) (2.25.1)\n",
            "Requirement already satisfied: idna<3,>=2.5 in /usr/local/lib/python3.8/dist-packages (from requests->simpful->pyfume->FuzzyTM>=0.4.0->gensim) (2.10)\n",
            "Requirement already satisfied: certifi>=2017.4.17 in /usr/local/lib/python3.8/dist-packages (from requests->simpful->pyfume->FuzzyTM>=0.4.0->gensim) (2022.12.7)\n",
            "Requirement already satisfied: chardet<5,>=3.0.2 in /usr/local/lib/python3.8/dist-packages (from requests->simpful->pyfume->FuzzyTM>=0.4.0->gensim) (4.0.0)\n",
            "Requirement already satisfied: urllib3<1.27,>=1.21.1 in /usr/local/lib/python3.8/dist-packages (from requests->simpful->pyfume->FuzzyTM>=0.4.0->gensim) (1.24.3)\n",
            "Installing collected packages: numpy\n",
            "  Attempting uninstall: numpy\n",
            "    Found existing installation: numpy 1.24.2\n",
            "    Uninstalling numpy-1.24.2:\n",
            "      Successfully uninstalled numpy-1.24.2\n",
            "Successfully installed numpy-1.22.4\n"
          ]
        },
        {
          "output_type": "display_data",
          "data": {
            "application/vnd.colab-display-data+json": {
              "pip_warning": {
                "packages": [
                  "numpy"
                ]
              }
            }
          },
          "metadata": {}
        },
        {
          "output_type": "stream",
          "name": "stdout",
          "text": [
            "Looking in indexes: https://pypi.org/simple, https://us-python.pkg.dev/colab-wheels/public/simple/\n",
            "Requirement already satisfied: numpy in /usr/local/lib/python3.8/dist-packages (1.22.4)\n",
            "Collecting numpy\n",
            "  Using cached numpy-1.24.2-cp38-cp38-manylinux_2_17_x86_64.manylinux2014_x86_64.whl (17.3 MB)\n",
            "Installing collected packages: numpy\n",
            "  Attempting uninstall: numpy\n",
            "    Found existing installation: numpy 1.22.4\n",
            "    Uninstalling numpy-1.22.4:\n",
            "      Successfully uninstalled numpy-1.22.4\n",
            "\u001b[31mERROR: pip's dependency resolver does not currently take into account all the packages that are installed. This behaviour is the source of the following dependency conflicts.\n",
            "scipy 1.7.3 requires numpy<1.23.0,>=1.16.5, but you have numpy 1.24.2 which is incompatible.\n",
            "numba 0.56.4 requires numpy<1.24,>=1.18, but you have numpy 1.24.2 which is incompatible.\u001b[0m\u001b[31m\n",
            "\u001b[0mSuccessfully installed numpy-1.24.2\n"
          ]
        }
      ]
    },
    {
      "cell_type": "code",
      "execution_count": 1,
      "metadata": {
        "colab": {
          "base_uri": "https://localhost:8080/"
        },
        "id": "JVLfI5XzER62",
        "outputId": "6f75213f-55b0-446e-efb3-717ae9a79b0e"
      },
      "outputs": [
        {
          "output_type": "stream",
          "name": "stderr",
          "text": [
            "/usr/local/lib/python3.8/dist-packages/scipy/__init__.py:146: UserWarning: A NumPy version >=1.16.5 and <1.23.0 is required for this version of SciPy (detected version 1.24.2\n",
            "  warnings.warn(f\"A NumPy version >={np_minversion} and <{np_maxversion}\"\n"
          ]
        }
      ],
      "source": [
        "import json\n",
        "from gensim.models import Word2Vec\n",
        "import gensim\n",
        "import numpy as np\n",
        "from scipy import spatial\n",
        "import sys\n",
        "from sklearn.decomposition import PCA\n",
        "from matplotlib import pyplot\n",
        "from gensim.models import KeyedVectors\n",
        "\n",
        "import string\n",
        "\n",
        "import matplotlib.pyplot as plt\n",
        "import matplotlib.cm as cm\n",
        "from sklearn.manifold import TSNE\n",
        "\n",
        "import os\n",
        "import pandas as pd\n",
        "from gensim import corpora\n",
        "from pprint import pprint\n",
        "from gensim.utils import simple_preprocess\n"
      ]
    },
    {
      "cell_type": "markdown",
      "metadata": {
        "id": "9bllXgCWER63"
      },
      "source": [
        "### Dataset used\n",
        "\n",
        "\n",
        "https://www.kaggle.com/allen-institute-for-ai/CORD-19-research-challenge\n",
        "\n",
        "You can download a cleaned subset of dataset \"all_raw_articles.txt\" on Canvas and then upload it to Colab"
      ]
    },
    {
      "cell_type": "markdown",
      "metadata": {
        "id": "3oDs4JQ6ox3s"
      },
      "source": [
        "\n",
        "## Mount Google drive to colab"
      ]
    },
    {
      "cell_type": "code",
      "execution_count": 2,
      "metadata": {
        "id": "O4Bif01-U2eI",
        "colab": {
          "base_uri": "https://localhost:8080/"
        },
        "outputId": "c5d38209-8639-40e4-8770-4545e4dbdf5a"
      },
      "outputs": [
        {
          "output_type": "stream",
          "name": "stdout",
          "text": [
            "Mounted at /content/drive\n"
          ]
        }
      ],
      "source": [
        "from google.colab import drive\n",
        "drive.mount('/content/drive')"
      ]
    },
    {
      "cell_type": "markdown",
      "metadata": {
        "id": "7licHgc_ER64"
      },
      "source": [
        "## 1. Create and train model from scratch out of our COVID-19 dataset\n",
        "\n",
        "### Create and train model\n",
        "- Create a word2vec model and train it with the corpus\n",
        "- Key parameter description (https://radimrehurek.com/gensim/models/word2vec.html)\n",
        "    - **sentences**: training data (***has to be a list with tokenized sentences***)\n",
        "    - **vector_size (formerly: size)**: dimension of embedding space\n",
        "    - **sg**: Continuous Bag-of-Words model (CBOW) if 0 and the Skip-Gram model if 1. CBOW creates a sliding window around current word, to predict it from “context” — the surrounding words.  Skip-Gram model is actaully the opposite of CBOW. Instead of prediciting one word each time, we use 1 word to predict all surrounding words (“context”). \n",
        "    - **window**: number of words accounted for each context (if the window size is 3, 3 word in the left neighorhood and 3 word in the right neighborhood are considered)\n",
        "    - **min_count**: Ignores all words with total frequency lower than this\n",
        "    - **epochs (formerly: iter)**: number of training iterations\n",
        "    - **workers**: number of worker threads to train (if multicore machines)\n",
        "    \n",
        "For details,  go to http://mccormickml.com/2016/04/19/word2vec-tutorial-the-skip-gram-model/    \n",
        "    "
      ]
    },
    {
      "cell_type": "code",
      "execution_count": 3,
      "metadata": {
        "scrolled": true,
        "colab": {
          "base_uri": "https://localhost:8080/"
        },
        "id": "T08PF95xER65",
        "outputId": "1956a8d6-f1b6-402d-8519-307a337028eb"
      },
      "outputs": [
        {
          "output_type": "stream",
          "name": "stdout",
          "text": [
            "Num sentences: 45641\n"
          ]
        }
      ],
      "source": [
        "max_sentence_len = 40\n",
        "\n",
        "with open(\"drive/MyDrive/Colab Notebooks/215/all_raw_articles.txt\", encoding = 'utf-8') as file_:\n",
        "    docs = file_.readlines()\n",
        "    \n",
        "sentences = [[word for word in doc.lower().translate(str.maketrans('','',string.punctuation)).split()[:max_sentence_len]] for doc in docs]\n",
        "print('Num sentences:', len(sentences))\n"
      ]
    },
    {
      "cell_type": "code",
      "execution_count": 4,
      "metadata": {
        "colab": {
          "base_uri": "https://localhost:8080/"
        },
        "id": "EIpKcXltER67",
        "outputId": "761dfb4f-1892-49b7-d0ef-13842f708f28"
      },
      "outputs": [
        {
          "output_type": "execute_result",
          "data": {
            "text/plain": [
              "['globally',\n",
              " 'titanium',\n",
              " 'dioxide',\n",
              " 'nanoparticles',\n",
              " 'tio2nps',\n",
              " 'are',\n",
              " 'among',\n",
              " 'the',\n",
              " 'most',\n",
              " 'widely',\n",
              " 'produced',\n",
              " 'and',\n",
              " 'used',\n",
              " 'nanomaterials',\n",
              " 'nms',\n",
              " 'the',\n",
              " 'estimated',\n",
              " 'global',\n",
              " 'annual',\n",
              " 'production',\n",
              " 'of',\n",
              " 'tio2nps',\n",
              " 'is',\n",
              " 'currently',\n",
              " 'near',\n",
              " '12500',\n",
              " 'tons',\n",
              " '12',\n",
              " 'this',\n",
              " 'value',\n",
              " 'is',\n",
              " 'expected',\n",
              " 'to',\n",
              " 'reach',\n",
              " '25',\n",
              " 'million',\n",
              " 'metric',\n",
              " 'tons',\n",
              " 'by',\n",
              " '2025']"
            ]
          },
          "metadata": {},
          "execution_count": 4
        }
      ],
      "source": [
        "sentences[0]"
      ]
    },
    {
      "cell_type": "code",
      "execution_count": null,
      "metadata": {
        "colab": {
          "base_uri": "https://localhost:8080/"
        },
        "id": "5twx9ZxyER67",
        "outputId": "39bd8466-0102-47bb-f824-37cb45207706"
      },
      "outputs": [
        {
          "output_type": "stream",
          "name": "stdout",
          "text": [
            "\n",
            "Training word2vec...\n"
          ]
        }
      ],
      "source": [
        "# this code takes about 3-5 mins\n",
        "\n",
        "print('\\nTraining word2vec...')\n",
        "word_model = gensim.models.Word2Vec(sentences, vector_size=300, min_count=5, sg=1, window=5, epochs=100)\n",
        "\n",
        "pretrained_weights = word_model.wv.vectors\n",
        "\n",
        "vocab_size, emdedding_size = pretrained_weights.shape\n"
      ]
    },
    {
      "cell_type": "markdown",
      "metadata": {
        "id": "-0es1CjlER68"
      },
      "source": [
        "### Save and load model\n",
        "- word2vec model can be saved and loaded locally\n",
        "- Doing so can reduce time to train model again"
      ]
    },
    {
      "cell_type": "code",
      "execution_count": null,
      "metadata": {
        "id": "rOqQGzWiER68"
      },
      "outputs": [],
      "source": [
        "word_model.save('word2vec_model_scratch')"
      ]
    },
    {
      "cell_type": "code",
      "execution_count": null,
      "metadata": {
        "id": "hq_S5lv4ER69"
      },
      "outputs": [],
      "source": [
        "word_model = Word2Vec.load('word2vec_model_scratch')"
      ]
    },
    {
      "cell_type": "markdown",
      "metadata": {
        "id": "mW4l8CeyER69"
      },
      "source": [
        "### Test the model\n"
      ]
    },
    {
      "cell_type": "code",
      "execution_count": null,
      "metadata": {
        "colab": {
          "base_uri": "https://localhost:8080/"
        },
        "id": "EOP-EU3BER69",
        "outputId": "f72c8861-a241-417b-e24a-b67be11b6cc0"
      },
      "outputs": [
        {
          "output_type": "execute_result",
          "data": {
            "text/plain": [
              "[('229e', 0.45494067668914795),\n",
              " ('alphacoronavirus', 0.363269180059433),\n",
              " ('positivesense', 0.36013272404670715),\n",
              " ('coronaviridae', 0.3521665334701538),\n",
              " ('cov', 0.3470074236392975),\n",
              " ('enteric', 0.34311020374298096),\n",
              " ('feline', 0.34135347604751587),\n",
              " ('parainfluenza', 0.33307746052742004),\n",
              " ('bocavirus', 0.33228832483291626),\n",
              " ('fcov', 0.33221757411956787)]"
            ]
          },
          "metadata": {},
          "execution_count": 7
        }
      ],
      "source": [
        "word_model.wv.similar_by_word('coronavirus')"
      ]
    },
    {
      "cell_type": "code",
      "execution_count": null,
      "metadata": {
        "colab": {
          "base_uri": "https://localhost:8080/"
        },
        "id": "epIai_MFER69",
        "outputId": "6bd65c36-d86f-42e9-ba73-87a8b5050f10"
      },
      "outputs": [
        {
          "output_type": "execute_result",
          "data": {
            "text/plain": [
              "[('sore', 0.37610679864883423),\n",
              " ('signs', 0.37060874700546265),\n",
              " ('fever', 0.3660210072994232),\n",
              " ('diarrhea', 0.3563969135284424),\n",
              " ('bronchopneumonia', 0.3402290940284729),\n",
              " ('headache', 0.3362838625907898),\n",
              " ('clinical', 0.3353123068809509),\n",
              " ('chills', 0.31966760754585266),\n",
              " ('afebrile', 0.3196461796760559),\n",
              " ('indistinguishable', 0.3160141110420227)]"
            ]
          },
          "metadata": {},
          "execution_count": 8
        }
      ],
      "source": [
        "word_model.wv.similar_by_word('symptoms')"
      ]
    },
    {
      "cell_type": "code",
      "execution_count": null,
      "metadata": {
        "colab": {
          "base_uri": "https://localhost:8080/"
        },
        "id": "MnKdmEbGER6-",
        "outputId": "248206e4-4589-402c-d370-54014ff34570"
      },
      "outputs": [
        {
          "output_type": "execute_result",
          "data": {
            "text/plain": [
              "0.18185466527938843"
            ]
          },
          "metadata": {},
          "execution_count": 9
        }
      ],
      "source": [
        "v1 = word_model.wv['coronavirus']\n",
        "v2 = word_model.wv['bats']\n",
        "# define a function that computes cosine similarity between two words\n",
        "def cosine_similarity(v1, v2):\n",
        "    return 1 - spatial.distance.cosine(v1, v2)\n",
        "\n",
        "cosine_similarity(v1, v2)"
      ]
    },
    {
      "cell_type": "code",
      "execution_count": null,
      "metadata": {
        "colab": {
          "base_uri": "https://localhost:8080/"
        },
        "id": "wyugjTOaER6-",
        "outputId": "341d9b5d-123e-41f4-d19b-303eadea1fc6"
      },
      "outputs": [
        {
          "output_type": "execute_result",
          "data": {
            "text/plain": [
              "[('229e', 0.3837372064590454),\n",
              " ('syndrome', 0.36894330382347107),\n",
              " ('egos', 0.3585277199745178),\n",
              " ('diarrhea', 0.35492101311683655),\n",
              " ('bordetella', 0.354558527469635),\n",
              " ('bev', 0.3538719713687897),\n",
              " ('marburg', 0.3537840247154236),\n",
              " ('positivesense', 0.3517236113548279),\n",
              " ('indistinguishable', 0.3505419194698334),\n",
              " ('fcov', 0.34858787059783936)]"
            ]
          },
          "metadata": {},
          "execution_count": 10
        }
      ],
      "source": [
        "word_model.wv.most_similar(positive=['coronavirus', 'symptoms'])"
      ]
    },
    {
      "cell_type": "markdown",
      "metadata": {
        "id": "SgFp3JWBER6-"
      },
      "source": [
        "### Plot similar words in 2D space"
      ]
    },
    {
      "cell_type": "code",
      "execution_count": 14,
      "metadata": {
        "id": "wzVup1QJER6_"
      },
      "outputs": [],
      "source": [
        "def display_closestwords_tsnescatterplot(model, word):\n",
        "    \n",
        "    arr = np.empty((0,300), dtype='f')\n",
        "    word_labels = [word]\n",
        "\n",
        "    # get close words\n",
        "    close_words = model.wv.similar_by_word(word)\n",
        "    \n",
        "    # add the vector for each of the closest words to the array\n",
        "    arr = np.append(arr, np.array([model.wv[word]]), axis=0)\n",
        "    for wrd_score in close_words:\n",
        "        wrd_vector = model.wv[wrd_score[0]]\n",
        "        word_labels.append(wrd_score[0])\n",
        "        arr = np.append(arr, np.array([wrd_vector]), axis=0)\n",
        "        \n",
        "    # find tsne coords for 2 dimensions\n",
        "    tsne = TSNE(n_components=2, random_state=0)\n",
        "    np.set_printoptions(suppress=True)\n",
        "    Y = tsne.fit_transform(arr)\n",
        "\n",
        "    x_coords = Y[:, 0]\n",
        "    y_coords = Y[:, 1]\n",
        "    # display scatter plot\n",
        "    plt.scatter(x_coords, y_coords)\n",
        "\n",
        "    for label, x, y in zip(word_labels, x_coords, y_coords):\n",
        "        plt.annotate(label, xy=(x, y), xytext=(0, 0), textcoords='offset points')\n",
        "    plt.xlim(x_coords.min()+0.00005, x_coords.max()+0.00005)\n",
        "    plt.ylim(y_coords.min()+0.00005, y_coords.max()+0.00005)\n",
        "    plt.show()"
      ]
    },
    {
      "cell_type": "code",
      "execution_count": null,
      "metadata": {
        "colab": {
          "base_uri": "https://localhost:8080/",
          "height": 346
        },
        "id": "hx_m4Z1eER6_",
        "outputId": "b4611659-5a21-4542-a662-83a691f67620"
      },
      "outputs": [
        {
          "output_type": "stream",
          "name": "stderr",
          "text": [
            "/usr/local/lib/python3.8/dist-packages/sklearn/manifold/_t_sne.py:780: FutureWarning: The default initialization in TSNE will change from 'random' to 'pca' in 1.2.\n",
            "  warnings.warn(\n",
            "/usr/local/lib/python3.8/dist-packages/sklearn/manifold/_t_sne.py:790: FutureWarning: The default learning rate in TSNE will change from 200.0 to 'auto' in 1.2.\n",
            "  warnings.warn(\n"
          ]
        },
        {
          "output_type": "display_data",
          "data": {
            "text/plain": [
              "<Figure size 432x288 with 1 Axes>"
            ],
            "image/png": "[encoded data removed]"
          },
          "metadata": {
            "needs_background": "light"
          }
        }
      ],
      "source": [
        "display_closestwords_tsnescatterplot(word_model,'coronavirus')   "
      ]
    },
    {
      "cell_type": "code",
      "execution_count": null,
      "metadata": {
        "colab": {
          "base_uri": "https://localhost:8080/",
          "height": 346
        },
        "id": "lv95aCdlER6_",
        "outputId": "fdd9a7de-1052-4730-babc-89a1bb11bbe5"
      },
      "outputs": [
        {
          "output_type": "stream",
          "name": "stderr",
          "text": [
            "/usr/local/lib/python3.8/dist-packages/sklearn/manifold/_t_sne.py:780: FutureWarning: The default initialization in TSNE will change from 'random' to 'pca' in 1.2.\n",
            "  warnings.warn(\n",
            "/usr/local/lib/python3.8/dist-packages/sklearn/manifold/_t_sne.py:790: FutureWarning: The default learning rate in TSNE will change from 200.0 to 'auto' in 1.2.\n",
            "  warnings.warn(\n"
          ]
        },
        {
          "output_type": "display_data",
          "data": {
            "text/plain": [
              "<Figure size 432x288 with 1 Axes>"
            ],
            "image/png": "[encoded data removed]"
          },
          "metadata": {
            "needs_background": "light"
          }
        }
      ],
      "source": [
        "display_closestwords_tsnescatterplot(word_model,'symptoms')   "
      ]
    },
    {
      "cell_type": "markdown",
      "metadata": {
        "id": "6xmbet0fER6_"
      },
      "source": [
        "## 2. Load Google pre-trained word2vec model (Transfer Learning)\n",
        "\n",
        "\n",
        "\n",
        "### Download pre-trained word embeddings:  \n",
        "\n",
        "\n",
        "* [GoogleNews Vectors](https://code.google.com/archive/p/word2vec/), [GitHub Mirror](https://github.com/mmihaltz/word2vec-GoogleNews-vectors)\n",
        "\n",
        "* [Stanford GloVe](https://nlp.stanford.edu/projects/glove/)\n",
        "\n",
        "#### Load the word2vec model pre-trained on Google News corpus (3 billion running words) (3 million 300-dimension English word vectors).\n",
        "\n",
        "Download link: https://github.com/mmihaltz/word2vec-GoogleNews-vectors\n"
      ]
    },
    {
      "cell_type": "code",
      "execution_count": 5,
      "metadata": {
        "id": "RteNa1KfER7A"
      },
      "outputs": [],
      "source": [
        "# this may take 1 min\n",
        "\n",
        "#word2vec Google model - need 1.7 GB file\n",
        "filename = 'drive/MyDrive/Colab Notebooks/215/GoogleNews-vectors-negative300.bin.gz'\n",
        "model2 = KeyedVectors.load_word2vec_format(filename, binary=True)\n"
      ]
    },
    {
      "cell_type": "code",
      "execution_count": 6,
      "metadata": {
        "colab": {
          "base_uri": "https://localhost:8080/"
        },
        "id": "mlWpy--aER7A",
        "outputId": "ac41eee3-1e6f-4fca-a204-b4817871f4d8"
      },
      "outputs": [
        {
          "output_type": "execute_result",
          "data": {
            "text/plain": [
              "[('corona_virus', 0.7276226878166199),\n",
              " ('coronaviruses', 0.7216538190841675),\n",
              " ('paramyxovirus', 0.7113004326820374),\n",
              " ('SARS_coronavirus', 0.660190761089325),\n",
              " ('arenavirus', 0.6494410634040833),\n",
              " ('influenza_virus', 0.6449827551841736),\n",
              " ('H#N#_subtype', 0.6360140442848206),\n",
              " ('H#N#_strain', 0.6324742436408997),\n",
              " ('H7_virus', 0.6261192560195923),\n",
              " ('flu_virus', 0.6249204277992249)]"
            ]
          },
          "metadata": {},
          "execution_count": 6
        }
      ],
      "source": [
        "model2.most_similar(positive=['coronavirus'], topn=10)"
      ]
    },
    {
      "cell_type": "code",
      "execution_count": 7,
      "metadata": {
        "scrolled": true,
        "colab": {
          "base_uri": "https://localhost:8080/"
        },
        "id": "uMIY4t4hER7A",
        "outputId": "f8e8b218-167f-48ae-9752-c6efa4391b6e"
      },
      "outputs": [
        {
          "output_type": "execute_result",
          "data": {
            "text/plain": [
              "[('Business_BusinessNews', 0.26465803384780884),\n",
              " ('CROW_AGENCY_Mont', 0.25890251994132996),\n",
              " ('MINNESOTA_NEWS', 0.23259694874286652),\n",
              " ('E.Sadler_###-###', 0.2224021852016449),\n",
              " ('Federale', 0.22036875784397125),\n",
              " ('Sy_Schlueter_chief', 0.21728844940662384),\n",
              " ('M.Kenseth_###-###', 0.2157689332962036),\n",
              " ('Penalties_None', 0.21527300775051117),\n",
              " ('By_Claudia_Liburd', 0.2126707285642624),\n",
              " ('Abrams_M#A#_tank', 0.21011163294315338)]"
            ]
          },
          "metadata": {},
          "execution_count": 7
        }
      ],
      "source": [
        "model2.most_similar(negative=['symptoms'], topn=10)"
      ]
    },
    {
      "cell_type": "markdown",
      "metadata": {
        "id": "0T4dZ21qER7A"
      },
      "source": [
        "### Fine-tune Google's pre-trained word2vec embeddings on our COVID-19 dataset\n",
        "\n",
        "\n",
        "https://radimrehurek.com/gensim/models/word2vec.html\n",
        "\n",
        "\n",
        "\n",
        "#### 1. build_vocab() to build vocabulary. \n",
        "\n",
        "\n",
        "\n",
        "\n",
        "#### 2. intersect_word2vec_format() merges in an input-hidden weight matrix loaded from the original C word2vec-tool format, where it intersects with the current vocabulary.\n",
        "\n",
        "No words are added to the existing vocabulary, but intersecting words adopt the file’s weights, and non-intersecting words are left alone."
      ]
    },
    {
      "cell_type": "code",
      "execution_count": 8,
      "metadata": {
        "id": "r4ZUVEG4ER7B"
      },
      "outputs": [],
      "source": [
        "# this may take 1 min\n",
        "\n",
        "# size option needs to be set to 300 to be the same as Google's pre-trained model \n",
        "word2vec_model = Word2Vec(vector_size=300, min_count=5, sg=1, window=5, epochs=300)\n",
        "\n",
        "\n",
        "word2vec_model.build_vocab(sentences)\n",
        "\n",
        "word2vec_model.wv.vectors_lockf = np.ones(len(word2vec_model.wv))\n",
        "\n",
        "\n",
        "# assign the vectors to the vocabs that are in Google's pre-trained model and your sentences defined above.\n",
        "# lockf needs to be set to 1.0 to allow continued training.\n",
        "word2vec_model.wv.intersect_word2vec_format('drive/MyDrive/Colab Notebooks/215/GoogleNews-vectors-negative300.bin.gz', lockf=1.0, binary=True)"
      ]
    },
    {
      "cell_type": "markdown",
      "metadata": {
        "id": "mOu3SCg8ER7B"
      },
      "source": [
        "#### 3. train() to update weights/embeddings\n",
        "\n",
        "train() expects a sequence of sentences on input, not one sentence.\n",
        "\n",
        "train() only updates weights for existing feature vectors based on existing vocabulary. You cannot add new vocabulary (= new feature vectors) using train().\n",
        "\n"
      ]
    },
    {
      "cell_type": "code",
      "execution_count": 11,
      "metadata": {
        "colab": {
          "base_uri": "https://localhost:8080/"
        },
        "id": "SCKwszDiER7B",
        "outputId": "3abd67e2-eb00-4fdb-a656-0e008f888e81"
      },
      "outputs": [
        {
          "output_type": "execute_result",
          "data": {
            "text/plain": [
              "(2728161, 3770420)"
            ]
          },
          "metadata": {},
          "execution_count": 11
        }
      ],
      "source": [
        "# this may take 30 seconds\n",
        "\n",
        "# https://radimrehurek.com/gensim/models/word2vec.html#gensim.models.word2vec.Word2Vec.train\n",
        "\n",
        "word2vec_model.train(sentences,  # our COVID dataset \n",
        "                     total_examples=45641,      \n",
        "                     epochs = 5)"
      ]
    },
    {
      "cell_type": "code",
      "execution_count": null,
      "metadata": {
        "id": "263r6-5tER7B"
      },
      "outputs": [],
      "source": [
        "word2vec_model.save('word2vec_model_transfer')"
      ]
    },
    {
      "cell_type": "code",
      "execution_count": null,
      "metadata": {
        "id": "0urvU-uOER7B"
      },
      "outputs": [],
      "source": [
        "word2vec_model = Word2Vec.load('word2vec_model_transfer')"
      ]
    },
    {
      "cell_type": "code",
      "execution_count": 12,
      "metadata": {
        "colab": {
          "base_uri": "https://localhost:8080/"
        },
        "id": "OQ-ixpATER7C",
        "outputId": "c9de52e7-cfe7-4109-ea00-ad989a1e0f01"
      },
      "outputs": [
        {
          "output_type": "execute_result",
          "data": {
            "text/plain": [
              "[('coronaviruses', 0.7216538190841675),\n",
              " ('paramyxovirus', 0.6961820721626282),\n",
              " ('fecv', 0.6229164004325867),\n",
              " ('rhinoviruses', 0.609694242477417),\n",
              " ('serotype', 0.5851495265960693),\n",
              " ('retrovirus', 0.5848078727722168),\n",
              " ('positivesense', 0.577880859375),\n",
              " ('influenza', 0.57539302110672),\n",
              " ('rhinovirus', 0.575023889541626),\n",
              " ('virus', 0.5741950869560242),\n",
              " ('toxoplasma', 0.5669514536857605),\n",
              " ('herpesvirus', 0.5634392499923706),\n",
              " ('metapneumovirus', 0.5535969138145447),\n",
              " ('paramyxoviruses', 0.5535460710525513),\n",
              " ('babesiosis', 0.5515989065170288),\n",
              " ('bocavirus', 0.5511655807495117),\n",
              " ('parainfluenza', 0.5493844747543335),\n",
              " ('adenoviruses', 0.5452141165733337),\n",
              " ('enterovirus', 0.5440385937690735),\n",
              " ('flavivirus', 0.5428510904312134)]"
            ]
          },
          "metadata": {},
          "execution_count": 12
        }
      ],
      "source": [
        "word2vec_model.wv.most_similar(positive=['coronavirus'], topn=20)"
      ]
    },
    {
      "cell_type": "code",
      "execution_count": 15,
      "metadata": {
        "scrolled": true,
        "colab": {
          "base_uri": "https://localhost:8080/",
          "height": 346
        },
        "id": "HJpJySB-ER7C",
        "outputId": "9dfd75f3-5993-40c4-de4f-a28f99924856"
      },
      "outputs": [
        {
          "output_type": "stream",
          "name": "stderr",
          "text": [
            "/usr/local/lib/python3.8/dist-packages/sklearn/manifold/_t_sne.py:780: FutureWarning: The default initialization in TSNE will change from 'random' to 'pca' in 1.2.\n",
            "  warnings.warn(\n",
            "/usr/local/lib/python3.8/dist-packages/sklearn/manifold/_t_sne.py:790: FutureWarning: The default learning rate in TSNE will change from 200.0 to 'auto' in 1.2.\n",
            "  warnings.warn(\n"
          ]
        },
        {
          "output_type": "display_data",
          "data": {
            "text/plain": [
              "<Figure size 432x288 with 1 Axes>"
            ],
            "image/png": "[encoded data removed]"
          },
          "metadata": {
            "needs_background": "light"
          }
        }
      ],
      "source": [
        "display_closestwords_tsnescatterplot(word2vec_model,'coronavirus')"
      ]
    },
    {
      "cell_type": "code",
      "execution_count": 16,
      "metadata": {
        "colab": {
          "base_uri": "https://localhost:8080/"
        },
        "id": "aVIIQrq4ER7C",
        "outputId": "a9acc0a5-d368-43b6-906e-e0a8d6a92c37"
      },
      "outputs": [
        {
          "output_type": "execute_result",
          "data": {
            "text/plain": [
              "[('symptom', 0.6141738295555115),\n",
              " ('vomiting', 0.6136192083358765),\n",
              " ('nausea', 0.6018531918525696),\n",
              " ('sepsisassociated', 0.5818195939064026),\n",
              " ('shortness', 0.5731192231178284),\n",
              " ('abnormalities', 0.5617275238037109),\n",
              " ('fevers', 0.5584895014762878),\n",
              " ('headache', 0.5564916729927063),\n",
              " ('thyroiditis', 0.548612117767334),\n",
              " ('non‐specific', 0.54228276014328),\n",
              " ('dyspnea', 0.5413785576820374),\n",
              " ('afebrile', 0.5311680436134338),\n",
              " ('constipation', 0.5230088829994202),\n",
              " ('jaundice', 0.5204572677612305),\n",
              " ('ataxia', 0.5193161368370056),\n",
              " ('tachypnea', 0.5190548300743103),\n",
              " ('illnesses', 0.5151292085647583),\n",
              " ('meningoencephalitis', 0.5131151676177979),\n",
              " ('pcd', 0.5116012096405029),\n",
              " ('retroorbital', 0.5114557147026062)]"
            ]
          },
          "metadata": {},
          "execution_count": 16
        }
      ],
      "source": [
        "word2vec_model.wv.most_similar(positive=['symptoms'], topn=20)"
      ]
    },
    {
      "cell_type": "code",
      "execution_count": 17,
      "metadata": {
        "scrolled": false,
        "colab": {
          "base_uri": "https://localhost:8080/",
          "height": 346
        },
        "id": "4G2P2yQXER7C",
        "outputId": "4b765bb4-2b71-4152-bc12-dad75e84e024"
      },
      "outputs": [
        {
          "output_type": "stream",
          "name": "stderr",
          "text": [
            "/usr/local/lib/python3.8/dist-packages/sklearn/manifold/_t_sne.py:780: FutureWarning: The default initialization in TSNE will change from 'random' to 'pca' in 1.2.\n",
            "  warnings.warn(\n",
            "/usr/local/lib/python3.8/dist-packages/sklearn/manifold/_t_sne.py:790: FutureWarning: The default learning rate in TSNE will change from 200.0 to 'auto' in 1.2.\n",
            "  warnings.warn(\n"
          ]
        },
        {
          "output_type": "display_data",
          "data": {
            "text/plain": [
              "<Figure size 432x288 with 1 Axes>"
            ],
            "image/png": "[encoded data removed]"
          },
          "metadata": {
            "needs_background": "light"
          }
        }
      ],
      "source": [
        "display_closestwords_tsnescatterplot(word2vec_model,'symptoms')"
      ]
    },
    {
      "cell_type": "code",
      "execution_count": 18,
      "metadata": {
        "colab": {
          "base_uri": "https://localhost:8080/"
        },
        "id": "ZOxDputSER7C",
        "outputId": "18524411-2bee-4bf1-be04-bb3e74d700cb"
      },
      "outputs": [
        {
          "output_type": "execute_result",
          "data": {
            "text/plain": [
              "array([-0.45507812,  0.06787109,  0.08496094,  0.12402344, -0.27929688,\n",
              "       -0.20800781, -0.0133667 , -0.01672363,  0.38867188,  0.33984375,\n",
              "        0.6640625 , -0.46679688,  0.26757812, -0.01373291, -0.68359375,\n",
              "        0.4609375 , -0.20703125,  0.44140625,  0.09521484, -0.24707031,\n",
              "        0.20800781, -0.36523438,  0.04272461, -0.15039062, -0.02624512,\n",
              "        0.05053711, -0.10986328, -0.41796875,  0.40039062,  0.06079102,\n",
              "       -0.51953125, -0.58984375,  0.734375  , -0.12890625,  0.01544189,\n",
              "        0.13476562, -0.328125  ,  0.17089844,  0.42773438,  0.52734375,\n",
              "       -0.01953125, -0.3828125 , -0.58984375,  0.63671875,  0.05151367,\n",
              "       -0.37109375,  0.21484375,  0.1875    , -0.22949219,  0.31054688,\n",
              "       -0.04882812, -0.21679688, -0.11523438, -0.13769531, -0.234375  ,\n",
              "        0.44140625, -0.22460938,  0.21875   ,  0.10107422,  0.23535156,\n",
              "        0.15136719,  0.49609375, -0.14355469,  0.12011719,  0.11474609,\n",
              "       -0.37109375,  0.1953125 , -0.32226562, -0.20996094,  0.7734375 ,\n",
              "        0.37109375, -0.07714844,  0.36328125, -0.27539062, -0.21777344,\n",
              "       -0.21386719, -0.16601562, -0.91015625,  0.71484375, -0.23632812,\n",
              "        0.15039062, -0.07177734,  0.06152344, -0.18164062,  0.02612305,\n",
              "        0.29882812, -0.27148438,  0.08837891, -0.03222656, -0.265625  ,\n",
              "       -0.16210938, -0.25390625, -0.53125   ,  0.29492188,  0.37109375,\n",
              "        0.3203125 ,  0.23925781,  0.34375   , -0.25195312, -0.15136719,\n",
              "        0.02819824, -0.17578125,  0.32226562,  0.02539062,  0.13085938,\n",
              "       -0.07275391,  0.27734375,  0.6328125 ,  0.46679688,  0.31445312,\n",
              "       -0.24804688, -0.44335938,  0.35742188,  0.09667969,  0.47265625,\n",
              "        0.02099609, -0.46484375, -0.41992188,  0.28320312, -0.44335938,\n",
              "        0.01446533, -0.83203125,  0.17089844, -0.08886719, -0.02026367,\n",
              "       -0.02172852,  0.13476562, -0.12695312, -0.5390625 ,  0.08398438,\n",
              "        0.06396484, -0.09375   ,  0.07910156,  0.359375  , -0.28710938,\n",
              "        0.11816406, -0.11083984,  0.39453125, -0.22167969,  0.48828125,\n",
              "       -0.22460938,  0.45507812, -0.24023438,  0.2109375 , -0.14550781,\n",
              "        0.36523438,  0.07568359, -0.03320312, -0.24804688, -0.66015625,\n",
              "        0.12158203, -0.48242188, -0.375     ,  0.23242188,  0.33984375,\n",
              "       -0.21386719,  0.01391602, -0.19335938,  0.11230469,  0.03759766,\n",
              "       -0.07519531, -0.13769531,  0.5078125 , -0.08154297, -0.39648438,\n",
              "       -0.16796875,  0.01141357,  0.42382812, -0.3671875 , -0.13671875,\n",
              "        0.24121094,  0.36328125, -0.14648438, -0.19238281,  0.35546875,\n",
              "        0.05883789, -0.09375   ,  0.11816406, -0.22070312, -0.0111084 ,\n",
              "        0.25390625,  0.0625    , -0.06982422, -0.36328125,  0.07421875,\n",
              "       -0.61328125, -0.71484375,  0.34179688,  0.04907227,  0.06054688,\n",
              "        0.09619141,  0.14453125, -0.36914062,  0.13378906,  0.1875    ,\n",
              "        0.17285156,  0.52734375, -0.26367188,  0.22949219, -0.22949219,\n",
              "        0.83984375, -0.0201416 , -0.69140625,  0.20605469, -0.5546875 ,\n",
              "       -0.46289062,  0.52734375, -0.14648438,  0.54296875, -0.09326172,\n",
              "       -0.41210938,  0.04882812, -0.0559082 ,  0.21777344, -0.19726562,\n",
              "        0.4453125 ,  0.171875  ,  0.18359375,  0.13183594, -0.25390625,\n",
              "       -0.4921875 , -0.17089844,  0.28125   ,  0.21582031, -0.13183594,\n",
              "       -0.11181641,  0.08398438,  0.203125  , -0.38085938,  0.6015625 ,\n",
              "       -0.24511719,  0.20703125,  0.32617188, -0.13183594, -0.359375  ,\n",
              "        0.00509644, -0.10986328, -0.08935547,  0.47460938, -0.1953125 ,\n",
              "        0.10888672, -0.34765625,  0.18261719,  0.04907227,  0.29882812,\n",
              "        0.1328125 ,  0.41210938,  0.02148438,  0.05957031, -0.47460938,\n",
              "       -0.39257812, -0.18652344, -0.05957031, -0.09619141,  0.41210938,\n",
              "       -0.07568359, -0.3359375 ,  0.15722656, -0.20898438, -0.02685547,\n",
              "        0.01611328,  0.09179688,  0.09912109, -0.20019531,  0.32617188,\n",
              "        0.30078125,  0.27929688, -0.27734375, -0.23339844,  0.00958252,\n",
              "        0.06933594,  0.37890625, -0.17871094, -0.00509644,  0.6328125 ,\n",
              "       -0.19824219, -0.00302124,  0.09179688,  0.48242188,  0.22460938,\n",
              "        0.01251221, -0.16992188, -0.01403809,  0.16503906,  0.296875  ,\n",
              "       -0.40820312,  0.35742188, -0.03979492,  0.07421875,  0.01037598,\n",
              "        0.21679688,  0.25195312,  0.16992188,  0.33007812,  0.30273438,\n",
              "        0.38476562,  0.24902344,  0.20214844,  0.8828125 ,  0.02539062],\n",
              "      dtype=float32)"
            ]
          },
          "metadata": {},
          "execution_count": 18
        }
      ],
      "source": [
        "word2vec_model.wv['coronavirus']"
      ]
    },
    {
      "cell_type": "markdown",
      "metadata": {
        "id": "5IlRWfwKER7D"
      },
      "source": [
        "### Now you can feed the learned embeddings to your NN/CNN/RNN models as input"
      ]
    },
    {
      "cell_type": "markdown",
      "metadata": {
        "id": "6X9-9vHhER7D"
      },
      "source": [
        "## Bonus:  emoji2vec\n",
        "\n",
        "https://github.com/uclnlp/emoji2vec\n",
        "\n",
        "emoji2vec: Learning Emoji Representations from their Description the paper recently released by Ben Eisner, Tim Rocktäschel, Isabelle Augenstein, Matko Bošnjak, and Sebastian Riedel."
      ]
    },
    {
      "cell_type": "code",
      "execution_count": 19,
      "metadata": {
        "id": "vA5CryygER7D"
      },
      "outputs": [],
      "source": [
        "e2v = KeyedVectors.load_word2vec_format('drive/MyDrive/Colab Notebooks/215/emoji2vec.bin', binary=True)\n",
        "\n",
        "\n",
        "happy_vector = e2v['😂']    # Produces an embedding vector of length 300"
      ]
    },
    {
      "cell_type": "code",
      "execution_count": 20,
      "metadata": {
        "colab": {
          "base_uri": "https://localhost:8080/"
        },
        "id": "9r1Grw9UER7D",
        "outputId": "bd879a22-351a-4f03-bcea-6296f3cbe7de"
      },
      "outputs": [
        {
          "output_type": "execute_result",
          "data": {
            "text/plain": [
              "array([ 0.00368995, -0.00747812,  0.04797658,  0.0592004 , -0.0594517 ,\n",
              "       -0.01919357,  0.06628808, -0.06752758,  0.10211562,  0.087887  ,\n",
              "       -0.02949324, -0.07718539, -0.07068242,  0.04688684, -0.07970048,\n",
              "        0.09425059,  0.06230384,  0.09221437, -0.03019106, -0.08475313,\n",
              "        0.06153254,  0.08948752,  0.07492744, -0.0697182 ,  0.02842957,\n",
              "       -0.07775956, -0.00585377, -0.01818646,  0.07633407, -0.09874155,\n",
              "       -0.05507204,  0.04539224,  0.00842756, -0.06562244, -0.04902945,\n",
              "       -0.05832005,  0.07070394,  0.05070673,  0.05466724,  0.08123799,\n",
              "        0.06764334, -0.09264724,  0.07862549, -0.03581576,  0.02264971,\n",
              "       -0.00622183, -0.0318586 ,  0.0421854 , -0.05610641,  0.07420981,\n",
              "       -0.06671992, -0.05842454,  0.03449175,  0.07620545,  0.08768762,\n",
              "        0.03041447, -0.05500258, -0.03190211,  0.07291865, -0.04514114,\n",
              "       -0.0541351 ,  0.05987531, -0.0346354 , -0.01317827,  0.00849659,\n",
              "       -0.01372368, -0.01279207, -0.01283779, -0.07702036,  0.09149366,\n",
              "        0.0390107 ,  0.07108027, -0.01238731,  0.08397982, -0.08521689,\n",
              "       -0.06615324,  0.02603729,  0.07916152,  0.08146766,  0.09780202,\n",
              "       -0.05352468,  0.03703088,  0.02943622, -0.0411319 , -0.08929481,\n",
              "       -0.00907463, -0.07406733,  0.07654026,  0.07333956,  0.03913452,\n",
              "       -0.03275327,  0.0839721 , -0.09473041, -0.02795571, -0.10102268,\n",
              "        0.03562701,  0.06465388,  0.00239606, -0.01363948, -0.04439699,\n",
              "       -0.0908874 ,  0.03828626,  0.03901853, -0.01020065, -0.00448968,\n",
              "        0.07071512,  0.04707636,  0.00378791,  0.05759984,  0.01114361,\n",
              "       -0.03391467,  0.00760981,  0.06322926, -0.0880087 ,  0.06876363,\n",
              "       -0.07912473, -0.0028417 , -0.06997126,  0.02684613, -0.07514256,\n",
              "       -0.07525261,  0.04538977, -0.01857131, -0.09254144,  0.01272622,\n",
              "       -0.06651675, -0.07780645, -0.00054866,  0.01530222, -0.06704907,\n",
              "       -0.09591693, -0.04216382, -0.05920067,  0.04180467, -0.08473751,\n",
              "       -0.0091961 , -0.01856733,  0.06411888, -0.01504513,  0.00653571,\n",
              "        0.03186707, -0.04212012,  0.07634199, -0.08881496, -0.07597502,\n",
              "        0.03467466, -0.08546355, -0.05052061,  0.0900829 , -0.08306081,\n",
              "        0.09260429,  0.08704868, -0.0360002 ,  0.02944678, -0.05743967,\n",
              "       -0.00339006, -0.06426711,  0.04361258, -0.07921562, -0.0765662 ,\n",
              "        0.01060756,  0.06268018,  0.08522304,  0.06723925,  0.07288557,\n",
              "       -0.09302333,  0.02477937,  0.01172222,  0.00479384,  0.02157678,\n",
              "        0.01548687, -0.07941901, -0.01285125, -0.01106149, -0.05682039,\n",
              "        0.01480553,  0.07593461, -0.02521644,  0.0160483 , -0.02013016,\n",
              "       -0.0006516 , -0.0474901 ,  0.079786  ,  0.08490966, -0.07243283,\n",
              "        0.03765685, -0.08713188,  0.03943245, -0.06611194, -0.03412999,\n",
              "        0.02676374, -0.07299029,  0.0697734 , -0.05803109,  0.08248405,\n",
              "        0.06971692, -0.08738452, -0.00018618, -0.07082236, -0.04650601,\n",
              "       -0.05312995,  0.0649436 , -0.05497617, -0.07783619,  0.06110686,\n",
              "       -0.05441086, -0.0623476 ,  0.04429746, -0.05169839,  0.07030815,\n",
              "       -0.04818415,  0.05482576, -0.05496503, -0.07783284, -0.08059028,\n",
              "        0.06439808, -0.00520644, -0.0330755 , -0.07652996, -0.01107413,\n",
              "       -0.00750746,  0.08184698,  0.04372175,  0.07949491, -0.00567428,\n",
              "       -0.0624898 ,  0.02245951, -0.00251985, -0.02233904, -0.06598   ,\n",
              "        0.05270914, -0.01273476, -0.08402091,  0.03170872,  0.03557813,\n",
              "       -0.00872936, -0.0292008 , -0.05209661,  0.08882122,  0.08563904,\n",
              "        0.06974573,  0.04504047, -0.06368353, -0.02415369, -0.07969051,\n",
              "        0.09035778,  0.05923794,  0.04466449,  0.00783385, -0.03746437,\n",
              "        0.00996592,  0.02965579,  0.05722547,  0.08226684,  0.01086137,\n",
              "       -0.07542461, -0.07651414, -0.00404104, -0.08048932, -0.04402169,\n",
              "       -0.07493835,  0.00871058,  0.03949443,  0.056054  ,  0.02210577,\n",
              "        0.00656221,  0.02639471,  0.0557919 ,  0.01582586, -0.00514857,\n",
              "       -0.05831469,  0.08793064,  0.08895694, -0.0292627 ,  0.07007831,\n",
              "       -0.0333305 , -0.08543444, -0.00450068, -0.06502454, -0.00331638,\n",
              "        0.06480967, -0.0196905 , -0.04076313,  0.02563368,  0.06550946,\n",
              "       -0.06623957,  0.06932179,  0.03883428, -0.02262465,  0.03270576,\n",
              "       -0.06228965,  0.01850435, -0.09290913, -0.05605437, -0.09467187,\n",
              "       -0.0215614 , -0.02299731, -0.06261437,  0.00722107, -0.04899564],\n",
              "      dtype=float32)"
            ]
          },
          "metadata": {},
          "execution_count": 20
        }
      ],
      "source": [
        "happy_vector "
      ]
    },
    {
      "cell_type": "code",
      "execution_count": 21,
      "metadata": {
        "colab": {
          "base_uri": "https://localhost:8080/"
        },
        "id": "qJ1X6cvsER7D",
        "outputId": "d1a271bf-e488-4b29-a7bf-122b9db34cdc"
      },
      "outputs": [
        {
          "output_type": "execute_result",
          "data": {
            "text/plain": [
              "[('😹', 0.8721947073936462),\n",
              " ('😃', 0.6930503845214844),\n",
              " ('😆', 0.6827422976493835),\n",
              " ('😭', 0.671003520488739),\n",
              " ('😿', 0.6530010104179382),\n",
              " ('😢', 0.6413196921348572),\n",
              " ('😺', 0.619818925857544),\n",
              " ('😀', 0.5949568152427673),\n",
              " ('😊', 0.5913735032081604),\n",
              " ('☺️', 0.5856199264526367)]"
            ]
          },
          "metadata": {},
          "execution_count": 21
        }
      ],
      "source": [
        "e2v.most_similar(positive=['😂'], topn=10)"
      ]
    },
    {
      "cell_type": "code",
      "execution_count": 22,
      "metadata": {
        "colab": {
          "base_uri": "https://localhost:8080/"
        },
        "id": "jwwOtirvER7E",
        "outputId": "ef874e85-6394-4772-c344-af5dfe6a96b0"
      },
      "outputs": [
        {
          "output_type": "execute_result",
          "data": {
            "text/plain": [
              "[('⏳', 0.12211214005947113),\n",
              " ('👰🏿', 0.11871223896741867),\n",
              " ('☸', 0.09855016320943832),\n",
              " ('🙍🏻', 0.0953911617398262),\n",
              " ('🙏🏿', 0.07736988365650177),\n",
              " ('🔲', 0.07499483972787857),\n",
              " ('⚾️', 0.07397320866584778),\n",
              " ('🤜', 0.070037342607975),\n",
              " ('💇🏽', 0.0686764121055603),\n",
              " ('👩\\u200d👩\\u200d👧\\u200d👦', 0.05706221982836723)]"
            ]
          },
          "metadata": {},
          "execution_count": 22
        }
      ],
      "source": [
        "e2v.most_similar(negative=['😂'], topn=10)"
      ]
    },
    {
      "cell_type": "code",
      "execution_count": 23,
      "metadata": {
        "id": "zmmxdjAlER7E"
      },
      "outputs": [],
      "source": [
        "#word2vec Google model - need 1.7GB file\n",
        "#filename = 'drive/MyDrive/Colab Notebooks/215/GoogleNews-vectors-negative300.bin.gz'\n",
        "#model2 = KeyedVectors.load_word2vec_format(filename, binary=True)"
      ]
    },
    {
      "cell_type": "code",
      "execution_count": 24,
      "metadata": {
        "colab": {
          "base_uri": "https://localhost:8080/"
        },
        "id": "d1dCl9WQER7E",
        "outputId": "31a98585-cdee-4943-9d51-f84221f6474c"
      },
      "outputs": [
        {
          "output_type": "execute_result",
          "data": {
            "text/plain": [
              "0.5871525406837463"
            ]
          },
          "metadata": {},
          "execution_count": 24
        }
      ],
      "source": [
        "v1 = e2v['😂']\n",
        "v2 = model2['happy']\n",
        "# define a function that computes cosine similarity between two words\n",
        "def cosine_similarity(v1, v2):\n",
        "    return 1 - spatial.distance.cosine(v1, v2)\n",
        "\n",
        "cosine_similarity(v1, v2)"
      ]
    },
    {
      "cell_type": "markdown",
      "metadata": {
        "id": "nhGfJVvEER7E"
      },
      "source": [
        "### Appendix:   code for preprocessing the COVID-19 data\n",
        "\n",
        "https://www.kaggle.com/allen-institute-for-ai/CORD-19-research-challenge"
      ]
    },
    {
      "cell_type": "code",
      "execution_count": null,
      "metadata": {
        "id": "iLSlQWUMER7E"
      },
      "outputs": [],
      "source": [
        "# reading raw JSON files into a txt file\n",
        "\n",
        "def readFiles(directory_list):\n",
        "  json_dict = {}\n",
        "  sentence = []\n",
        "  tokens = []\n",
        "  f = open(\"all_raw_articles.txt\", \"a\")\n",
        "  count = 0\n",
        "  for directory in directory_list:\n",
        "    for filename in os.listdir(directory):\n",
        "        full_file_path = os.path.join(directory, filename)\n",
        "        with open (full_file_path) as json_file:\n",
        "          data = json.load(json_file)\n",
        "          for body_index, x in enumerate (data['body_text']):\n",
        "            for text_index, i in enumerate (data['body_text'][body_index]['text']):\n",
        "              f.write(data[\"body_text\"][body_index][\"text\"][text_index])\n",
        "              sentence.append(data['body_text'][body_index]['text'][text_index])\n",
        "              tokens.append(simple_preprocess(sentence[count]))\n",
        "              count +=1\n",
        "\n",
        "  f.close()\n",
        "  return tokens       \n",
        "\n",
        "directory_list = ['/content/drive//My Drive/CORD-19-research-challenge/noncomm_use_subset/noncomm_use_subset/pmc_json/',\n",
        "                  '/content/drive//My Drive/CORD-19-research-challenge/biorxiv_medrxiv/biorxiv_medrxiv/pdf_json/',\n",
        "                  '/content/drive//My Drive/CORD-19-research-challenge/comm_use_subset/comm_use_subset/pmc_json/']\n",
        "\n",
        "#Get the words as tokens from reading JSON files\n",
        "tokens = readFiles(directory_list)\n"
      ]
    }
  ],
  "metadata": {
    "kernelspec": {
      "display_name": "base",
      "language": "python",
      "name": "python3"
    },
    "language_info": {
      "codemirror_mode": {
        "name": "ipython",
        "version": 3
      },
      "file_extension": ".py",
      "mimetype": "text/x-python",
      "name": "python",
      "nbconvert_exporter": "python",
      "pygments_lexer": "ipython3",
      "version": "3.8.8"
    },
    "vscode": {
      "interpreter": {
        "hash": "ad2bdc8ecc057115af97d19610ffacc2b4e99fae6737bb82f5d7fb13d2f2c186"
      }
    },
    "colab": {
      "provenance": []
    },
    "accelerator": "GPU",
    "gpuClass": "standard"
  },
  "nbformat": 4,
  "nbformat_minor": 0
}